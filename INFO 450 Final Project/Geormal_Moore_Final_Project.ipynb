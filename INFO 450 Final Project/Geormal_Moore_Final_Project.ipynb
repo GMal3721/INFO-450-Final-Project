{
 "cells": [
  {
   "cell_type": "markdown",
   "id": "ce621706",
   "metadata": {},
   "source": [
    " Importing library dependencies"
   ]
  },
  {
   "cell_type": "code",
   "execution_count": 1,
   "id": "9537dafd",
   "metadata": {},
   "outputs": [],
   "source": [
    "import pandas as pd\n",
    "import numpy as np\n",
    "import matplotlib.pyplot as plt\n",
    "import seaborn as sns\n",
    "%matplotlib inline\n",
    "import plotly.express as px\n",
    "import plotly.graph_objects as go\n",
    "import plotly.graph_objs as go\n",
    "from plotly.subplots import make_subplots\n",
    "\n",
    "\n",
    "import numpy as np"
   ]
  },
  {
   "cell_type": "markdown",
   "id": "8982e655",
   "metadata": {},
   "source": [
    "Select a file path and define the csv file to load in dataset"
   ]
  },
  {
   "cell_type": "code",
   "execution_count": 2,
   "id": "8eda2fef",
   "metadata": {},
   "outputs": [],
   "source": [
    "IMDB_data = 'Downloads/IMDB Top 250 Movies.csv'\n",
    "\n",
    "movies_data = pd.read_csv(IMDB_data )"
   ]
  },
  {
   "cell_type": "markdown",
   "id": "5520b290",
   "metadata": {},
   "source": [
    "Display data outputs as well as the description of the dataset for visulation setup and use"
   ]
  },
  {
   "cell_type": "code",
   "execution_count": 3,
   "id": "b1ab0add",
   "metadata": {},
   "outputs": [
    {
     "data": {
      "text/plain": [
       "Index(['rank', 'name', 'year', 'rating', 'genre', 'certificate', 'run_time',\n",
       "       'tagline', 'budget', 'box_office', 'casts', 'directors', 'writers'],\n",
       "      dtype='object')"
      ]
     },
     "execution_count": 3,
     "metadata": {},
     "output_type": "execute_result"
    }
   ],
   "source": [
    "movies_data.columns #Displays the names of the columsn which is what we will use later for our data visualization"
   ]
  },
  {
   "cell_type": "code",
   "execution_count": 39,
   "id": "8970b13d",
   "metadata": {
    "scrolled": true
   },
   "outputs": [
    {
     "data": {
      "text/html": [
       "<div>\n",
       "<style scoped>\n",
       "    .dataframe tbody tr th:only-of-type {\n",
       "        vertical-align: middle;\n",
       "    }\n",
       "\n",
       "    .dataframe tbody tr th {\n",
       "        vertical-align: top;\n",
       "    }\n",
       "\n",
       "    .dataframe thead th {\n",
       "        text-align: right;\n",
       "    }\n",
       "</style>\n",
       "<table border=\"1\" class=\"dataframe\">\n",
       "  <thead>\n",
       "    <tr style=\"text-align: right;\">\n",
       "      <th></th>\n",
       "      <th>rank</th>\n",
       "      <th>name</th>\n",
       "      <th>year</th>\n",
       "      <th>rating</th>\n",
       "      <th>genre</th>\n",
       "      <th>certificate</th>\n",
       "      <th>run_time</th>\n",
       "      <th>tagline</th>\n",
       "      <th>budget</th>\n",
       "      <th>box_office</th>\n",
       "      <th>casts</th>\n",
       "      <th>directors</th>\n",
       "      <th>writers</th>\n",
       "    </tr>\n",
       "  </thead>\n",
       "  <tbody>\n",
       "    <tr>\n",
       "      <th>0</th>\n",
       "      <td>1</td>\n",
       "      <td>The Shawshank Redemption</td>\n",
       "      <td>1994</td>\n",
       "      <td>9.3</td>\n",
       "      <td>Drama</td>\n",
       "      <td>R</td>\n",
       "      <td>2h 22m</td>\n",
       "      <td>Fear can hold you prisoner. Hope can set you f...</td>\n",
       "      <td>25000000</td>\n",
       "      <td>28884504</td>\n",
       "      <td>Tim Robbins,Morgan Freeman,Bob Gunton,William ...</td>\n",
       "      <td>Frank Darabont</td>\n",
       "      <td>Stephen King,Frank Darabont</td>\n",
       "    </tr>\n",
       "    <tr>\n",
       "      <th>1</th>\n",
       "      <td>2</td>\n",
       "      <td>The Godfather</td>\n",
       "      <td>1972</td>\n",
       "      <td>9.2</td>\n",
       "      <td>Crime,Drama</td>\n",
       "      <td>R</td>\n",
       "      <td>2h 55m</td>\n",
       "      <td>An offer you can't refuse.</td>\n",
       "      <td>6000000</td>\n",
       "      <td>250341816</td>\n",
       "      <td>Marlon Brando,Al Pacino,James Caan,Diane Keato...</td>\n",
       "      <td>Francis Ford Coppola</td>\n",
       "      <td>Mario Puzo,Francis Ford Coppola</td>\n",
       "    </tr>\n",
       "    <tr>\n",
       "      <th>2</th>\n",
       "      <td>3</td>\n",
       "      <td>The Dark Knight</td>\n",
       "      <td>2008</td>\n",
       "      <td>9.0</td>\n",
       "      <td>Action,Crime,Drama</td>\n",
       "      <td>PG-13</td>\n",
       "      <td>2h 32m</td>\n",
       "      <td>Why So Serious?</td>\n",
       "      <td>185000000</td>\n",
       "      <td>1006234167</td>\n",
       "      <td>Christian Bale,Heath Ledger,Aaron Eckhart,Mich...</td>\n",
       "      <td>Christopher Nolan</td>\n",
       "      <td>Jonathan Nolan,Christopher Nolan,David S. Goyer</td>\n",
       "    </tr>\n",
       "    <tr>\n",
       "      <th>3</th>\n",
       "      <td>4</td>\n",
       "      <td>The Godfather Part II</td>\n",
       "      <td>1974</td>\n",
       "      <td>9.0</td>\n",
       "      <td>Crime,Drama</td>\n",
       "      <td>R</td>\n",
       "      <td>3h 22m</td>\n",
       "      <td>All the power on earth can't change destiny.</td>\n",
       "      <td>13000000</td>\n",
       "      <td>47961919</td>\n",
       "      <td>Al Pacino,Robert De Niro,Robert Duvall,Diane K...</td>\n",
       "      <td>Francis Ford Coppola</td>\n",
       "      <td>Francis Ford Coppola,Mario Puzo</td>\n",
       "    </tr>\n",
       "    <tr>\n",
       "      <th>4</th>\n",
       "      <td>5</td>\n",
       "      <td>12 Angry Men</td>\n",
       "      <td>1957</td>\n",
       "      <td>9.0</td>\n",
       "      <td>Crime,Drama</td>\n",
       "      <td>Approved</td>\n",
       "      <td>1h 36m</td>\n",
       "      <td>Life Is In Their Hands -- Death Is On Their Mi...</td>\n",
       "      <td>350000</td>\n",
       "      <td>955</td>\n",
       "      <td>Henry Fonda,Lee J. Cobb,Martin Balsam,John Fie...</td>\n",
       "      <td>Sidney Lumet</td>\n",
       "      <td>Reginald Rose</td>\n",
       "    </tr>\n",
       "  </tbody>\n",
       "</table>\n",
       "</div>"
      ],
      "text/plain": [
       "   rank                      name  year  rating               genre  \\\n",
       "0     1  The Shawshank Redemption  1994     9.3               Drama   \n",
       "1     2             The Godfather  1972     9.2         Crime,Drama   \n",
       "2     3           The Dark Knight  2008     9.0  Action,Crime,Drama   \n",
       "3     4     The Godfather Part II  1974     9.0         Crime,Drama   \n",
       "4     5              12 Angry Men  1957     9.0         Crime,Drama   \n",
       "\n",
       "  certificate run_time                                            tagline  \\\n",
       "0           R   2h 22m  Fear can hold you prisoner. Hope can set you f...   \n",
       "1           R   2h 55m                         An offer you can't refuse.   \n",
       "2       PG-13   2h 32m                                    Why So Serious?   \n",
       "3           R   3h 22m       All the power on earth can't change destiny.   \n",
       "4    Approved   1h 36m  Life Is In Their Hands -- Death Is On Their Mi...   \n",
       "\n",
       "      budget  box_office                                              casts  \\\n",
       "0   25000000    28884504  Tim Robbins,Morgan Freeman,Bob Gunton,William ...   \n",
       "1    6000000   250341816  Marlon Brando,Al Pacino,James Caan,Diane Keato...   \n",
       "2  185000000  1006234167  Christian Bale,Heath Ledger,Aaron Eckhart,Mich...   \n",
       "3   13000000    47961919  Al Pacino,Robert De Niro,Robert Duvall,Diane K...   \n",
       "4     350000         955  Henry Fonda,Lee J. Cobb,Martin Balsam,John Fie...   \n",
       "\n",
       "              directors                                          writers  \n",
       "0        Frank Darabont                      Stephen King,Frank Darabont  \n",
       "1  Francis Ford Coppola                  Mario Puzo,Francis Ford Coppola  \n",
       "2     Christopher Nolan  Jonathan Nolan,Christopher Nolan,David S. Goyer  \n",
       "3  Francis Ford Coppola                  Francis Ford Coppola,Mario Puzo  \n",
       "4          Sidney Lumet                                    Reginald Rose  "
      ]
     },
     "execution_count": 39,
     "metadata": {},
     "output_type": "execute_result"
    }
   ],
   "source": [
    "movies_data.head() #Displays the info of the top 5 movies as well as highest and lowest rated movies according to IMDB"
   ]
  },
  {
   "cell_type": "code",
   "execution_count": 5,
   "id": "9e3d6bbd",
   "metadata": {},
   "outputs": [
    {
     "data": {
      "text/plain": [
       "Drama                         19\n",
       "Crime,Drama                   14\n",
       "Animation,Adventure,Comedy    10\n",
       "Biography,Drama,History        9\n",
       "Crime,Drama,Mystery            9\n",
       "Drama,War                      8\n",
       "Drama,Romance                  6\n",
       "Crime,Drama,Thriller           5\n",
       "Action,Crime,Drama             5\n",
       "Action,Adventure,Drama         5\n",
       "Name: genre, dtype: int64"
      ]
     },
     "metadata": {},
     "output_type": "display_data"
    }
   ],
   "source": [
    "genre_counts = movies_data['genre'].value_counts()       #Display the different types of movie genres along with the frequqnecy in the data set\n",
    " \n",
    "display(genre_counts.head(10))"
   ]
  },
  {
   "cell_type": "code",
   "execution_count": null,
   "id": "3223dc09",
   "metadata": {},
   "outputs": [],
   "source": [
    "We can now visualize our data"
   ]
  },
  {
   "cell_type": "code",
   "execution_count": 65,
   "id": "073e2638",
   "metadata": {
    "scrolled": true
   },
   "outputs": [
    {
     "data": {
      "image/png": "[encoded data removed]",
      "text/plain": [
       "<Figure size 640x480 with 1 Axes>"
      ]
     },
     "metadata": {},
     "output_type": "display_data"
    }
   ],
   "source": [
    "top_grossing_films = movies_data[movies_data['box_office'] != 'Not Available'].sort_values(by='box_office', ascending=False).head(10)\n",
    "\n",
    "\n",
    "\n",
    "plt.bar(x=top_grossing_films['name'], height=top_grossing_films['box_office'])  #Plot our bar chart which depicts the movie title and box office numbers\n",
    "plt.xticks(rotation=90)\n",
    "plt.xlabel('Movie Title')\n",
    "plt.ylabel('Box Office($)')\n",
    "plt.title('The Top 10 Highest Grossing Movies')\n",
    "plt.show()"
   ]
  },
  {
   "cell_type": "code",
   "execution_count": 66,
   "id": "e5fe4256",
   "metadata": {},
   "outputs": [
    {
     "data": {
      "application/vnd.plotly.v1+json": {
       "config": {
        "plotlyServerURL": "https://plot.ly"
       },
       "data": [
        {
         "type": "bar",
         "x": [
          "Drama",
          "Crime,Drama",
          "Action,Crime,Drama",
          "Crime,Drama",
          "Crime,Drama",
          "Biography,Drama,History",
          "Action,Adventure,Drama",
          "Crime,Drama",
          "Action,Adventure,Drama",
          "Adventure,Western"
         ],
         "y": [
          9.3,
          9.2,
          9,
          9,
          9,
          9,
          9,
          8.9,
          8.8,
          8.8
         ]
        }
       ],
       "layout": {
        "template": {
         "data": {
          "bar": [
           {
            "error_x": {
             "color": "#2a3f5f"
            },
            "error_y": {
             "color": "#2a3f5f"
            },
            "marker": {
             "line": {
              "color": "#E5ECF6",
              "width": 0.5
             },
             "pattern": {
              "fillmode": "overlay",
              "size": 10,
              "solidity": 0.2
             }
            },
            "type": "bar"
           }
          ],
          "barpolar": [
           {
            "marker": {
             "line": {
              "color": "#E5ECF6",
              "width": 0.5
             },
             "pattern": {
              "fillmode": "overlay",
              "size": 10,
              "solidity": 0.2
             }
            },
            "type": "barpolar"
           }
          ],
          "carpet": [
           {
            "aaxis": {
             "endlinecolor": "#2a3f5f",
             "gridcolor": "white",
             "linecolor": "white",
             "minorgridcolor": "white",
             "startlinecolor": "#2a3f5f"
            },
            "baxis": {
             "endlinecolor": "#2a3f5f",
             "gridcolor": "white",
             "linecolor": "white",
             "minorgridcolor": "white",
             "startlinecolor": "#2a3f5f"
            },
            "type": "carpet"
           }
          ],
          "choropleth": [
           {
            "colorbar": {
             "outlinewidth": 0,
             "ticks": ""
            },
            "type": "choropleth"
           }
          ],
          "contour": [
           {
            "colorbar": {
             "outlinewidth": 0,
             "ticks": ""
            },
            "colorscale": [
             [
              0,
              "#0d0887"
             ],
             [
              0.1111111111111111,
              "#46039f"
             ],
             [
              0.2222222222222222,
              "#7201a8"
             ],
             [
              0.3333333333333333,
              "#9c179e"
             ],
             [
              0.4444444444444444,
              "#bd3786"
             ],
             [
              0.5555555555555556,
              "#d8576b"
             ],
             [
              0.6666666666666666,
              "#ed7953"
             ],
             [
              0.7777777777777778,
              "#fb9f3a"
             ],
             [
              0.8888888888888888,
              "#fdca26"
             ],
             [
              1,
              "#f0f921"
             ]
            ],
            "type": "contour"
           }
          ],
          "contourcarpet": [
           {
            "colorbar": {
             "outlinewidth": 0,
             "ticks": ""
            },
            "type": "contourcarpet"
           }
          ],
          "heatmap": [
           {
            "colorbar": {
             "outlinewidth": 0,
             "ticks": ""
            },
            "colorscale": [
             [
              0,
              "#0d0887"
             ],
             [
              0.1111111111111111,
              "#46039f"
             ],
             [
              0.2222222222222222,
              "#7201a8"
             ],
             [
              0.3333333333333333,
              "#9c179e"
             ],
             [
              0.4444444444444444,
              "#bd3786"
             ],
             [
              0.5555555555555556,
              "#d8576b"
             ],
             [
              0.6666666666666666,
              "#ed7953"
             ],
             [
              0.7777777777777778,
              "#fb9f3a"
             ],
             [
              0.8888888888888888,
              "#fdca26"
             ],
             [
              1,
              "#f0f921"
             ]
            ],
            "type": "heatmap"
           }
          ],
          "heatmapgl": [
           {
            "colorbar": {
             "outlinewidth": 0,
             "ticks": ""
            },
            "colorscale": [
             [
              0,
              "#0d0887"
             ],
             [
              0.1111111111111111,
              "#46039f"
             ],
             [
              0.2222222222222222,
              "#7201a8"
             ],
             [
              0.3333333333333333,
              "#9c179e"
             ],
             [
              0.4444444444444444,
              "#bd3786"
             ],
             [
              0.5555555555555556,
              "#d8576b"
             ],
             [
              0.6666666666666666,
              "#ed7953"
             ],
             [
              0.7777777777777778,
              "#fb9f3a"
             ],
             [
              0.8888888888888888,
              "#fdca26"
             ],
             [
              1,
              "#f0f921"
             ]
            ],
            "type": "heatmapgl"
           }
          ],
          "histogram": [
           {
            "marker": {
             "pattern": {
              "fillmode": "overlay",
              "size": 10,
              "solidity": 0.2
             }
            },
            "type": "histogram"
           }
          ],
          "histogram2d": [
           {
            "colorbar": {
             "outlinewidth": 0,
             "ticks": ""
            },
            "colorscale": [
             [
              0,
              "#0d0887"
             ],
             [
              0.1111111111111111,
              "#46039f"
             ],
             [
              0.2222222222222222,
              "#7201a8"
             ],
             [
              0.3333333333333333,
              "#9c179e"
             ],
             [
              0.4444444444444444,
              "#bd3786"
             ],
             [
              0.5555555555555556,
              "#d8576b"
             ],
             [
              0.6666666666666666,
              "#ed7953"
             ],
             [
              0.7777777777777778,
              "#fb9f3a"
             ],
             [
              0.8888888888888888,
              "#fdca26"
             ],
             [
              1,
              "#f0f921"
             ]
            ],
            "type": "histogram2d"
           }
          ],
          "histogram2dcontour": [
           {
            "colorbar": {
             "outlinewidth": 0,
             "ticks": ""
            },
            "colorscale": [
             [
              0,
              "#0d0887"
             ],
             [
              0.1111111111111111,
              "#46039f"
             ],
             [
              0.2222222222222222,
              "#7201a8"
             ],
             [
              0.3333333333333333,
              "#9c179e"
             ],
             [
              0.4444444444444444,
              "#bd3786"
             ],
             [
              0.5555555555555556,
              "#d8576b"
             ],
             [
              0.6666666666666666,
              "#ed7953"
             ],
             [
              0.7777777777777778,
              "#fb9f3a"
             ],
             [
              0.8888888888888888,
              "#fdca26"
             ],
             [
              1,
              "#f0f921"
             ]
            ],
            "type": "histogram2dcontour"
           }
          ],
          "mesh3d": [
           {
            "colorbar": {
             "outlinewidth": 0,
             "ticks": ""
            },
            "type": "mesh3d"
           }
          ],
          "parcoords": [
           {
            "line": {
             "colorbar": {
              "outlinewidth": 0,
              "ticks": ""
             }
            },
            "type": "parcoords"
           }
          ],
          "pie": [
           {
            "automargin": true,
            "type": "pie"
           }
          ],
          "scatter": [
           {
            "fillpattern": {
             "fillmode": "overlay",
             "size": 10,
             "solidity": 0.2
            },
            "type": "scatter"
           }
          ],
          "scatter3d": [
           {
            "line": {
             "colorbar": {
              "outlinewidth": 0,
              "ticks": ""
             }
            },
            "marker": {
             "colorbar": {
              "outlinewidth": 0,
              "ticks": ""
             }
            },
            "type": "scatter3d"
           }
          ],
          "scattercarpet": [
           {
            "marker": {
             "colorbar": {
              "outlinewidth": 0,
              "ticks": ""
             }
            },
            "type": "scattercarpet"
           }
          ],
          "scattergeo": [
           {
            "marker": {
             "colorbar": {
              "outlinewidth": 0,
              "ticks": ""
             }
            },
            "type": "scattergeo"
           }
          ],
          "scattergl": [
           {
            "marker": {
             "colorbar": {
              "outlinewidth": 0,
              "ticks": ""
             }
            },
            "type": "scattergl"
           }
          ],
          "scattermapbox": [
           {
            "marker": {
             "colorbar": {
              "outlinewidth": 0,
              "ticks": ""
             }
            },
            "type": "scattermapbox"
           }
          ],
          "scatterpolar": [
           {
            "marker": {
             "colorbar": {
              "outlinewidth": 0,
              "ticks": ""
             }
            },
            "type": "scatterpolar"
           }
          ],
          "scatterpolargl": [
           {
            "marker": {
             "colorbar": {
              "outlinewidth": 0,
              "ticks": ""
             }
            },
            "type": "scatterpolargl"
           }
          ],
          "scatterternary": [
           {
            "marker": {
             "colorbar": {
              "outlinewidth": 0,
              "ticks": ""
             }
            },
            "type": "scatterternary"
           }
          ],
          "surface": [
           {
            "colorbar": {
             "outlinewidth": 0,
             "ticks": ""
            },
            "colorscale": [
             [
              0,
              "#0d0887"
             ],
             [
              0.1111111111111111,
              "#46039f"
             ],
             [
              0.2222222222222222,
              "#7201a8"
             ],
             [
              0.3333333333333333,
              "#9c179e"
             ],
             [
              0.4444444444444444,
              "#bd3786"
             ],
             [
              0.5555555555555556,
              "#d8576b"
             ],
             [
              0.6666666666666666,
              "#ed7953"
             ],
             [
              0.7777777777777778,
              "#fb9f3a"
             ],
             [
              0.8888888888888888,
              "#fdca26"
             ],
             [
              1,
              "#f0f921"
             ]
            ],
            "type": "surface"
           }
          ],
          "table": [
           {
            "cells": {
             "fill": {
              "color": "#EBF0F8"
             },
             "line": {
              "color": "white"
             }
            },
            "header": {
             "fill": {
              "color": "#C8D4E3"
             },
             "line": {
              "color": "white"
             }
            },
            "type": "table"
           }
          ]
         },
         "layout": {
          "annotationdefaults": {
           "arrowcolor": "#2a3f5f",
           "arrowhead": 0,
           "arrowwidth": 1
          },
          "autotypenumbers": "strict",
          "coloraxis": {
           "colorbar": {
            "outlinewidth": 0,
            "ticks": ""
           }
          },
          "colorscale": {
           "diverging": [
            [
             0,
             "#8e0152"
            ],
            [
             0.1,
             "#c51b7d"
            ],
            [
             0.2,
             "#de77ae"
            ],
            [
             0.3,
             "#f1b6da"
            ],
            [
             0.4,
             "#fde0ef"
            ],
            [
             0.5,
             "#f7f7f7"
            ],
            [
             0.6,
             "#e6f5d0"
            ],
            [
             0.7,
             "#b8e186"
            ],
            [
             0.8,
             "#7fbc41"
            ],
            [
             0.9,
             "#4d9221"
            ],
            [
             1,
             "#276419"
            ]
           ],
           "sequential": [
            [
             0,
             "#0d0887"
            ],
            [
             0.1111111111111111,
             "#46039f"
            ],
            [
             0.2222222222222222,
             "#7201a8"
            ],
            [
             0.3333333333333333,
             "#9c179e"
            ],
            [
             0.4444444444444444,
             "#bd3786"
            ],
            [
             0.5555555555555556,
             "#d8576b"
            ],
            [
             0.6666666666666666,
             "#ed7953"
            ],
            [
             0.7777777777777778,
             "#fb9f3a"
            ],
            [
             0.8888888888888888,
             "#fdca26"
            ],
            [
             1,
             "#f0f921"
            ]
           ],
           "sequentialminus": [
            [
             0,
             "#0d0887"
            ],
            [
             0.1111111111111111,
             "#46039f"
            ],
            [
             0.2222222222222222,
             "#7201a8"
            ],
            [
             0.3333333333333333,
             "#9c179e"
            ],
            [
             0.4444444444444444,
             "#bd3786"
            ],
            [
             0.5555555555555556,
             "#d8576b"
            ],
            [
             0.6666666666666666,
             "#ed7953"
            ],
            [
             0.7777777777777778,
             "#fb9f3a"
            ],
            [
             0.8888888888888888,
             "#fdca26"
            ],
            [
             1,
             "#f0f921"
            ]
           ]
          },
          "colorway": [
           "#636efa",
           "#EF553B",
           "#00cc96",
           "#ab63fa",
           "#FFA15A",
           "#19d3f3",
           "#FF6692",
           "#B6E880",
           "#FF97FF",
           "#FECB52"
          ],
          "font": {
           "color": "#2a3f5f"
          },
          "geo": {
           "bgcolor": "white",
           "lakecolor": "white",
           "landcolor": "#E5ECF6",
           "showlakes": true,
           "showland": true,
           "subunitcolor": "white"
          },
          "hoverlabel": {
           "align": "left"
          },
          "hovermode": "closest",
          "mapbox": {
           "style": "light"
          },
          "paper_bgcolor": "white",
          "plot_bgcolor": "#E5ECF6",
          "polar": {
           "angularaxis": {
            "gridcolor": "white",
            "linecolor": "white",
            "ticks": ""
           },
           "bgcolor": "#E5ECF6",
           "radialaxis": {
            "gridcolor": "white",
            "linecolor": "white",
            "ticks": ""
           }
          },
          "scene": {
           "xaxis": {
            "backgroundcolor": "#E5ECF6",
            "gridcolor": "white",
            "gridwidth": 2,
            "linecolor": "white",
            "showbackground": true,
            "ticks": "",
            "zerolinecolor": "white"
           },
           "yaxis": {
            "backgroundcolor": "#E5ECF6",
            "gridcolor": "white",
            "gridwidth": 2,
            "linecolor": "white",
            "showbackground": true,
            "ticks": "",
            "zerolinecolor": "white"
           },
           "zaxis": {
            "backgroundcolor": "#E5ECF6",
            "gridcolor": "white",
            "gridwidth": 2,
            "linecolor": "white",
            "showbackground": true,
            "ticks": "",
            "zerolinecolor": "white"
           }
          },
          "shapedefaults": {
           "line": {
            "color": "#2a3f5f"
           }
          },
          "ternary": {
           "aaxis": {
            "gridcolor": "white",
            "linecolor": "white",
            "ticks": ""
           },
           "baxis": {
            "gridcolor": "white",
            "linecolor": "white",
            "ticks": ""
           },
           "bgcolor": "#E5ECF6",
           "caxis": {
            "gridcolor": "white",
            "linecolor": "white",
            "ticks": ""
           }
          },
          "title": {
           "x": 0.05
          },
          "xaxis": {
           "automargin": true,
           "gridcolor": "white",
           "linecolor": "white",
           "ticks": "",
           "title": {
            "standoff": 15
           },
           "zerolinecolor": "white",
           "zerolinewidth": 2
          },
          "yaxis": {
           "automargin": true,
           "gridcolor": "white",
           "linecolor": "white",
           "ticks": "",
           "title": {
            "standoff": 15
           },
           "zerolinecolor": "white",
           "zerolinewidth": 2
          }
         }
        },
        "title": {
         "text": "Top 10 Movies by Rating"
        }
       }
      },
      "text/html": [
       "<div>                            <div id=\"8b9d32d7-f83c-459f-be6b-221934a5e0f1\" class=\"plotly-graph-div\" style=\"height:525px; width:100%;\"></div>            <script type=\"text/javascript\">                require([\"plotly\"], function(Plotly) {                    window.PLOTLYENV=window.PLOTLYENV || {};                                    if (document.getElementById(\"8b9d32d7-f83c-459f-be6b-221934a5e0f1\")) {                    Plotly.newPlot(                        \"8b9d32d7-f83c-459f-be6b-221934a5e0f1\",                        [{\"x\":[\"Drama\",\"Crime,Drama\",\"Action,Crime,Drama\",\"Crime,Drama\",\"Crime,Drama\",\"Biography,Drama,History\",\"Action,Adventure,Drama\",\"Crime,Drama\",\"Action,Adventure,Drama\",\"Adventure,Western\"],\"y\":[9.3,9.2,9.0,9.0,9.0,9.0,9.0,8.9,8.8,8.8],\"type\":\"bar\"}],                        {\"template\":{\"data\":{\"histogram2dcontour\":[{\"type\":\"histogram2dcontour\",\"colorbar\":{\"outlinewidth\":0,\"ticks\":\"\"},\"colorscale\":[[0.0,\"#0d0887\"],[0.1111111111111111,\"#46039f\"],[0.2222222222222222,\"#7201a8\"],[0.3333333333333333,\"#9c179e\"],[0.4444444444444444,\"#bd3786\"],[0.5555555555555556,\"#d8576b\"],[0.6666666666666666,\"#ed7953\"],[0.7777777777777778,\"#fb9f3a\"],[0.8888888888888888,\"#fdca26\"],[1.0,\"#f0f921\"]]}],\"choropleth\":[{\"type\":\"choropleth\",\"colorbar\":{\"outlinewidth\":0,\"ticks\":\"\"}}],\"histogram2d\":[{\"type\":\"histogram2d\",\"colorbar\":{\"outlinewidth\":0,\"ticks\":\"\"},\"colorscale\":[[0.0,\"#0d0887\"],[0.1111111111111111,\"#46039f\"],[0.2222222222222222,\"#7201a8\"],[0.3333333333333333,\"#9c179e\"],[0.4444444444444444,\"#bd3786\"],[0.5555555555555556,\"#d8576b\"],[0.6666666666666666,\"#ed7953\"],[0.7777777777777778,\"#fb9f3a\"],[0.8888888888888888,\"#fdca26\"],[1.0,\"#f0f921\"]]}],\"heatmap\":[{\"type\":\"heatmap\",\"colorbar\":{\"outlinewidth\":0,\"ticks\":\"\"},\"colorscale\":[[0.0,\"#0d0887\"],[0.1111111111111111,\"#46039f\"],[0.2222222222222222,\"#7201a8\"],[0.3333333333333333,\"#9c179e\"],[0.4444444444444444,\"#bd3786\"],[0.5555555555555556,\"#d8576b\"],[0.6666666666666666,\"#ed7953\"],[0.7777777777777778,\"#fb9f3a\"],[0.8888888888888888,\"#fdca26\"],[1.0,\"#f0f921\"]]}],\"heatmapgl\":[{\"type\":\"heatmapgl\",\"colorbar\":{\"outlinewidth\":0,\"ticks\":\"\"},\"colorscale\":[[0.0,\"#0d0887\"],[0.1111111111111111,\"#46039f\"],[0.2222222222222222,\"#7201a8\"],[0.3333333333333333,\"#9c179e\"],[0.4444444444444444,\"#bd3786\"],[0.5555555555555556,\"#d8576b\"],[0.6666666666666666,\"#ed7953\"],[0.7777777777777778,\"#fb9f3a\"],[0.8888888888888888,\"#fdca26\"],[1.0,\"#f0f921\"]]}],\"contourcarpet\":[{\"type\":\"contourcarpet\",\"colorbar\":{\"outlinewidth\":0,\"ticks\":\"\"}}],\"contour\":[{\"type\":\"contour\",\"colorbar\":{\"outlinewidth\":0,\"ticks\":\"\"},\"colorscale\":[[0.0,\"#0d0887\"],[0.1111111111111111,\"#46039f\"],[0.2222222222222222,\"#7201a8\"],[0.3333333333333333,\"#9c179e\"],[0.4444444444444444,\"#bd3786\"],[0.5555555555555556,\"#d8576b\"],[0.6666666666666666,\"#ed7953\"],[0.7777777777777778,\"#fb9f3a\"],[0.8888888888888888,\"#fdca26\"],[1.0,\"#f0f921\"]]}],\"surface\":[{\"type\":\"surface\",\"colorbar\":{\"outlinewidth\":0,\"ticks\":\"\"},\"colorscale\":[[0.0,\"#0d0887\"],[0.1111111111111111,\"#46039f\"],[0.2222222222222222,\"#7201a8\"],[0.3333333333333333,\"#9c179e\"],[0.4444444444444444,\"#bd3786\"],[0.5555555555555556,\"#d8576b\"],[0.6666666666666666,\"#ed7953\"],[0.7777777777777778,\"#fb9f3a\"],[0.8888888888888888,\"#fdca26\"],[1.0,\"#f0f921\"]]}],\"mesh3d\":[{\"type\":\"mesh3d\",\"colorbar\":{\"outlinewidth\":0,\"ticks\":\"\"}}],\"scatter\":[{\"fillpattern\":{\"fillmode\":\"overlay\",\"size\":10,\"solidity\":0.2},\"type\":\"scatter\"}],\"parcoords\":[{\"type\":\"parcoords\",\"line\":{\"colorbar\":{\"outlinewidth\":0,\"ticks\":\"\"}}}],\"scatterpolargl\":[{\"type\":\"scatterpolargl\",\"marker\":{\"colorbar\":{\"outlinewidth\":0,\"ticks\":\"\"}}}],\"bar\":[{\"error_x\":{\"color\":\"#2a3f5f\"},\"error_y\":{\"color\":\"#2a3f5f\"},\"marker\":{\"line\":{\"color\":\"#E5ECF6\",\"width\":0.5},\"pattern\":{\"fillmode\":\"overlay\",\"size\":10,\"solidity\":0.2}},\"type\":\"bar\"}],\"scattergeo\":[{\"type\":\"scattergeo\",\"marker\":{\"colorbar\":{\"outlinewidth\":0,\"ticks\":\"\"}}}],\"scatterpolar\":[{\"type\":\"scatterpolar\",\"marker\":{\"colorbar\":{\"outlinewidth\":0,\"ticks\":\"\"}}}],\"histogram\":[{\"marker\":{\"pattern\":{\"fillmode\":\"overlay\",\"size\":10,\"solidity\":0.2}},\"type\":\"histogram\"}],\"scattergl\":[{\"type\":\"scattergl\",\"marker\":{\"colorbar\":{\"outlinewidth\":0,\"ticks\":\"\"}}}],\"scatter3d\":[{\"type\":\"scatter3d\",\"line\":{\"colorbar\":{\"outlinewidth\":0,\"ticks\":\"\"}},\"marker\":{\"colorbar\":{\"outlinewidth\":0,\"ticks\":\"\"}}}],\"scattermapbox\":[{\"type\":\"scattermapbox\",\"marker\":{\"colorbar\":{\"outlinewidth\":0,\"ticks\":\"\"}}}],\"scatterternary\":[{\"type\":\"scatterternary\",\"marker\":{\"colorbar\":{\"outlinewidth\":0,\"ticks\":\"\"}}}],\"scattercarpet\":[{\"type\":\"scattercarpet\",\"marker\":{\"colorbar\":{\"outlinewidth\":0,\"ticks\":\"\"}}}],\"carpet\":[{\"aaxis\":{\"endlinecolor\":\"#2a3f5f\",\"gridcolor\":\"white\",\"linecolor\":\"white\",\"minorgridcolor\":\"white\",\"startlinecolor\":\"#2a3f5f\"},\"baxis\":{\"endlinecolor\":\"#2a3f5f\",\"gridcolor\":\"white\",\"linecolor\":\"white\",\"minorgridcolor\":\"white\",\"startlinecolor\":\"#2a3f5f\"},\"type\":\"carpet\"}],\"table\":[{\"cells\":{\"fill\":{\"color\":\"#EBF0F8\"},\"line\":{\"color\":\"white\"}},\"header\":{\"fill\":{\"color\":\"#C8D4E3\"},\"line\":{\"color\":\"white\"}},\"type\":\"table\"}],\"barpolar\":[{\"marker\":{\"line\":{\"color\":\"#E5ECF6\",\"width\":0.5},\"pattern\":{\"fillmode\":\"overlay\",\"size\":10,\"solidity\":0.2}},\"type\":\"barpolar\"}],\"pie\":[{\"automargin\":true,\"type\":\"pie\"}]},\"layout\":{\"autotypenumbers\":\"strict\",\"colorway\":[\"#636efa\",\"#EF553B\",\"#00cc96\",\"#ab63fa\",\"#FFA15A\",\"#19d3f3\",\"#FF6692\",\"#B6E880\",\"#FF97FF\",\"#FECB52\"],\"font\":{\"color\":\"#2a3f5f\"},\"hovermode\":\"closest\",\"hoverlabel\":{\"align\":\"left\"},\"paper_bgcolor\":\"white\",\"plot_bgcolor\":\"#E5ECF6\",\"polar\":{\"bgcolor\":\"#E5ECF6\",\"angularaxis\":{\"gridcolor\":\"white\",\"linecolor\":\"white\",\"ticks\":\"\"},\"radialaxis\":{\"gridcolor\":\"white\",\"linecolor\":\"white\",\"ticks\":\"\"}},\"ternary\":{\"bgcolor\":\"#E5ECF6\",\"aaxis\":{\"gridcolor\":\"white\",\"linecolor\":\"white\",\"ticks\":\"\"},\"baxis\":{\"gridcolor\":\"white\",\"linecolor\":\"white\",\"ticks\":\"\"},\"caxis\":{\"gridcolor\":\"white\",\"linecolor\":\"white\",\"ticks\":\"\"}},\"coloraxis\":{\"colorbar\":{\"outlinewidth\":0,\"ticks\":\"\"}},\"colorscale\":{\"sequential\":[[0.0,\"#0d0887\"],[0.1111111111111111,\"#46039f\"],[0.2222222222222222,\"#7201a8\"],[0.3333333333333333,\"#9c179e\"],[0.4444444444444444,\"#bd3786\"],[0.5555555555555556,\"#d8576b\"],[0.6666666666666666,\"#ed7953\"],[0.7777777777777778,\"#fb9f3a\"],[0.8888888888888888,\"#fdca26\"],[1.0,\"#f0f921\"]],\"sequentialminus\":[[0.0,\"#0d0887\"],[0.1111111111111111,\"#46039f\"],[0.2222222222222222,\"#7201a8\"],[0.3333333333333333,\"#9c179e\"],[0.4444444444444444,\"#bd3786\"],[0.5555555555555556,\"#d8576b\"],[0.6666666666666666,\"#ed7953\"],[0.7777777777777778,\"#fb9f3a\"],[0.8888888888888888,\"#fdca26\"],[1.0,\"#f0f921\"]],\"diverging\":[[0,\"#8e0152\"],[0.1,\"#c51b7d\"],[0.2,\"#de77ae\"],[0.3,\"#f1b6da\"],[0.4,\"#fde0ef\"],[0.5,\"#f7f7f7\"],[0.6,\"#e6f5d0\"],[0.7,\"#b8e186\"],[0.8,\"#7fbc41\"],[0.9,\"#4d9221\"],[1,\"#276419\"]]},\"xaxis\":{\"gridcolor\":\"white\",\"linecolor\":\"white\",\"ticks\":\"\",\"title\":{\"standoff\":15},\"zerolinecolor\":\"white\",\"automargin\":true,\"zerolinewidth\":2},\"yaxis\":{\"gridcolor\":\"white\",\"linecolor\":\"white\",\"ticks\":\"\",\"title\":{\"standoff\":15},\"zerolinecolor\":\"white\",\"automargin\":true,\"zerolinewidth\":2},\"scene\":{\"xaxis\":{\"backgroundcolor\":\"#E5ECF6\",\"gridcolor\":\"white\",\"linecolor\":\"white\",\"showbackground\":true,\"ticks\":\"\",\"zerolinecolor\":\"white\",\"gridwidth\":2},\"yaxis\":{\"backgroundcolor\":\"#E5ECF6\",\"gridcolor\":\"white\",\"linecolor\":\"white\",\"showbackground\":true,\"ticks\":\"\",\"zerolinecolor\":\"white\",\"gridwidth\":2},\"zaxis\":{\"backgroundcolor\":\"#E5ECF6\",\"gridcolor\":\"white\",\"linecolor\":\"white\",\"showbackground\":true,\"ticks\":\"\",\"zerolinecolor\":\"white\",\"gridwidth\":2}},\"shapedefaults\":{\"line\":{\"color\":\"#2a3f5f\"}},\"annotationdefaults\":{\"arrowcolor\":\"#2a3f5f\",\"arrowhead\":0,\"arrowwidth\":1},\"geo\":{\"bgcolor\":\"white\",\"landcolor\":\"#E5ECF6\",\"subunitcolor\":\"white\",\"showland\":true,\"showlakes\":true,\"lakecolor\":\"white\"},\"title\":{\"x\":0.05},\"mapbox\":{\"style\":\"light\"}}},\"title\":{\"text\":\"Top 10 Movies by Rating\"}},                        {\"responsive\": true}                    ).then(function(){\n",
       "                            \n",
       "var gd = document.getElementById('8b9d32d7-f83c-459f-be6b-221934a5e0f1');\n",
       "var x = new MutationObserver(function (mutations, observer) {{\n",
       "        var display = window.getComputedStyle(gd).display;\n",
       "        if (!display || display === 'none') {{\n",
       "            console.log([gd, 'removed!']);\n",
       "            Plotly.purge(gd);\n",
       "            observer.disconnect();\n",
       "        }}\n",
       "}});\n",
       "\n",
       "// Listen for the removal of the full notebook cells\n",
       "var notebookContainer = gd.closest('#notebook-container');\n",
       "if (notebookContainer) {{\n",
       "    x.observe(notebookContainer, {childList: true});\n",
       "}}\n",
       "\n",
       "// Listen for the clearing of the current output cell\n",
       "var outputEl = gd.closest('.output');\n",
       "if (outputEl) {{\n",
       "    x.observe(outputEl, {childList: true});\n",
       "}}\n",
       "\n",
       "                        })                };                });            </script>        </div>"
      ]
     },
     "metadata": {},
     "output_type": "display_data"
    }
   ],
   "source": [
    "top_movies_films = movies_data.nlargest(10, 'rating')\n",
    "\n",
    "fig = go.Figure(data=[go.Bar(x=top_movies['genre'], y=top_movies_films['rating'])])\n",
    "\n",
    "fig.update_layout(title='Top 10 Movies by Rating')\n",
    "\n",
    "fig.show()"
   ]
  },
  {
   "cell_type": "markdown",
   "id": "7a1c4984",
   "metadata": {},
   "source": [
    "As you can see from above, there are some correlations between Top 10 most rated and Top 10 highest grossing"
   ]
  },
  {
   "cell_type": "code",
   "execution_count": 47,
   "id": "3b7b1559",
   "metadata": {},
   "outputs": [
    {
     "data": {
      "application/vnd.plotly.v1+json": {
       "config": {
        "plotlyServerURL": "https://plot.ly"
       },
       "data": [
        {
         "alignmentgroup": "True",
         "hovertemplate": "genre=%{x}<br>box_office=%{y}<extra></extra>",
         "legendgroup": "Drama",
         "marker": {
          "color": "#636efa"
         },
         "name": "Drama",
         "notched": false,
         "offsetgroup": "Drama",
         "orientation": "v",
         "showlegend": true,
         "type": "box",
         "x": [
          "Drama",
          "Drama",
          "Drama",
          "Drama",
          "Drama",
          "Drama",
          "Drama",
          "Drama",
          "Drama",
          "Drama",
          "Drama",
          "Drama",
          "Drama",
          "Drama",
          "Drama",
          "Drama",
          "Drama",
          "Drama",
          "Drama"
         ],
         "x0": " ",
         "xaxis": "x",
         "y": [
          "28884504",
          "101209702",
          "109114817",
          "356296601",
          "7390108",
          "Not Available",
          "Not Available",
          "96302",
          "22926076",
          "436655",
          "151052",
          "76182388",
          "16767475",
          "269958228",
          "Not Available",
          "23690757",
          "135342",
          "800000 (estimated)",
          "216639112"
         ],
         "y0": " ",
         "yaxis": "y"
        },
        {
         "alignmentgroup": "True",
         "hovertemplate": "genre=%{x}<br>box_office=%{y}<extra></extra>",
         "legendgroup": "Crime,Drama",
         "marker": {
          "color": "#EF553B"
         },
         "name": "Crime,Drama",
         "notched": false,
         "offsetgroup": "Crime,Drama",
         "orientation": "v",
         "showlegend": true,
         "type": "box",
         "x": [
          "Crime,Drama",
          "Crime,Drama",
          "Crime,Drama",
          "Crime,Drama",
          "Crime,Drama",
          "Crime,Drama",
          "Crime,Drama",
          "Crime,Drama",
          "Crime,Drama",
          "Crime,Drama",
          "Crime,Drama",
          "Crime,Drama",
          "Crime,Drama",
          "Crime,Drama"
         ],
         "x0": " ",
         "xaxis": "x",
         "y": [
          "250341816",
          "47961919",
          "955",
          "213928762",
          "30680793",
          "23875127",
          "5473337",
          "65884703",
          "599146",
          "28570902",
          "116112375",
          "Not Available",
          "67",
          "127244"
         ],
         "y0": " ",
         "yaxis": "y"
        },
        {
         "alignmentgroup": "True",
         "hovertemplate": "genre=%{x}<br>box_office=%{y}<extra></extra>",
         "legendgroup": "Action,Crime,Drama",
         "marker": {
          "color": "#00cc96"
         },
         "name": "Action,Crime,Drama",
         "notched": false,
         "offsetgroup": "Action,Crime,Drama",
         "orientation": "v",
         "showlegend": true,
         "type": "box",
         "x": [
          "Action,Crime,Drama",
          "Action,Crime,Drama",
          "Action,Crime,Drama",
          "Action,Crime,Drama",
          "Action,Crime,Drama"
         ],
         "x0": " ",
         "xaxis": "x",
         "y": [
          "1006234167",
          "19569225",
          "187436818",
          "373672993",
          "180906076"
         ],
         "y0": " ",
         "yaxis": "y"
        },
        {
         "alignmentgroup": "True",
         "hovertemplate": "genre=%{x}<br>box_office=%{y}<extra></extra>",
         "legendgroup": "Biography,Drama,History",
         "marker": {
          "color": "#ab63fa"
         },
         "name": "Biography,Drama,History",
         "notched": false,
         "offsetgroup": "Biography,Drama,History",
         "orientation": "v",
         "showlegend": true,
         "type": "box",
         "x": [
          "Biography,Drama,History",
          "Biography,Drama,History",
          "Biography,Drama,History",
          "Biography,Drama,History",
          "Biography,Drama,History",
          "Biography,Drama,History",
          "Biography,Drama,History",
          "Biography,Drama,History",
          "Biography,Drama,History"
         ],
         "x0": " ",
         "xaxis": "x",
         "y": [
          "322161245",
          "213216216",
          "Not Available",
          "92181574",
          "187733202",
          "180563636",
          "Not Available",
          "33882243",
          "52767889"
         ],
         "y0": " ",
         "yaxis": "y"
        },
        {
         "alignmentgroup": "True",
         "hovertemplate": "genre=%{x}<br>box_office=%{y}<extra></extra>",
         "legendgroup": "Action,Adventure,Drama",
         "marker": {
          "color": "#FFA15A"
         },
         "name": "Action,Adventure,Drama",
         "notched": false,
         "offsetgroup": "Action,Adventure,Drama",
         "orientation": "v",
         "showlegend": true,
         "type": "box",
         "x": [
          "Action,Adventure,Drama",
          "Action,Adventure,Drama",
          "Action,Adventure,Drama",
          "Action,Adventure,Drama",
          "Action,Adventure,Drama"
         ],
         "x0": " ",
         "xaxis": "x",
         "y": [
          "1146457748",
          "898204420",
          "947944270",
          "503162313",
          "2799439100"
         ],
         "y0": " ",
         "yaxis": "y"
        },
        {
         "alignmentgroup": "True",
         "hovertemplate": "genre=%{x}<br>box_office=%{y}<extra></extra>",
         "legendgroup": "Adventure,Western",
         "marker": {
          "color": "#19d3f3"
         },
         "name": "Adventure,Western",
         "notched": false,
         "offsetgroup": "Adventure,Western",
         "orientation": "v",
         "showlegend": true,
         "type": "box",
         "x": [
          "Adventure,Western"
         ],
         "x0": " ",
         "xaxis": "x",
         "y": [
          "25253887"
         ],
         "y0": " ",
         "yaxis": "y"
        },
        {
         "alignmentgroup": "True",
         "hovertemplate": "genre=%{x}<br>box_office=%{y}<extra></extra>",
         "legendgroup": "Drama,Romance",
         "marker": {
          "color": "#FF6692"
         },
         "name": "Drama,Romance",
         "notched": false,
         "offsetgroup": "Drama,Romance",
         "orientation": "v",
         "showlegend": true,
         "type": "box",
         "x": [
          "Drama,Romance",
          "Drama,Romance",
          "Drama,Romance",
          "Drama,Romance",
          "Drama,Romance",
          "Drama,Romance"
         ],
         "x0": " ",
         "xaxis": "x",
         "y": [
          "678226465",
          "13019063",
          "Not Available",
          "5987386",
          "60418",
          "Not Available"
         ],
         "y0": " ",
         "yaxis": "y"
        },
        {
         "alignmentgroup": "True",
         "hovertemplate": "genre=%{x}<br>box_office=%{y}<extra></extra>",
         "legendgroup": "Action,Adventure,Sci-Fi",
         "marker": {
          "color": "#B6E880"
         },
         "name": "Action,Adventure,Sci-Fi",
         "notched": false,
         "offsetgroup": "Action,Adventure,Sci-Fi",
         "orientation": "v",
         "showlegend": true,
         "type": "box",
         "x": [
          "Action,Adventure,Sci-Fi",
          "Action,Adventure,Sci-Fi",
          "Action,Adventure,Sci-Fi",
          "Action,Adventure,Sci-Fi",
          "Action,Adventure,Sci-Fi"
         ],
         "x0": " ",
         "xaxis": "x",
         "y": [
          "836848102",
          "2052415039",
          "131060248",
          "1109802321",
          "415261382"
         ],
         "y0": " ",
         "yaxis": "y"
        },
        {
         "alignmentgroup": "True",
         "hovertemplate": "genre=%{x}<br>box_office=%{y}<extra></extra>",
         "legendgroup": "Action,Adventure,Fantasy",
         "marker": {
          "color": "#FF97FF"
         },
         "name": "Action,Adventure,Fantasy",
         "notched": false,
         "offsetgroup": "Action,Adventure,Fantasy",
         "orientation": "v",
         "showlegend": true,
         "type": "box",
         "x": [
          "Action,Adventure,Fantasy",
          "Action,Adventure,Fantasy",
          "Action,Adventure,Fantasy",
          "Action,Adventure,Fantasy",
          "Action,Adventure,Fantasy"
         ],
         "x0": " ",
         "xaxis": "x",
         "y": [
          "538375067",
          "775398007",
          "475106177",
          "1921847111",
          "654264015"
         ],
         "y0": " ",
         "yaxis": "y"
        },
        {
         "alignmentgroup": "True",
         "hovertemplate": "genre=%{x}<br>box_office=%{y}<extra></extra>",
         "legendgroup": "Action,Sci-Fi",
         "marker": {
          "color": "#FECB52"
         },
         "name": "Action,Sci-Fi",
         "notched": false,
         "offsetgroup": "Action,Sci-Fi",
         "orientation": "v",
         "showlegend": true,
         "type": "box",
         "x": [
          "Action,Sci-Fi",
          "Action,Sci-Fi",
          "Action,Sci-Fi"
         ],
         "x0": " ",
         "xaxis": "x",
         "y": [
          "467222728",
          "520881154",
          "78371200"
         ],
         "y0": " ",
         "yaxis": "y"
        },
        {
         "alignmentgroup": "True",
         "hovertemplate": "genre=%{x}<br>box_office=%{y}<extra></extra>",
         "legendgroup": "Biography,Crime,Drama",
         "marker": {
          "color": "#636efa"
         },
         "name": "Biography,Crime,Drama",
         "notched": false,
         "offsetgroup": "Biography,Crime,Drama",
         "orientation": "v",
         "showlegend": true,
         "type": "box",
         "x": [
          "Biography,Crime,Drama",
          "Biography,Crime,Drama",
          "Biography,Crime,Drama",
          "Biography,Crime,Drama"
         ],
         "x0": " ",
         "xaxis": "x",
         "y": [
          "47036784",
          "Not Available",
          "Not Available",
          "98690254"
         ],
         "y0": " ",
         "yaxis": "y"
        },
        {
         "alignmentgroup": "True",
         "hovertemplate": "genre=%{x}<br>box_office=%{y}<extra></extra>",
         "legendgroup": "Crime,Drama,Mystery",
         "marker": {
          "color": "#EF553B"
         },
         "name": "Crime,Drama,Mystery",
         "notched": false,
         "offsetgroup": "Crime,Drama,Mystery",
         "orientation": "v",
         "showlegend": true,
         "type": "box",
         "x": [
          "Crime,Drama,Mystery",
          "Crime,Drama,Mystery",
          "Crime,Drama,Mystery",
          "Crime,Drama,Mystery",
          "Crime,Drama,Mystery",
          "Crime,Drama,Mystery",
          "Crime,Drama,Mystery",
          "Crime,Drama,Mystery",
          "Crime,Drama,Mystery"
         ],
         "x0": " ",
         "xaxis": "x",
         "y": [
          "327333559",
          "23341568",
          "7693",
          "Not Available",
          "126216940",
          "81379",
          "122126687",
          "1166717",
          "Not Available"
         ],
         "y0": " ",
         "yaxis": "y"
        },
        {
         "alignmentgroup": "True",
         "hovertemplate": "genre=%{x}<br>box_office=%{y}<extra></extra>",
         "legendgroup": "Action,Drama",
         "marker": {
          "color": "#00cc96"
         },
         "name": "Action,Drama",
         "notched": false,
         "offsetgroup": "Action,Drama",
         "orientation": "v",
         "showlegend": true,
         "type": "box",
         "x": [
          "Action,Drama",
          "Action,Drama",
          "Action,Drama"
         ],
         "x0": " ",
         "xaxis": "x",
         "y": [
          "346258",
          "1081169825",
          "1488732821"
         ],
         "y0": " ",
         "yaxis": "y"
        },
        {
         "alignmentgroup": "True",
         "hovertemplate": "genre=%{x}<br>box_office=%{y}<extra></extra>",
         "legendgroup": "Drama,Family,Fantasy",
         "marker": {
          "color": "#ab63fa"
         },
         "name": "Drama,Family,Fantasy",
         "notched": false,
         "offsetgroup": "Drama,Family,Fantasy",
         "orientation": "v",
         "showlegend": true,
         "type": "box",
         "x": [
          "Drama,Family,Fantasy"
         ],
         "x0": " ",
         "xaxis": "x",
         "y": [
          "8574081"
         ],
         "y0": " ",
         "yaxis": "y"
        },
        {
         "alignmentgroup": "True",
         "hovertemplate": "genre=%{x}<br>box_office=%{y}<extra></extra>",
         "legendgroup": "Crime,Drama,Thriller",
         "marker": {
          "color": "#FFA15A"
         },
         "name": "Crime,Drama,Thriller",
         "notched": false,
         "offsetgroup": "Crime,Drama,Thriller",
         "orientation": "v",
         "showlegend": true,
         "type": "box",
         "x": [
          "Crime,Drama,Thriller",
          "Crime,Drama,Thriller",
          "Crime,Drama,Thriller",
          "Crime,Drama,Thriller",
          "Crime,Drama,Thriller"
         ],
         "x0": " ",
         "xaxis": "x",
         "y": [
          "272742922",
          "291480452",
          "1074458282",
          "171627434",
          "910000 (estimated)"
         ],
         "y0": " ",
         "yaxis": "y"
        },
        {
         "alignmentgroup": "True",
         "hovertemplate": "genre=%{x}<br>box_office=%{y}<extra></extra>",
         "legendgroup": "Drama,War",
         "marker": {
          "color": "#19d3f3"
         },
         "name": "Drama,War",
         "notched": false,
         "offsetgroup": "Drama,War",
         "orientation": "v",
         "showlegend": true,
         "type": "box",
         "x": [
          "Drama,War",
          "Drama,War",
          "Drama,War",
          "Drama,War",
          "Drama,War",
          "Drama,War",
          "Drama,War",
          "Drama,War"
         ],
         "x0": " ",
         "xaxis": "x",
         "y": [
          "482349603",
          "5252",
          "11487676",
          "46358827",
          "12180",
          "49074379",
          "138545632",
          "962002"
         ],
         "y0": " ",
         "yaxis": "y"
        },
        {
         "alignmentgroup": "True",
         "hovertemplate": "genre=%{x}<br>box_office=%{y}<extra></extra>",
         "legendgroup": "Adventure,Drama,Sci-Fi",
         "marker": {
          "color": "#FF6692"
         },
         "name": "Adventure,Drama,Sci-Fi",
         "notched": false,
         "offsetgroup": "Adventure,Drama,Sci-Fi",
         "orientation": "v",
         "showlegend": true,
         "type": "box",
         "x": [
          "Adventure,Drama,Sci-Fi"
         ],
         "x0": " ",
         "xaxis": "x",
         "y": [
          "773867216"
         ],
         "y0": " ",
         "yaxis": "y"
        },
        {
         "alignmentgroup": "True",
         "hovertemplate": "genre=%{x}<br>box_office=%{y}<extra></extra>",
         "legendgroup": "Comedy,Drama,Romance",
         "marker": {
          "color": "#B6E880"
         },
         "name": "Comedy,Drama,Romance",
         "notched": false,
         "offsetgroup": "Comedy,Drama,Romance",
         "orientation": "v",
         "showlegend": true,
         "type": "box",
         "x": [
          "Comedy,Drama,Romance",
          "Comedy,Drama,Romance",
          "Comedy,Drama,Romance",
          "Comedy,Drama,Romance"
         ],
         "x0": " ",
         "xaxis": "x",
         "y": [
          "230098753",
          "463618",
          "50419",
          "18778738"
         ],
         "y0": " ",
         "yaxis": "y"
        },
        {
         "alignmentgroup": "True",
         "hovertemplate": "genre=%{x}<br>box_office=%{y}<extra></extra>",
         "legendgroup": "Crime,Drama,Fantasy",
         "marker": {
          "color": "#FF97FF"
         },
         "name": "Crime,Drama,Fantasy",
         "notched": false,
         "offsetgroup": "Crime,Drama,Fantasy",
         "orientation": "v",
         "showlegend": true,
         "type": "box",
         "x": [
          "Crime,Drama,Fantasy"
         ],
         "x0": " ",
         "xaxis": "x",
         "y": [
          "286801374"
         ],
         "y0": " ",
         "yaxis": "y"
        },
        {
         "alignmentgroup": "True",
         "hovertemplate": "genre=%{x}<br>box_office=%{y}<extra></extra>",
         "legendgroup": "Adventure,Comedy,Sci-Fi",
         "marker": {
          "color": "#FECB52"
         },
         "name": "Adventure,Comedy,Sci-Fi",
         "notched": false,
         "offsetgroup": "Adventure,Comedy,Sci-Fi",
         "orientation": "v",
         "showlegend": true,
         "type": "box",
         "x": [
          "Adventure,Comedy,Sci-Fi"
         ],
         "x0": " ",
         "xaxis": "x",
         "y": [
          "383336762"
         ],
         "y0": " ",
         "yaxis": "y"
        },
        {
         "alignmentgroup": "True",
         "hovertemplate": "genre=%{x}<br>box_office=%{y}<extra></extra>",
         "legendgroup": "Animation,Adventure,Family",
         "marker": {
          "color": "#636efa"
         },
         "name": "Animation,Adventure,Family",
         "notched": false,
         "offsetgroup": "Animation,Adventure,Family",
         "orientation": "v",
         "showlegend": true,
         "type": "box",
         "x": [
          "Animation,Adventure,Family",
          "Animation,Adventure,Family",
          "Animation,Adventure,Family"
         ],
         "x0": " ",
         "xaxis": "x",
         "y": [
          "355822319",
          "521311890",
          "237536126"
         ],
         "y0": " ",
         "yaxis": "y"
        },
        {
         "alignmentgroup": "True",
         "hovertemplate": "genre=%{x}<br>box_office=%{y}<extra></extra>",
         "legendgroup": "Biography,Drama,Music",
         "marker": {
          "color": "#EF553B"
         },
         "name": "Biography,Drama,Music",
         "notched": false,
         "offsetgroup": "Biography,Drama,Music",
         "orientation": "v",
         "showlegend": true,
         "type": "box",
         "x": [
          "Biography,Drama,Music",
          "Biography,Drama,Music"
         ],
         "x0": " ",
         "xaxis": "x",
         "y": [
          "120072577",
          "52066791"
         ],
         "y0": " ",
         "yaxis": "y"
        },
        {
         "alignmentgroup": "True",
         "hovertemplate": "genre=%{x}<br>box_office=%{y}<extra></extra>",
         "legendgroup": "Horror,Mystery,Thriller",
         "marker": {
          "color": "#00cc96"
         },
         "name": "Horror,Mystery,Thriller",
         "notched": false,
         "offsetgroup": "Horror,Mystery,Thriller",
         "orientation": "v",
         "showlegend": true,
         "type": "box",
         "x": [
          "Horror,Mystery,Thriller"
         ],
         "x0": " ",
         "xaxis": "x",
         "y": [
          "32052925"
         ],
         "y0": " ",
         "yaxis": "y"
        },
        {
         "alignmentgroup": "True",
         "hovertemplate": "genre=%{x}<br>box_office=%{y}<extra></extra>",
         "legendgroup": "Drama,Thriller",
         "marker": {
          "color": "#ab63fa"
         },
         "name": "Drama,Thriller",
         "notched": false,
         "offsetgroup": "Drama,Thriller",
         "orientation": "v",
         "showlegend": true,
         "type": "box",
         "x": [
          "Drama,Thriller",
          "Drama,Thriller",
          "Drama,Thriller",
          "Drama,Thriller"
         ],
         "x0": " ",
         "xaxis": "x",
         "y": [
          "262676096",
          "35401758",
          "20908467",
          "Not Available"
         ],
         "y0": " ",
         "yaxis": "y"
        },
        {
         "alignmentgroup": "True",
         "hovertemplate": "genre=%{x}<br>box_office=%{y}<extra></extra>",
         "legendgroup": "Animation,Adventure,Drama",
         "marker": {
          "color": "#FFA15A"
         },
         "name": "Animation,Adventure,Drama",
         "notched": false,
         "offsetgroup": "Animation,Adventure,Drama",
         "orientation": "v",
         "showlegend": true,
         "type": "box",
         "x": [
          "Animation,Adventure,Drama"
         ],
         "x0": " ",
         "xaxis": "x",
         "y": [
          "968511805"
         ],
         "y0": " ",
         "yaxis": "y"
        },
        {
         "alignmentgroup": "True",
         "hovertemplate": "genre=%{x}<br>box_office=%{y}<extra></extra>",
         "legendgroup": "Drama,Mystery,Sci-Fi",
         "marker": {
          "color": "#19d3f3"
         },
         "name": "Drama,Mystery,Sci-Fi",
         "notched": false,
         "offsetgroup": "Drama,Mystery,Sci-Fi",
         "orientation": "v",
         "showlegend": true,
         "type": "box",
         "x": [
          "Drama,Mystery,Sci-Fi"
         ],
         "x0": " ",
         "xaxis": "x",
         "y": [
          "109676311"
         ],
         "y0": " ",
         "yaxis": "y"
        },
        {
         "alignmentgroup": "True",
         "hovertemplate": "genre=%{x}<br>box_office=%{y}<extra></extra>",
         "legendgroup": "Drama,Music",
         "marker": {
          "color": "#FF6692"
         },
         "name": "Drama,Music",
         "notched": false,
         "offsetgroup": "Drama,Music",
         "orientation": "v",
         "showlegend": true,
         "type": "box",
         "x": [
          "Drama,Music"
         ],
         "x0": " ",
         "xaxis": "x",
         "y": [
          "49396747"
         ],
         "y0": " ",
         "yaxis": "y"
        },
        {
         "alignmentgroup": "True",
         "hovertemplate": "genre=%{x}<br>box_office=%{y}<extra></extra>",
         "legendgroup": "Drama,Romance,War",
         "marker": {
          "color": "#B6E880"
         },
         "name": "Drama,Romance,War",
         "notched": false,
         "offsetgroup": "Drama,Romance,War",
         "orientation": "v",
         "showlegend": true,
         "type": "box",
         "x": [
          "Drama,Romance,War",
          "Drama,Romance,War",
          "Drama,Romance,War"
         ],
         "x0": " ",
         "xaxis": "x",
         "y": [
          "4626532",
          "402382193",
          "23661347"
         ],
         "y0": " ",
         "yaxis": "y"
        },
        {
         "alignmentgroup": "True",
         "hovertemplate": "genre=%{x}<br>box_office=%{y}<extra></extra>",
         "legendgroup": "Animation,Drama,War",
         "marker": {
          "color": "#FF97FF"
         },
         "name": "Animation,Drama,War",
         "notched": false,
         "offsetgroup": "Animation,Drama,War",
         "orientation": "v",
         "showlegend": true,
         "type": "box",
         "x": [
          "Animation,Drama,War"
         ],
         "x0": " ",
         "xaxis": "x",
         "y": [
          "516962"
         ],
         "y0": " ",
         "yaxis": "y"
        },
        {
         "alignmentgroup": "True",
         "hovertemplate": "genre=%{x}<br>box_office=%{y}<extra></extra>",
         "legendgroup": "Action,Drama,Mystery",
         "marker": {
          "color": "#FECB52"
         },
         "name": "Action,Drama,Mystery",
         "notched": false,
         "offsetgroup": "Action,Drama,Mystery",
         "orientation": "v",
         "showlegend": true,
         "type": "box",
         "x": [
          "Action,Drama,Mystery",
          "Action,Drama,Mystery"
         ],
         "x0": " ",
         "xaxis": "x",
         "y": [
          "Not Available",
          "15421226"
         ],
         "y0": " ",
         "yaxis": "y"
        },
        {
         "alignmentgroup": "True",
         "hovertemplate": "genre=%{x}<br>box_office=%{y}<extra></extra>",
         "legendgroup": "Biography,Comedy,Drama",
         "marker": {
          "color": "#636efa"
         },
         "name": "Biography,Comedy,Drama",
         "notched": false,
         "offsetgroup": "Biography,Comedy,Drama",
         "orientation": "v",
         "showlegend": true,
         "type": "box",
         "x": [
          "Biography,Comedy,Drama",
          "Biography,Comedy,Drama"
         ],
         "x0": " ",
         "xaxis": "x",
         "y": [
          "426588510",
          "321752656"
         ],
         "y0": " ",
         "yaxis": "y"
        },
        {
         "alignmentgroup": "True",
         "hovertemplate": "genre=%{x}<br>box_office=%{y}<extra></extra>",
         "legendgroup": "Western",
         "marker": {
          "color": "#EF553B"
         },
         "name": "Western",
         "notched": false,
         "offsetgroup": "Western",
         "orientation": "v",
         "showlegend": true,
         "type": "box",
         "x": [
          "Western",
          "Western"
         ],
         "x0": " ",
         "xaxis": "x",
         "y": [
          "5435024",
          "15000000"
         ],
         "y0": " ",
         "yaxis": "y"
        },
        {
         "alignmentgroup": "True",
         "hovertemplate": "genre=%{x}<br>box_office=%{y}<extra></extra>",
         "legendgroup": "Mystery,Thriller",
         "marker": {
          "color": "#00cc96"
         },
         "name": "Mystery,Thriller",
         "notched": false,
         "offsetgroup": "Mystery,Thriller",
         "orientation": "v",
         "showlegend": true,
         "type": "box",
         "x": [
          "Mystery,Thriller",
          "Mystery,Thriller",
          "Mystery,Thriller"
         ],
         "x0": " ",
         "xaxis": "x",
         "y": [
          "37034579",
          "40047078",
          "294805697"
         ],
         "y0": " ",
         "yaxis": "y"
        },
        {
         "alignmentgroup": "True",
         "hovertemplate": "genre=%{x}<br>box_office=%{y}<extra></extra>",
         "legendgroup": "Horror,Sci-Fi",
         "marker": {
          "color": "#ab63fa"
         },
         "name": "Horror,Sci-Fi",
         "notched": false,
         "offsetgroup": "Horror,Sci-Fi",
         "orientation": "v",
         "showlegend": true,
         "type": "box",
         "x": [
          "Horror,Sci-Fi"
         ],
         "x0": " ",
         "xaxis": "x",
         "y": [
          "106285522"
         ],
         "y0": " ",
         "yaxis": "y"
        },
        {
         "alignmentgroup": "True",
         "hovertemplate": "genre=%{x}<br>box_office=%{y}<extra></extra>",
         "legendgroup": "Drama,Mystery,War",
         "marker": {
          "color": "#FFA15A"
         },
         "name": "Drama,Mystery,War",
         "notched": false,
         "offsetgroup": "Drama,Mystery,War",
         "orientation": "v",
         "showlegend": true,
         "type": "box",
         "x": [
          "Drama,Mystery,War"
         ],
         "x0": " ",
         "xaxis": "x",
         "y": [
          "104880868"
         ],
         "y0": " ",
         "yaxis": "y"
        },
        {
         "alignmentgroup": "True",
         "hovertemplate": "genre=%{x}<br>box_office=%{y}<extra></extra>",
         "legendgroup": "Drama,Western",
         "marker": {
          "color": "#19d3f3"
         },
         "name": "Drama,Western",
         "notched": false,
         "offsetgroup": "Drama,Western",
         "orientation": "v",
         "showlegend": true,
         "type": "box",
         "x": [
          "Drama,Western",
          "Drama,Western"
         ],
         "x0": " ",
         "xaxis": "x",
         "y": [
          "426074373",
          "159167799"
         ],
         "y0": " ",
         "yaxis": "y"
        },
        {
         "alignmentgroup": "True",
         "hovertemplate": "genre=%{x}<br>box_office=%{y}<extra></extra>",
         "legendgroup": "Action,Adventure",
         "marker": {
          "color": "#FF6692"
         },
         "name": "Action,Adventure",
         "notched": false,
         "offsetgroup": "Action,Adventure",
         "orientation": "v",
         "showlegend": true,
         "type": "box",
         "x": [
          "Action,Adventure",
          "Action,Adventure"
         ],
         "x0": " ",
         "xaxis": "x",
         "y": [
          "389925971",
          "474171806"
         ],
         "y0": " ",
         "yaxis": "y"
        },
        {
         "alignmentgroup": "True",
         "hovertemplate": "genre=%{x}<br>box_office=%{y}<extra></extra>",
         "legendgroup": "Drama,Mystery,Thriller",
         "marker": {
          "color": "#B6E880"
         },
         "name": "Drama,Mystery,Thriller",
         "notched": false,
         "offsetgroup": "Drama,Mystery,Thriller",
         "orientation": "v",
         "showlegend": true,
         "type": "box",
         "x": [
          "Drama,Mystery,Thriller",
          "Drama,Mystery,Thriller",
          "Drama,Mystery,Thriller",
          "Drama,Mystery,Thriller"
         ],
         "x0": " ",
         "xaxis": "x",
         "y": [
          "77356942",
          "672806432",
          "29225935",
          "Not Available"
         ],
         "y0": " ",
         "yaxis": "y"
        },
        {
         "alignmentgroup": "True",
         "hovertemplate": "genre=%{x}<br>box_office=%{y}<extra></extra>",
         "legendgroup": "Drama,Film-Noir",
         "marker": {
          "color": "#FF97FF"
         },
         "name": "Drama,Film-Noir",
         "notched": false,
         "offsetgroup": "Drama,Film-Noir",
         "orientation": "v",
         "showlegend": true,
         "type": "box",
         "x": [
          "Drama,Film-Noir"
         ],
         "x0": " ",
         "xaxis": "x",
         "y": [
          "300073"
         ],
         "y0": " ",
         "yaxis": "y"
        },
        {
         "alignmentgroup": "True",
         "hovertemplate": "genre=%{x}<br>box_office=%{y}<extra></extra>",
         "legendgroup": "Drama,Horror",
         "marker": {
          "color": "#FECB52"
         },
         "name": "Drama,Horror",
         "notched": false,
         "offsetgroup": "Drama,Horror",
         "orientation": "v",
         "showlegend": true,
         "type": "box",
         "x": [
          "Drama,Horror"
         ],
         "x0": " ",
         "xaxis": "x",
         "y": [
          "47335804"
         ],
         "y0": " ",
         "yaxis": "y"
        },
        {
         "alignmentgroup": "True",
         "hovertemplate": "genre=%{x}<br>box_office=%{y}<extra></extra>",
         "legendgroup": "Comedy,Drama,War",
         "marker": {
          "color": "#636efa"
         },
         "name": "Comedy,Drama,War",
         "notched": false,
         "offsetgroup": "Comedy,Drama,War",
         "orientation": "v",
         "showlegend": true,
         "type": "box",
         "x": [
          "Comedy,Drama,War"
         ],
         "x0": " ",
         "xaxis": "x",
         "y": [
          "970263"
         ],
         "y0": " ",
         "yaxis": "y"
        },
        {
         "alignmentgroup": "True",
         "hovertemplate": "genre=%{x}<br>box_office=%{y}<extra></extra>",
         "legendgroup": "Animation,Action,Adventure",
         "marker": {
          "color": "#EF553B"
         },
         "name": "Animation,Action,Adventure",
         "notched": false,
         "offsetgroup": "Animation,Action,Adventure",
         "orientation": "v",
         "showlegend": true,
         "type": "box",
         "x": [
          "Animation,Action,Adventure",
          "Animation,Action,Adventure",
          "Animation,Action,Adventure",
          "Animation,Action,Adventure",
          "Animation,Action,Adventure"
         ],
         "x0": " ",
         "xaxis": "x",
         "y": [
          "Not Available",
          "170005875",
          "494879471",
          "631607053",
          "23335817"
         ],
         "y0": " ",
         "yaxis": "y"
        },
        {
         "alignmentgroup": "True",
         "hovertemplate": "genre=%{x}<br>box_office=%{y}<extra></extra>",
         "legendgroup": "Comedy,War",
         "marker": {
          "color": "#00cc96"
         },
         "name": "Comedy,War",
         "notched": false,
         "offsetgroup": "Comedy,War",
         "orientation": "v",
         "showlegend": true,
         "type": "box",
         "x": [
          "Comedy,War"
         ],
         "x0": " ",
         "xaxis": "x",
         "y": [
          "9523464"
         ],
         "y0": " ",
         "yaxis": "y"
        },
        {
         "alignmentgroup": "True",
         "hovertemplate": "genre=%{x}<br>box_office=%{y}<extra></extra>",
         "legendgroup": "Adventure,Drama,War",
         "marker": {
          "color": "#ab63fa"
         },
         "name": "Adventure,Drama,War",
         "notched": false,
         "offsetgroup": "Adventure,Drama,War",
         "orientation": "v",
         "showlegend": true,
         "type": "box",
         "x": [
          "Adventure,Drama,War",
          "Adventure,Drama,War",
          "Adventure,Drama,War"
         ],
         "x0": " ",
         "xaxis": "x",
         "y": [
          "321457747",
          "27200000",
          "199632"
         ],
         "y0": " ",
         "yaxis": "y"
        },
        {
         "alignmentgroup": "True",
         "hovertemplate": "genre=%{x}<br>box_office=%{y}<extra></extra>",
         "legendgroup": "Animation,Adventure,Comedy",
         "marker": {
          "color": "#FFA15A"
         },
         "name": "Animation,Adventure,Comedy",
         "notched": false,
         "offsetgroup": "Animation,Adventure,Comedy",
         "orientation": "v",
         "showlegend": true,
         "type": "box",
         "x": [
          "Animation,Adventure,Comedy",
          "Animation,Adventure,Comedy",
          "Animation,Adventure,Comedy",
          "Animation,Adventure,Comedy",
          "Animation,Adventure,Comedy",
          "Animation,Adventure,Comedy",
          "Animation,Adventure,Comedy",
          "Animation,Adventure,Comedy",
          "Animation,Adventure,Comedy",
          "Animation,Adventure,Comedy"
         ],
         "x0": " ",
         "xaxis": "x",
         "y": [
          "814337054",
          "394436586",
          "1067316101",
          "735099102",
          "941637960",
          "858848019",
          "Not Available",
          "579707738",
          "623726085",
          "Not Available"
         ],
         "y0": " ",
         "yaxis": "y"
        },
        {
         "alignmentgroup": "True",
         "hovertemplate": "genre=%{x}<br>box_office=%{y}<extra></extra>",
         "legendgroup": "Animation,Drama,Fantasy",
         "marker": {
          "color": "#19d3f3"
         },
         "name": "Animation,Drama,Fantasy",
         "notched": false,
         "offsetgroup": "Animation,Drama,Fantasy",
         "orientation": "v",
         "showlegend": true,
         "type": "box",
         "x": [
          "Animation,Drama,Fantasy"
         ],
         "x0": " ",
         "xaxis": "x",
         "y": [
          "Not Available"
         ],
         "y0": " ",
         "yaxis": "y"
        },
        {
         "alignmentgroup": "True",
         "hovertemplate": "genre=%{x}<br>box_office=%{y}<extra></extra>",
         "legendgroup": "Comedy,Drama",
         "marker": {
          "color": "#FF6692"
         },
         "name": "Comedy,Drama",
         "notched": false,
         "offsetgroup": "Comedy,Drama",
         "orientation": "v",
         "showlegend": true,
         "type": "box",
         "x": [
          "Comedy,Drama",
          "Comedy,Drama",
          "Comedy,Drama",
          "Comedy,Drama"
         ],
         "x0": " ",
         "xaxis": "x",
         "y": [
          "60262836",
          "264118201",
          "144738",
          "235860116"
         ],
         "y0": " ",
         "yaxis": "y"
        },
        {
         "alignmentgroup": "True",
         "hovertemplate": "genre=%{x}<br>box_office=%{y}<extra></extra>",
         "legendgroup": "Comedy,Musical,Romance",
         "marker": {
          "color": "#B6E880"
         },
         "name": "Comedy,Musical,Romance",
         "notched": false,
         "offsetgroup": "Comedy,Musical,Romance",
         "orientation": "v",
         "showlegend": true,
         "type": "box",
         "x": [
          "Comedy,Musical,Romance"
         ],
         "x0": " ",
         "xaxis": "x",
         "y": [
          "2000288"
         ],
         "y0": " ",
         "yaxis": "y"
        },
        {
         "alignmentgroup": "True",
         "hovertemplate": "genre=%{x}<br>box_office=%{y}<extra></extra>",
         "legendgroup": "Drama,Romance,Sci-Fi",
         "marker": {
          "color": "#FF97FF"
         },
         "name": "Drama,Romance,Sci-Fi",
         "notched": false,
         "offsetgroup": "Drama,Romance,Sci-Fi",
         "orientation": "v",
         "showlegend": true,
         "type": "box",
         "x": [
          "Drama,Romance,Sci-Fi"
         ],
         "x0": " ",
         "xaxis": "x",
         "y": [
          "74036715"
         ],
         "y0": " ",
         "yaxis": "y"
        },
        {
         "alignmentgroup": "True",
         "hovertemplate": "genre=%{x}<br>box_office=%{y}<extra></extra>",
         "legendgroup": "Adventure,Sci-Fi",
         "marker": {
          "color": "#FECB52"
         },
         "name": "Adventure,Sci-Fi",
         "notched": false,
         "offsetgroup": "Adventure,Sci-Fi",
         "orientation": "v",
         "showlegend": true,
         "type": "box",
         "x": [
          "Adventure,Sci-Fi"
         ],
         "x0": " ",
         "xaxis": "x",
         "y": [
          "65889846"
         ],
         "y0": " ",
         "yaxis": "y"
        },
        {
         "alignmentgroup": "True",
         "hovertemplate": "genre=%{x}<br>box_office=%{y}<extra></extra>",
         "legendgroup": "Crime,Thriller",
         "marker": {
          "color": "#636efa"
         },
         "name": "Crime,Thriller",
         "notched": false,
         "offsetgroup": "Crime,Thriller",
         "orientation": "v",
         "showlegend": true,
         "type": "box",
         "x": [
          "Crime,Thriller",
          "Crime,Thriller",
          "Crime,Thriller"
         ],
         "x0": " ",
         "xaxis": "x",
         "y": [
          "2913644",
          "31207",
          "60611975"
         ],
         "y0": " ",
         "yaxis": "y"
        },
        {
         "alignmentgroup": "True",
         "hovertemplate": "genre=%{x}<br>box_office=%{y}<extra></extra>",
         "legendgroup": "Drama,Thriller,War",
         "marker": {
          "color": "#EF553B"
         },
         "name": "Drama,Thriller,War",
         "notched": false,
         "offsetgroup": "Drama,Thriller,War",
         "orientation": "v",
         "showlegend": true,
         "type": "box",
         "x": [
          "Drama,Thriller,War"
         ],
         "x0": " ",
         "xaxis": "x",
         "y": [
          "Not Available"
         ],
         "y0": " ",
         "yaxis": "y"
        },
        {
         "alignmentgroup": "True",
         "hovertemplate": "genre=%{x}<br>box_office=%{y}<extra></extra>",
         "legendgroup": "Drama,Mystery",
         "marker": {
          "color": "#00cc96"
         },
         "name": "Drama,Mystery",
         "notched": false,
         "offsetgroup": "Drama,Mystery",
         "orientation": "v",
         "showlegend": true,
         "type": "box",
         "x": [
          "Drama,Mystery",
          "Drama,Mystery",
          "Drama,Mystery"
         ],
         "x0": " ",
         "xaxis": "x",
         "y": [
          "1645133",
          "6788659",
          "24427162"
         ],
         "y0": " ",
         "yaxis": "y"
        },
        {
         "alignmentgroup": "True",
         "hovertemplate": "genre=%{x}<br>box_office=%{y}<extra></extra>",
         "legendgroup": "Crime,Mystery,Thriller",
         "marker": {
          "color": "#ab63fa"
         },
         "name": "Crime,Mystery,Thriller",
         "notched": false,
         "offsetgroup": "Crime,Mystery,Thriller",
         "orientation": "v",
         "showlegend": true,
         "type": "box",
         "x": [
          "Crime,Mystery,Thriller"
         ],
         "x0": " ",
         "xaxis": "x",
         "y": [
          "35566"
         ],
         "y0": " ",
         "yaxis": "y"
        },
        {
         "alignmentgroup": "True",
         "hovertemplate": "genre=%{x}<br>box_office=%{y}<extra></extra>",
         "legendgroup": "Adventure,Biography,Drama",
         "marker": {
          "color": "#FFA15A"
         },
         "name": "Adventure,Biography,Drama",
         "notched": false,
         "offsetgroup": "Adventure,Biography,Drama",
         "orientation": "v",
         "showlegend": true,
         "type": "box",
         "x": [
          "Adventure,Biography,Drama",
          "Adventure,Biography,Drama",
          "Adventure,Biography,Drama"
         ],
         "x0": " ",
         "xaxis": "x",
         "y": [
          "45720631",
          "56675895",
          "14480"
         ],
         "y0": " ",
         "yaxis": "y"
        },
        {
         "alignmentgroup": "True",
         "hovertemplate": "genre=%{x}<br>box_office=%{y}<extra></extra>",
         "legendgroup": "Action,Adventure,Mystery",
         "marker": {
          "color": "#19d3f3"
         },
         "name": "Action,Adventure,Mystery",
         "notched": false,
         "offsetgroup": "Action,Adventure,Mystery",
         "orientation": "v",
         "showlegend": true,
         "type": "box",
         "x": [
          "Action,Adventure,Mystery"
         ],
         "x0": " ",
         "xaxis": "x",
         "y": [
          "142319"
         ],
         "y0": " ",
         "yaxis": "y"
        },
        {
         "alignmentgroup": "True",
         "hovertemplate": "genre=%{x}<br>box_office=%{y}<extra></extra>",
         "legendgroup": "Mystery,Romance,Thriller",
         "marker": {
          "color": "#FF6692"
         },
         "name": "Mystery,Romance,Thriller",
         "notched": false,
         "offsetgroup": "Mystery,Romance,Thriller",
         "orientation": "v",
         "showlegend": true,
         "type": "box",
         "x": [
          "Mystery,Romance,Thriller"
         ],
         "x0": " ",
         "xaxis": "x",
         "y": [
          "7798146"
         ],
         "y0": " ",
         "yaxis": "y"
        },
        {
         "alignmentgroup": "True",
         "hovertemplate": "genre=%{x}<br>box_office=%{y}<extra></extra>",
         "legendgroup": "Comedy,Romance",
         "marker": {
          "color": "#B6E880"
         },
         "name": "Comedy,Romance",
         "notched": false,
         "offsetgroup": "Comedy,Romance",
         "orientation": "v",
         "showlegend": true,
         "type": "box",
         "x": [
          "Comedy,Romance",
          "Comedy,Romance"
         ],
         "x0": " ",
         "xaxis": "x",
         "y": [
          "174122191",
          "11477"
         ],
         "y0": " ",
         "yaxis": "y"
        },
        {
         "alignmentgroup": "True",
         "hovertemplate": "genre=%{x}<br>box_office=%{y}<extra></extra>",
         "legendgroup": "Crime,Sci-Fi",
         "marker": {
          "color": "#FF97FF"
         },
         "name": "Crime,Sci-Fi",
         "notched": false,
         "offsetgroup": "Crime,Sci-Fi",
         "orientation": "v",
         "showlegend": true,
         "type": "box",
         "x": [
          "Crime,Sci-Fi"
         ],
         "x0": " ",
         "xaxis": "x",
         "y": [
          "26960374"
         ],
         "y0": " ",
         "yaxis": "y"
        },
        {
         "alignmentgroup": "True",
         "hovertemplate": "genre=%{x}<br>box_office=%{y}<extra></extra>",
         "legendgroup": "Crime,Drama,Film-Noir",
         "marker": {
          "color": "#FECB52"
         },
         "name": "Crime,Drama,Film-Noir",
         "notched": false,
         "offsetgroup": "Crime,Drama,Film-Noir",
         "orientation": "v",
         "showlegend": true,
         "type": "box",
         "x": [
          "Crime,Drama,Film-Noir"
         ],
         "x0": " ",
         "xaxis": "x",
         "y": [
          "14651"
         ],
         "y0": " ",
         "yaxis": "y"
        },
        {
         "alignmentgroup": "True",
         "hovertemplate": "genre=%{x}<br>box_office=%{y}<extra></extra>",
         "legendgroup": "Comedy,Crime,Drama",
         "marker": {
          "color": "#636efa"
         },
         "name": "Comedy,Crime,Drama",
         "notched": false,
         "offsetgroup": "Comedy,Crime,Drama",
         "orientation": "v",
         "showlegend": true,
         "type": "box",
         "x": [
          "Comedy,Crime,Drama",
          "Comedy,Crime,Drama"
         ],
         "x0": " ",
         "xaxis": "x",
         "y": [
          "156000000",
          "162861289"
         ],
         "y0": " ",
         "yaxis": "y"
        },
        {
         "alignmentgroup": "True",
         "hovertemplate": "genre=%{x}<br>box_office=%{y}<extra></extra>",
         "legendgroup": "Drama,Sci-Fi",
         "marker": {
          "color": "#EF553B"
         },
         "name": "Drama,Sci-Fi",
         "notched": false,
         "offsetgroup": "Drama,Sci-Fi",
         "orientation": "v",
         "showlegend": true,
         "type": "box",
         "x": [
          "Drama,Sci-Fi"
         ],
         "x0": " ",
         "xaxis": "x",
         "y": [
          "1349711"
         ],
         "y0": " ",
         "yaxis": "y"
        },
        {
         "alignmentgroup": "True",
         "hovertemplate": "genre=%{x}<br>box_office=%{y}<extra></extra>",
         "legendgroup": "Action,Thriller",
         "marker": {
          "color": "#00cc96"
         },
         "name": "Action,Thriller",
         "notched": false,
         "offsetgroup": "Action,Thriller",
         "orientation": "v",
         "showlegend": true,
         "type": "box",
         "x": [
          "Action,Thriller"
         ],
         "x0": " ",
         "xaxis": "x",
         "y": [
          "141603197"
         ],
         "y0": " ",
         "yaxis": "y"
        },
        {
         "alignmentgroup": "True",
         "hovertemplate": "genre=%{x}<br>box_office=%{y}<extra></extra>",
         "legendgroup": "Comedy,Crime",
         "marker": {
          "color": "#ab63fa"
         },
         "name": "Comedy,Crime",
         "notched": false,
         "offsetgroup": "Comedy,Crime",
         "orientation": "v",
         "showlegend": true,
         "type": "box",
         "x": [
          "Comedy,Crime",
          "Comedy,Crime"
         ],
         "x0": " ",
         "xaxis": "x",
         "y": [
          "83557872",
          "46969409"
         ],
         "y0": " ",
         "yaxis": "y"
        },
        {
         "alignmentgroup": "True",
         "hovertemplate": "genre=%{x}<br>box_office=%{y}<extra></extra>",
         "legendgroup": "Drama,Family",
         "marker": {
          "color": "#FFA15A"
         },
         "name": "Drama,Family",
         "notched": false,
         "offsetgroup": "Drama,Family",
         "orientation": "v",
         "showlegend": true,
         "type": "box",
         "x": [
          "Drama,Family",
          "Drama,Family"
         ],
         "x0": " ",
         "xaxis": "x",
         "y": [
          "21897373",
          "Not Available"
         ],
         "y0": " ",
         "yaxis": "y"
        },
        {
         "alignmentgroup": "True",
         "hovertemplate": "genre=%{x}<br>box_office=%{y}<extra></extra>",
         "legendgroup": "Action,Drama,War",
         "marker": {
          "color": "#19d3f3"
         },
         "name": "Action,Drama,War",
         "notched": false,
         "offsetgroup": "Action,Drama,War",
         "orientation": "v",
         "showlegend": true,
         "type": "box",
         "x": [
          "Action,Drama,War",
          "Action,Drama,War"
         ],
         "x0": " ",
         "xaxis": "x",
         "y": [
          "384479940",
          "4164283"
         ],
         "y0": " ",
         "yaxis": "y"
        },
        {
         "alignmentgroup": "True",
         "hovertemplate": "genre=%{x}<br>box_office=%{y}<extra></extra>",
         "legendgroup": "Action,Biography,Drama",
         "marker": {
          "color": "#FF6692"
         },
         "name": "Action,Biography,Drama",
         "notched": false,
         "offsetgroup": "Action,Biography,Drama",
         "orientation": "v",
         "showlegend": true,
         "type": "box",
         "x": [
          "Action,Biography,Drama",
          "Action,Biography,Drama",
          "Action,Biography,Drama"
         ],
         "x0": " ",
         "xaxis": "x",
         "y": [
          "Not Available",
          "225508210",
          "96983009"
         ],
         "y0": " ",
         "yaxis": "y"
        },
        {
         "alignmentgroup": "True",
         "hovertemplate": "genre=%{x}<br>box_office=%{y}<extra></extra>",
         "legendgroup": "Comedy,Drama,Family",
         "marker": {
          "color": "#B6E880"
         },
         "name": "Comedy,Drama,Family",
         "notched": false,
         "offsetgroup": "Comedy,Drama,Family",
         "orientation": "v",
         "showlegend": true,
         "type": "box",
         "x": [
          "Comedy,Drama,Family"
         ],
         "x0": " ",
         "xaxis": "x",
         "y": [
          "41960"
         ],
         "y0": " ",
         "yaxis": "y"
        },
        {
         "alignmentgroup": "True",
         "hovertemplate": "genre=%{x}<br>box_office=%{y}<extra></extra>",
         "legendgroup": "Comedy,Music,Romance",
         "marker": {
          "color": "#FF97FF"
         },
         "name": "Comedy,Music,Romance",
         "notched": false,
         "offsetgroup": "Comedy,Music,Romance",
         "orientation": "v",
         "showlegend": true,
         "type": "box",
         "x": [
          "Comedy,Music,Romance"
         ],
         "x0": " ",
         "xaxis": "x",
         "y": [
          "195088"
         ],
         "y0": " ",
         "yaxis": "y"
        },
        {
         "alignmentgroup": "True",
         "hovertemplate": "genre=%{x}<br>box_office=%{y}<extra></extra>",
         "legendgroup": "Biography,Comedy,Crime",
         "marker": {
          "color": "#FECB52"
         },
         "name": "Biography,Comedy,Crime",
         "notched": false,
         "offsetgroup": "Biography,Comedy,Crime",
         "orientation": "v",
         "showlegend": true,
         "type": "box",
         "x": [
          "Biography,Comedy,Crime"
         ],
         "x0": " ",
         "xaxis": "x",
         "y": [
          "406878233"
         ],
         "y0": " ",
         "yaxis": "y"
        },
        {
         "alignmentgroup": "True",
         "hovertemplate": "genre=%{x}<br>box_office=%{y}<extra></extra>",
         "legendgroup": "Drama,Fantasy,War",
         "marker": {
          "color": "#636efa"
         },
         "name": "Drama,Fantasy,War",
         "notched": false,
         "offsetgroup": "Drama,Fantasy,War",
         "orientation": "v",
         "showlegend": true,
         "type": "box",
         "x": [
          "Drama,Fantasy,War"
         ],
         "x0": " ",
         "xaxis": "x",
         "y": [
          "83862032"
         ],
         "y0": " ",
         "yaxis": "y"
        },
        {
         "alignmentgroup": "True",
         "hovertemplate": "genre=%{x}<br>box_office=%{y}<extra></extra>",
         "legendgroup": "Biography,Drama",
         "marker": {
          "color": "#EF553B"
         },
         "name": "Biography,Drama",
         "notched": false,
         "offsetgroup": "Biography,Drama",
         "orientation": "v",
         "showlegend": true,
         "type": "box",
         "x": [
          "Biography,Drama",
          "Biography,Drama"
         ],
         "x0": " ",
         "xaxis": "x",
         "y": [
          "316791257",
          "26023860"
         ],
         "y0": " ",
         "yaxis": "y"
        },
        {
         "alignmentgroup": "True",
         "hovertemplate": "genre=%{x}<br>box_office=%{y}<extra></extra>",
         "legendgroup": "Action,Drama,Thriller",
         "marker": {
          "color": "#00cc96"
         },
         "name": "Action,Drama,Thriller",
         "notched": false,
         "offsetgroup": "Action,Drama,Thriller",
         "orientation": "v",
         "showlegend": true,
         "type": "box",
         "x": [
          "Action,Drama,Thriller"
         ],
         "x0": " ",
         "xaxis": "x",
         "y": [
          "46808"
         ],
         "y0": " ",
         "yaxis": "y"
        },
        {
         "alignmentgroup": "True",
         "hovertemplate": "genre=%{x}<br>box_office=%{y}<extra></extra>",
         "legendgroup": "Adventure,Drama,Western",
         "marker": {
          "color": "#ab63fa"
         },
         "name": "Adventure,Drama,Western",
         "notched": false,
         "offsetgroup": "Adventure,Drama,Western",
         "orientation": "v",
         "showlegend": true,
         "type": "box",
         "x": [
          "Adventure,Drama,Western",
          "Adventure,Drama,Western"
         ],
         "x0": " ",
         "xaxis": "x",
         "y": [
          "5014000",
          "424208848"
         ],
         "y0": " ",
         "yaxis": "y"
        },
        {
         "alignmentgroup": "True",
         "hovertemplate": "genre=%{x}<br>box_office=%{y}<extra></extra>",
         "legendgroup": "Adventure,Comedy,Fantasy",
         "marker": {
          "color": "#FFA15A"
         },
         "name": "Adventure,Comedy,Fantasy",
         "notched": false,
         "offsetgroup": "Adventure,Comedy,Fantasy",
         "orientation": "v",
         "showlegend": true,
         "type": "box",
         "x": [
          "Adventure,Comedy,Fantasy"
         ],
         "x0": " ",
         "xaxis": "x",
         "y": [
          "1940906"
         ],
         "y0": " ",
         "yaxis": "y"
        },
        {
         "alignmentgroup": "True",
         "hovertemplate": "genre=%{x}<br>box_office=%{y}<extra></extra>",
         "legendgroup": "Adventure,Drama,History",
         "marker": {
          "color": "#19d3f3"
         },
         "name": "Adventure,Drama,History",
         "notched": false,
         "offsetgroup": "Adventure,Drama,History",
         "orientation": "v",
         "showlegend": true,
         "type": "box",
         "x": [
          "Adventure,Drama,History"
         ],
         "x0": " ",
         "xaxis": "x",
         "y": [
          "228178"
         ],
         "y0": " ",
         "yaxis": "y"
        },
        {
         "alignmentgroup": "True",
         "hovertemplate": "genre=%{x}<br>box_office=%{y}<extra></extra>",
         "legendgroup": "Horror,Mystery,Sci-Fi",
         "marker": {
          "color": "#FF6692"
         },
         "name": "Horror,Mystery,Sci-Fi",
         "notched": false,
         "offsetgroup": "Horror,Mystery,Sci-Fi",
         "orientation": "v",
         "showlegend": true,
         "type": "box",
         "x": [
          "Horror,Mystery,Sci-Fi"
         ],
         "x0": " ",
         "xaxis": "x",
         "y": [
          "19632715"
         ],
         "y0": " ",
         "yaxis": "y"
        },
        {
         "alignmentgroup": "True",
         "hovertemplate": "genre=%{x}<br>box_office=%{y}<extra></extra>",
         "legendgroup": "Biography,Drama,Sport",
         "marker": {
          "color": "#B6E880"
         },
         "name": "Biography,Drama,Sport",
         "notched": false,
         "offsetgroup": "Biography,Drama,Sport",
         "orientation": "v",
         "showlegend": true,
         "type": "box",
         "x": [
          "Biography,Drama,Sport"
         ],
         "x0": " ",
         "xaxis": "x",
         "y": [
          "23402427"
         ],
         "y0": " ",
         "yaxis": "y"
        },
        {
         "alignmentgroup": "True",
         "hovertemplate": "genre=%{x}<br>box_office=%{y}<extra></extra>",
         "legendgroup": "Action,Drama,Sci-Fi",
         "marker": {
          "color": "#FF97FF"
         },
         "name": "Action,Drama,Sci-Fi",
         "notched": false,
         "offsetgroup": "Action,Drama,Sci-Fi",
         "orientation": "v",
         "showlegend": true,
         "type": "box",
         "x": [
          "Action,Drama,Sci-Fi",
          "Action,Drama,Sci-Fi",
          "Action,Drama,Sci-Fi"
         ],
         "x0": " ",
         "xaxis": "x",
         "y": [
          "134686457",
          "41722424",
          "619179950"
         ],
         "y0": " ",
         "yaxis": "y"
        },
        {
         "alignmentgroup": "True",
         "hovertemplate": "genre=%{x}<br>box_office=%{y}<extra></extra>",
         "legendgroup": "Action,Comedy,Crime",
         "marker": {
          "color": "#FECB52"
         },
         "name": "Action,Comedy,Crime",
         "notched": false,
         "offsetgroup": "Action,Comedy,Crime",
         "orientation": "v",
         "showlegend": true,
         "type": "box",
         "x": [
          "Action,Comedy,Crime"
         ],
         "x0": " ",
         "xaxis": "x",
         "y": [
          "3753929"
         ],
         "y0": " ",
         "yaxis": "y"
        },
        {
         "alignmentgroup": "True",
         "hovertemplate": "genre=%{x}<br>box_office=%{y}<extra></extra>",
         "legendgroup": "Drama,Mystery,Romance",
         "marker": {
          "color": "#636efa"
         },
         "name": "Drama,Mystery,Romance",
         "notched": false,
         "offsetgroup": "Drama,Mystery,Romance",
         "orientation": "v",
         "showlegend": true,
         "type": "box",
         "x": [
          "Drama,Mystery,Romance"
         ],
         "x0": " ",
         "xaxis": "x",
         "y": [
          "Not Available"
         ],
         "y0": " ",
         "yaxis": "y"
        },
        {
         "alignmentgroup": "True",
         "hovertemplate": "genre=%{x}<br>box_office=%{y}<extra></extra>",
         "legendgroup": "Action,Drama,Sport",
         "marker": {
          "color": "#EF553B"
         },
         "name": "Action,Drama,Sport",
         "notched": false,
         "offsetgroup": "Action,Drama,Sport",
         "orientation": "v",
         "showlegend": true,
         "type": "box",
         "x": [
          "Action,Drama,Sport"
         ],
         "x0": " ",
         "xaxis": "x",
         "y": [
          "23308615"
         ],
         "y0": " ",
         "yaxis": "y"
        },
        {
         "alignmentgroup": "True",
         "hovertemplate": "genre=%{x}<br>box_office=%{y}<extra></extra>",
         "legendgroup": "Animation,Comedy,Family",
         "marker": {
          "color": "#00cc96"
         },
         "name": "Animation,Comedy,Family",
         "notched": false,
         "offsetgroup": "Animation,Comedy,Family",
         "orientation": "v",
         "showlegend": true,
         "type": "box",
         "x": [
          "Animation,Comedy,Family"
         ],
         "x0": " ",
         "xaxis": "x",
         "y": [
          "Not Available"
         ],
         "y0": " ",
         "yaxis": "y"
        },
        {
         "alignmentgroup": "True",
         "hovertemplate": "genre=%{x}<br>box_office=%{y}<extra></extra>",
         "legendgroup": "Drama,Sport",
         "marker": {
          "color": "#ab63fa"
         },
         "name": "Drama,Sport",
         "notched": false,
         "offsetgroup": "Drama,Sport",
         "orientation": "v",
         "showlegend": true,
         "type": "box",
         "x": [
          "Drama,Sport",
          "Drama,Sport"
         ],
         "x0": " ",
         "xaxis": "x",
         "y": [
          "216763646",
          "117250402"
         ],
         "y0": " ",
         "yaxis": "y"
        },
        {
         "alignmentgroup": "True",
         "hovertemplate": "genre=%{x}<br>box_office=%{y}<extra></extra>",
         "legendgroup": "Drama,Family,Sport",
         "marker": {
          "color": "#FFA15A"
         },
         "name": "Drama,Family,Sport",
         "notched": false,
         "offsetgroup": "Drama,Family,Sport",
         "orientation": "v",
         "showlegend": true,
         "type": "box",
         "x": [
          "Drama,Family,Sport"
         ],
         "x0": " ",
         "xaxis": "x",
         "y": [
          "Not Available"
         ],
         "y0": " ",
         "yaxis": "y"
        },
        {
         "alignmentgroup": "True",
         "hovertemplate": "genre=%{x}<br>box_office=%{y}<extra></extra>",
         "legendgroup": "Adventure,Comedy,Drama",
         "marker": {
          "color": "#19d3f3"
         },
         "name": "Adventure,Comedy,Drama",
         "notched": false,
         "offsetgroup": "Adventure,Comedy,Drama",
         "orientation": "v",
         "showlegend": true,
         "type": "box",
         "x": [
          "Adventure,Comedy,Drama"
         ],
         "x0": " ",
         "xaxis": "x",
         "y": [
          "29328"
         ],
         "y0": " ",
         "yaxis": "y"
        },
        {
         "alignmentgroup": "True",
         "hovertemplate": "genre=%{x}<br>box_office=%{y}<extra></extra>",
         "legendgroup": "Adventure,Family,Fantasy",
         "marker": {
          "color": "#FF6692"
         },
         "name": "Adventure,Family,Fantasy",
         "notched": false,
         "offsetgroup": "Adventure,Family,Fantasy",
         "orientation": "v",
         "showlegend": true,
         "type": "box",
         "x": [
          "Adventure,Family,Fantasy",
          "Adventure,Family,Fantasy"
         ],
         "x0": " ",
         "xaxis": "x",
         "y": [
          "1342359942",
          "25637669"
         ],
         "y0": " ",
         "yaxis": "y"
        },
        {
         "alignmentgroup": "True",
         "hovertemplate": "genre=%{x}<br>box_office=%{y}<extra></extra>",
         "legendgroup": "Adventure,Drama",
         "marker": {
          "color": "#B6E880"
         },
         "name": "Adventure,Drama",
         "notched": false,
         "offsetgroup": "Adventure,Drama",
         "orientation": "v",
         "showlegend": true,
         "type": "box",
         "x": [
          "Adventure,Drama",
          "Adventure,Drama"
         ],
         "x0": " ",
         "xaxis": "x",
         "y": [
          "74437720",
          "52287414"
         ],
         "y0": " ",
         "yaxis": "y"
        },
        {
         "alignmentgroup": "True",
         "hovertemplate": "genre=%{x}<br>box_office=%{y}<extra></extra>",
         "legendgroup": "Adventure,Comedy,Crime",
         "marker": {
          "color": "#FF97FF"
         },
         "name": "Adventure,Comedy,Crime",
         "notched": false,
         "offsetgroup": "Adventure,Comedy,Crime",
         "orientation": "v",
         "showlegend": true,
         "type": "box",
         "x": [
          "Adventure,Comedy,Crime"
         ],
         "x0": " ",
         "xaxis": "x",
         "y": [
          "173082189"
         ],
         "y0": " ",
         "yaxis": "y"
        },
        {
         "alignmentgroup": "True",
         "hovertemplate": "genre=%{x}<br>box_office=%{y}<extra></extra>",
         "legendgroup": "Action,Adventure,Comedy",
         "marker": {
          "color": "#FECB52"
         },
         "name": "Action,Adventure,Comedy",
         "notched": false,
         "offsetgroup": "Action,Adventure,Comedy",
         "orientation": "v",
         "showlegend": true,
         "type": "box",
         "x": [
          "Action,Adventure,Comedy"
         ],
         "x0": " ",
         "xaxis": "x",
         "y": [
          "750000 (estimated)"
         ],
         "y0": " ",
         "yaxis": "y"
        },
        {
         "alignmentgroup": "True",
         "hovertemplate": "genre=%{x}<br>box_office=%{y}<extra></extra>",
         "legendgroup": "Film-Noir,Mystery,Thriller",
         "marker": {
          "color": "#636efa"
         },
         "name": "Film-Noir,Mystery,Thriller",
         "notched": false,
         "offsetgroup": "Film-Noir,Mystery,Thriller",
         "orientation": "v",
         "showlegend": true,
         "type": "box",
         "x": [
          "Film-Noir,Mystery,Thriller"
         ],
         "x0": " ",
         "xaxis": "x",
         "y": [
          "1226507"
         ],
         "y0": " ",
         "yaxis": "y"
        },
        {
         "alignmentgroup": "True",
         "hovertemplate": "genre=%{x}<br>box_office=%{y}<extra></extra>",
         "legendgroup": "Adventure,Drama,Thriller",
         "marker": {
          "color": "#EF553B"
         },
         "name": "Adventure,Drama,Thriller",
         "notched": false,
         "offsetgroup": "Adventure,Drama,Thriller",
         "orientation": "v",
         "showlegend": true,
         "type": "box",
         "x": [
          "Adventure,Drama,Thriller"
         ],
         "x0": " ",
         "xaxis": "x",
         "y": [
          "1098"
         ],
         "y0": " ",
         "yaxis": "y"
        },
        {
         "alignmentgroup": "True",
         "hovertemplate": "genre=%{x}<br>box_office=%{y}<extra></extra>",
         "legendgroup": "Action,Comedy,Romance",
         "marker": {
          "color": "#00cc96"
         },
         "name": "Action,Comedy,Romance",
         "notched": false,
         "offsetgroup": "Action,Comedy,Romance",
         "orientation": "v",
         "showlegend": true,
         "type": "box",
         "x": [
          "Action,Comedy,Romance"
         ],
         "x0": " ",
         "xaxis": "x",
         "y": [
          "Not Available"
         ],
         "y0": " ",
         "yaxis": "y"
        },
        {
         "alignmentgroup": "True",
         "hovertemplate": "genre=%{x}<br>box_office=%{y}<extra></extra>",
         "legendgroup": "Comedy,Drama,Thriller",
         "marker": {
          "color": "#ab63fa"
         },
         "name": "Comedy,Drama,Thriller",
         "notched": false,
         "offsetgroup": "Comedy,Drama,Thriller",
         "orientation": "v",
         "showlegend": true,
         "type": "box",
         "x": [
          "Comedy,Drama,Thriller"
         ],
         "x0": " ",
         "xaxis": "x",
         "y": [
          "Not Available"
         ],
         "y0": " ",
         "yaxis": "y"
        },
        {
         "alignmentgroup": "True",
         "hovertemplate": "genre=%{x}<br>box_office=%{y}<extra></extra>",
         "legendgroup": "Drama,Fantasy",
         "marker": {
          "color": "#FFA15A"
         },
         "name": "Drama,Fantasy",
         "notched": false,
         "offsetgroup": "Drama,Fantasy",
         "orientation": "v",
         "showlegend": true,
         "type": "box",
         "x": [
          "Drama,Fantasy"
         ],
         "x0": " ",
         "xaxis": "x",
         "y": [
          "311212"
         ],
         "y0": " ",
         "yaxis": "y"
        },
        {
         "alignmentgroup": "True",
         "hovertemplate": "genre=%{x}<br>box_office=%{y}<extra></extra>",
         "legendgroup": "Animation,Comedy,Drama",
         "marker": {
          "color": "#19d3f3"
         },
         "name": "Animation,Comedy,Drama",
         "notched": false,
         "offsetgroup": "Animation,Comedy,Drama",
         "orientation": "v",
         "showlegend": true,
         "type": "box",
         "x": [
          "Animation,Comedy,Drama"
         ],
         "x0": " ",
         "xaxis": "x",
         "y": [
          "1740429"
         ],
         "y0": " ",
         "yaxis": "y"
        },
        {
         "alignmentgroup": "True",
         "hovertemplate": "genre=%{x}<br>box_office=%{y}<extra></extra>",
         "legendgroup": "Adventure,Thriller",
         "marker": {
          "color": "#FF6692"
         },
         "name": "Adventure,Thriller",
         "notched": false,
         "offsetgroup": "Adventure,Thriller",
         "orientation": "v",
         "showlegend": true,
         "type": "box",
         "x": [
          "Adventure,Thriller"
         ],
         "x0": " ",
         "xaxis": "x",
         "y": [
          "476512065"
         ],
         "y0": " ",
         "yaxis": "y"
        },
        {
         "alignmentgroup": "True",
         "hovertemplate": "genre=%{x}<br>box_office=%{y}<extra></extra>",
         "legendgroup": "Comedy,Drama,Fantasy",
         "marker": {
          "color": "#B6E880"
         },
         "name": "Comedy,Drama,Fantasy",
         "notched": false,
         "offsetgroup": "Comedy,Drama,Fantasy",
         "orientation": "v",
         "showlegend": true,
         "type": "box",
         "x": [
          "Comedy,Drama,Fantasy"
         ],
         "x0": " ",
         "xaxis": "x",
         "y": [
          "71108591"
         ],
         "y0": " ",
         "yaxis": "y"
        },
        {
         "alignmentgroup": "True",
         "hovertemplate": "genre=%{x}<br>box_office=%{y}<extra></extra>",
         "legendgroup": "Horror",
         "marker": {
          "color": "#FF97FF"
         },
         "name": "Horror",
         "notched": false,
         "offsetgroup": "Horror",
         "orientation": "v",
         "showlegend": true,
         "type": "box",
         "x": [
          "Horror"
         ],
         "x0": " ",
         "xaxis": "x",
         "y": [
          "441306145"
         ],
         "y0": " ",
         "yaxis": "y"
        },
        {
         "alignmentgroup": "True",
         "hovertemplate": "genre=%{x}<br>box_office=%{y}<extra></extra>",
         "legendgroup": "Comedy,Romance,War",
         "marker": {
          "color": "#FECB52"
         },
         "name": "Comedy,Romance,War",
         "notched": false,
         "offsetgroup": "Comedy,Romance,War",
         "orientation": "v",
         "showlegend": true,
         "type": "box",
         "x": [
          "Comedy,Romance,War"
         ],
         "x0": " ",
         "xaxis": "x",
         "y": [
          "Not Available"
         ],
         "y0": " ",
         "yaxis": "y"
        },
        {
         "alignmentgroup": "True",
         "hovertemplate": "genre=%{x}<br>box_office=%{y}<extra></extra>",
         "legendgroup": "Biography,Drama,Family",
         "marker": {
          "color": "#636efa"
         },
         "name": "Biography,Drama,Family",
         "notched": false,
         "offsetgroup": "Biography,Drama,Family",
         "orientation": "v",
         "showlegend": true,
         "type": "box",
         "x": [
          "Biography,Drama,Family",
          "Biography,Drama,Family"
         ],
         "x0": " ",
         "xaxis": "x",
         "y": [
          "Not Available",
          "159428329"
         ],
         "y0": " ",
         "yaxis": "y"
        },
        {
         "alignmentgroup": "True",
         "hovertemplate": "genre=%{x}<br>box_office=%{y}<extra></extra>",
         "legendgroup": "Drama,Film-Noir,Mystery",
         "marker": {
          "color": "#EF553B"
         },
         "name": "Drama,Film-Noir,Mystery",
         "notched": false,
         "offsetgroup": "Drama,Film-Noir,Mystery",
         "orientation": "v",
         "showlegend": true,
         "type": "box",
         "x": [
          "Drama,Film-Noir,Mystery"
         ],
         "x0": " ",
         "xaxis": "x",
         "y": [
          "72275"
         ],
         "y0": " ",
         "yaxis": "y"
        },
        {
         "alignmentgroup": "True",
         "hovertemplate": "genre=%{x}<br>box_office=%{y}<extra></extra>",
         "legendgroup": "Drama,Romance,Thriller",
         "marker": {
          "color": "#00cc96"
         },
         "name": "Drama,Romance,Thriller",
         "notched": false,
         "offsetgroup": "Drama,Romance,Thriller",
         "orientation": "v",
         "showlegend": true,
         "type": "box",
         "x": [
          "Drama,Romance,Thriller"
         ],
         "x0": " ",
         "xaxis": "x",
         "y": [
          "Not Available"
         ],
         "y0": " ",
         "yaxis": "y"
        },
        {
         "alignmentgroup": "True",
         "hovertemplate": "genre=%{x}<br>box_office=%{y}<extra></extra>",
         "legendgroup": "Comedy",
         "marker": {
          "color": "#ab63fa"
         },
         "name": "Comedy",
         "notched": false,
         "offsetgroup": "Comedy",
         "orientation": "v",
         "showlegend": true,
         "type": "box",
         "x": [
          "Comedy"
         ],
         "x0": " ",
         "xaxis": "x",
         "y": [
          "20745728"
         ],
         "y0": " ",
         "yaxis": "y"
        }
       ],
       "layout": {
        "boxmode": "overlay",
        "legend": {
         "title": {
          "text": "genre"
         },
         "tracegroupgap": 0
        },
        "template": {
         "data": {
          "bar": [
           {
            "error_x": {
             "color": "#2a3f5f"
            },
            "error_y": {
             "color": "#2a3f5f"
            },
            "marker": {
             "line": {
              "color": "#E5ECF6",
              "width": 0.5
             },
             "pattern": {
              "fillmode": "overlay",
              "size": 10,
              "solidity": 0.2
             }
            },
            "type": "bar"
           }
          ],
          "barpolar": [
           {
            "marker": {
             "line": {
              "color": "#E5ECF6",
              "width": 0.5
             },
             "pattern": {
              "fillmode": "overlay",
              "size": 10,
              "solidity": 0.2
             }
            },
            "type": "barpolar"
           }
          ],
          "carpet": [
           {
            "aaxis": {
             "endlinecolor": "#2a3f5f",
             "gridcolor": "white",
             "linecolor": "white",
             "minorgridcolor": "white",
             "startlinecolor": "#2a3f5f"
            },
            "baxis": {
             "endlinecolor": "#2a3f5f",
             "gridcolor": "white",
             "linecolor": "white",
             "minorgridcolor": "white",
             "startlinecolor": "#2a3f5f"
            },
            "type": "carpet"
           }
          ],
          "choropleth": [
           {
            "colorbar": {
             "outlinewidth": 0,
             "ticks": ""
            },
            "type": "choropleth"
           }
          ],
          "contour": [
           {
            "colorbar": {
             "outlinewidth": 0,
             "ticks": ""
            },
            "colorscale": [
             [
              0,
              "#0d0887"
             ],
             [
              0.1111111111111111,
              "#46039f"
             ],
             [
              0.2222222222222222,
              "#7201a8"
             ],
             [
              0.3333333333333333,
              "#9c179e"
             ],
             [
              0.4444444444444444,
              "#bd3786"
             ],
             [
              0.5555555555555556,
              "#d8576b"
             ],
             [
              0.6666666666666666,
              "#ed7953"
             ],
             [
              0.7777777777777778,
              "#fb9f3a"
             ],
             [
              0.8888888888888888,
              "#fdca26"
             ],
             [
              1,
              "#f0f921"
             ]
            ],
            "type": "contour"
           }
          ],
          "contourcarpet": [
           {
            "colorbar": {
             "outlinewidth": 0,
             "ticks": ""
            },
            "type": "contourcarpet"
           }
          ],
          "heatmap": [
           {
            "colorbar": {
             "outlinewidth": 0,
             "ticks": ""
            },
            "colorscale": [
             [
              0,
              "#0d0887"
             ],
             [
              0.1111111111111111,
              "#46039f"
             ],
             [
              0.2222222222222222,
              "#7201a8"
             ],
             [
              0.3333333333333333,
              "#9c179e"
             ],
             [
              0.4444444444444444,
              "#bd3786"
             ],
             [
              0.5555555555555556,
              "#d8576b"
             ],
             [
              0.6666666666666666,
              "#ed7953"
             ],
             [
              0.7777777777777778,
              "#fb9f3a"
             ],
             [
              0.8888888888888888,
              "#fdca26"
             ],
             [
              1,
              "#f0f921"
             ]
            ],
            "type": "heatmap"
           }
          ],
          "heatmapgl": [
           {
            "colorbar": {
             "outlinewidth": 0,
             "ticks": ""
            },
            "colorscale": [
             [
              0,
              "#0d0887"
             ],
             [
              0.1111111111111111,
              "#46039f"
             ],
             [
              0.2222222222222222,
              "#7201a8"
             ],
             [
              0.3333333333333333,
              "#9c179e"
             ],
             [
              0.4444444444444444,
              "#bd3786"
             ],
             [
              0.5555555555555556,
              "#d8576b"
             ],
             [
              0.6666666666666666,
              "#ed7953"
             ],
             [
              0.7777777777777778,
              "#fb9f3a"
             ],
             [
              0.8888888888888888,
              "#fdca26"
             ],
             [
              1,
              "#f0f921"
             ]
            ],
            "type": "heatmapgl"
           }
          ],
          "histogram": [
           {
            "marker": {
             "pattern": {
              "fillmode": "overlay",
              "size": 10,
              "solidity": 0.2
             }
            },
            "type": "histogram"
           }
          ],
          "histogram2d": [
           {
            "colorbar": {
             "outlinewidth": 0,
             "ticks": ""
            },
            "colorscale": [
             [
              0,
              "#0d0887"
             ],
             [
              0.1111111111111111,
              "#46039f"
             ],
             [
              0.2222222222222222,
              "#7201a8"
             ],
             [
              0.3333333333333333,
              "#9c179e"
             ],
             [
              0.4444444444444444,
              "#bd3786"
             ],
             [
              0.5555555555555556,
              "#d8576b"
             ],
             [
              0.6666666666666666,
              "#ed7953"
             ],
             [
              0.7777777777777778,
              "#fb9f3a"
             ],
             [
              0.8888888888888888,
              "#fdca26"
             ],
             [
              1,
              "#f0f921"
             ]
            ],
            "type": "histogram2d"
           }
          ],
          "histogram2dcontour": [
           {
            "colorbar": {
             "outlinewidth": 0,
             "ticks": ""
            },
            "colorscale": [
             [
              0,
              "#0d0887"
             ],
             [
              0.1111111111111111,
              "#46039f"
             ],
             [
              0.2222222222222222,
              "#7201a8"
             ],
             [
              0.3333333333333333,
              "#9c179e"
             ],
             [
              0.4444444444444444,
              "#bd3786"
             ],
             [
              0.5555555555555556,
              "#d8576b"
             ],
             [
              0.6666666666666666,
              "#ed7953"
             ],
             [
              0.7777777777777778,
              "#fb9f3a"
             ],
             [
              0.8888888888888888,
              "#fdca26"
             ],
             [
              1,
              "#f0f921"
             ]
            ],
            "type": "histogram2dcontour"
           }
          ],
          "mesh3d": [
           {
            "colorbar": {
             "outlinewidth": 0,
             "ticks": ""
            },
            "type": "mesh3d"
           }
          ],
          "parcoords": [
           {
            "line": {
             "colorbar": {
              "outlinewidth": 0,
              "ticks": ""
             }
            },
            "type": "parcoords"
           }
          ],
          "pie": [
           {
            "automargin": true,
            "type": "pie"
           }
          ],
          "scatter": [
           {
            "fillpattern": {
             "fillmode": "overlay",
             "size": 10,
             "solidity": 0.2
            },
            "type": "scatter"
           }
          ],
          "scatter3d": [
           {
            "line": {
             "colorbar": {
              "outlinewidth": 0,
              "ticks": ""
             }
            },
            "marker": {
             "colorbar": {
              "outlinewidth": 0,
              "ticks": ""
             }
            },
            "type": "scatter3d"
           }
          ],
          "scattercarpet": [
           {
            "marker": {
             "colorbar": {
              "outlinewidth": 0,
              "ticks": ""
             }
            },
            "type": "scattercarpet"
           }
          ],
          "scattergeo": [
           {
            "marker": {
             "colorbar": {
              "outlinewidth": 0,
              "ticks": ""
             }
            },
            "type": "scattergeo"
           }
          ],
          "scattergl": [
           {
            "marker": {
             "colorbar": {
              "outlinewidth": 0,
              "ticks": ""
             }
            },
            "type": "scattergl"
           }
          ],
          "scattermapbox": [
           {
            "marker": {
             "colorbar": {
              "outlinewidth": 0,
              "ticks": ""
             }
            },
            "type": "scattermapbox"
           }
          ],
          "scatterpolar": [
           {
            "marker": {
             "colorbar": {
              "outlinewidth": 0,
              "ticks": ""
             }
            },
            "type": "scatterpolar"
           }
          ],
          "scatterpolargl": [
           {
            "marker": {
             "colorbar": {
              "outlinewidth": 0,
              "ticks": ""
             }
            },
            "type": "scatterpolargl"
           }
          ],
          "scatterternary": [
           {
            "marker": {
             "colorbar": {
              "outlinewidth": 0,
              "ticks": ""
             }
            },
            "type": "scatterternary"
           }
          ],
          "surface": [
           {
            "colorbar": {
             "outlinewidth": 0,
             "ticks": ""
            },
            "colorscale": [
             [
              0,
              "#0d0887"
             ],
             [
              0.1111111111111111,
              "#46039f"
             ],
             [
              0.2222222222222222,
              "#7201a8"
             ],
             [
              0.3333333333333333,
              "#9c179e"
             ],
             [
              0.4444444444444444,
              "#bd3786"
             ],
             [
              0.5555555555555556,
              "#d8576b"
             ],
             [
              0.6666666666666666,
              "#ed7953"
             ],
             [
              0.7777777777777778,
              "#fb9f3a"
             ],
             [
              0.8888888888888888,
              "#fdca26"
             ],
             [
              1,
              "#f0f921"
             ]
            ],
            "type": "surface"
           }
          ],
          "table": [
           {
            "cells": {
             "fill": {
              "color": "#EBF0F8"
             },
             "line": {
              "color": "white"
             }
            },
            "header": {
             "fill": {
              "color": "#C8D4E3"
             },
             "line": {
              "color": "white"
             }
            },
            "type": "table"
           }
          ]
         },
         "layout": {
          "annotationdefaults": {
           "arrowcolor": "#2a3f5f",
           "arrowhead": 0,
           "arrowwidth": 1
          },
          "autotypenumbers": "strict",
          "coloraxis": {
           "colorbar": {
            "outlinewidth": 0,
            "ticks": ""
           }
          },
          "colorscale": {
           "diverging": [
            [
             0,
             "#8e0152"
            ],
            [
             0.1,
             "#c51b7d"
            ],
            [
             0.2,
             "#de77ae"
            ],
            [
             0.3,
             "#f1b6da"
            ],
            [
             0.4,
             "#fde0ef"
            ],
            [
             0.5,
             "#f7f7f7"
            ],
            [
             0.6,
             "#e6f5d0"
            ],
            [
             0.7,
             "#b8e186"
            ],
            [
             0.8,
             "#7fbc41"
            ],
            [
             0.9,
             "#4d9221"
            ],
            [
             1,
             "#276419"
            ]
           ],
           "sequential": [
            [
             0,
             "#0d0887"
            ],
            [
             0.1111111111111111,
             "#46039f"
            ],
            [
             0.2222222222222222,
             "#7201a8"
            ],
            [
             0.3333333333333333,
             "#9c179e"
            ],
            [
             0.4444444444444444,
             "#bd3786"
            ],
            [
             0.5555555555555556,
             "#d8576b"
            ],
            [
             0.6666666666666666,
             "#ed7953"
            ],
            [
             0.7777777777777778,
             "#fb9f3a"
            ],
            [
             0.8888888888888888,
             "#fdca26"
            ],
            [
             1,
             "#f0f921"
            ]
           ],
           "sequentialminus": [
            [
             0,
             "#0d0887"
            ],
            [
             0.1111111111111111,
             "#46039f"
            ],
            [
             0.2222222222222222,
             "#7201a8"
            ],
            [
             0.3333333333333333,
             "#9c179e"
            ],
            [
             0.4444444444444444,
             "#bd3786"
            ],
            [
             0.5555555555555556,
             "#d8576b"
            ],
            [
             0.6666666666666666,
             "#ed7953"
            ],
            [
             0.7777777777777778,
             "#fb9f3a"
            ],
            [
             0.8888888888888888,
             "#fdca26"
            ],
            [
             1,
             "#f0f921"
            ]
           ]
          },
          "colorway": [
           "#636efa",
           "#EF553B",
           "#00cc96",
           "#ab63fa",
           "#FFA15A",
           "#19d3f3",
           "#FF6692",
           "#B6E880",
           "#FF97FF",
           "#FECB52"
          ],
          "font": {
           "color": "#2a3f5f"
          },
          "geo": {
           "bgcolor": "white",
           "lakecolor": "white",
           "landcolor": "#E5ECF6",
           "showlakes": true,
           "showland": true,
           "subunitcolor": "white"
          },
          "hoverlabel": {
           "align": "left"
          },
          "hovermode": "closest",
          "mapbox": {
           "style": "light"
          },
          "paper_bgcolor": "white",
          "plot_bgcolor": "#E5ECF6",
          "polar": {
           "angularaxis": {
            "gridcolor": "white",
            "linecolor": "white",
            "ticks": ""
           },
           "bgcolor": "#E5ECF6",
           "radialaxis": {
            "gridcolor": "white",
            "linecolor": "white",
            "ticks": ""
           }
          },
          "scene": {
           "xaxis": {
            "backgroundcolor": "#E5ECF6",
            "gridcolor": "white",
            "gridwidth": 2,
            "linecolor": "white",
            "showbackground": true,
            "ticks": "",
            "zerolinecolor": "white"
           },
           "yaxis": {
            "backgroundcolor": "#E5ECF6",
            "gridcolor": "white",
            "gridwidth": 2,
            "linecolor": "white",
            "showbackground": true,
            "ticks": "",
            "zerolinecolor": "white"
           },
           "zaxis": {
            "backgroundcolor": "#E5ECF6",
            "gridcolor": "white",
            "gridwidth": 2,
            "linecolor": "white",
            "showbackground": true,
            "ticks": "",
            "zerolinecolor": "white"
           }
          },
          "shapedefaults": {
           "line": {
            "color": "#2a3f5f"
           }
          },
          "ternary": {
           "aaxis": {
            "gridcolor": "white",
            "linecolor": "white",
            "ticks": ""
           },
           "baxis": {
            "gridcolor": "white",
            "linecolor": "white",
            "ticks": ""
           },
           "bgcolor": "#E5ECF6",
           "caxis": {
            "gridcolor": "white",
            "linecolor": "white",
            "ticks": ""
           }
          },
          "title": {
           "x": 0.05
          },
          "xaxis": {
           "automargin": true,
           "gridcolor": "white",
           "linecolor": "white",
           "ticks": "",
           "title": {
            "standoff": 15
           },
           "zerolinecolor": "white",
           "zerolinewidth": 2
          },
          "yaxis": {
           "automargin": true,
           "gridcolor": "white",
           "linecolor": "white",
           "ticks": "",
           "title": {
            "standoff": 15
           },
           "zerolinecolor": "white",
           "zerolinewidth": 2
          }
         }
        },
        "title": {
         "text": "The Box Office Amount by Genre"
        },
        "xaxis": {
         "anchor": "y",
         "categoryarray": [
          "Drama",
          "Crime,Drama",
          "Action,Crime,Drama",
          "Biography,Drama,History",
          "Action,Adventure,Drama",
          "Adventure,Western",
          "Drama,Romance",
          "Action,Adventure,Sci-Fi",
          "Action,Adventure,Fantasy",
          "Action,Sci-Fi",
          "Biography,Crime,Drama",
          "Crime,Drama,Mystery",
          "Action,Drama",
          "Drama,Family,Fantasy",
          "Crime,Drama,Thriller",
          "Drama,War",
          "Adventure,Drama,Sci-Fi",
          "Comedy,Drama,Romance",
          "Crime,Drama,Fantasy",
          "Adventure,Comedy,Sci-Fi",
          "Animation,Adventure,Family",
          "Biography,Drama,Music",
          "Horror,Mystery,Thriller",
          "Drama,Thriller",
          "Animation,Adventure,Drama",
          "Drama,Mystery,Sci-Fi",
          "Drama,Music",
          "Drama,Romance,War",
          "Animation,Drama,War",
          "Action,Drama,Mystery",
          "Biography,Comedy,Drama",
          "Western",
          "Mystery,Thriller",
          "Horror,Sci-Fi",
          "Drama,Mystery,War",
          "Drama,Western",
          "Action,Adventure",
          "Drama,Mystery,Thriller",
          "Drama,Film-Noir",
          "Drama,Horror",
          "Comedy,Drama,War",
          "Animation,Action,Adventure",
          "Comedy,War",
          "Adventure,Drama,War",
          "Animation,Adventure,Comedy",
          "Animation,Drama,Fantasy",
          "Comedy,Drama",
          "Comedy,Musical,Romance",
          "Drama,Romance,Sci-Fi",
          "Adventure,Sci-Fi",
          "Crime,Thriller",
          "Drama,Thriller,War",
          "Drama,Mystery",
          "Crime,Mystery,Thriller",
          "Adventure,Biography,Drama",
          "Action,Adventure,Mystery",
          "Mystery,Romance,Thriller",
          "Comedy,Romance",
          "Crime,Sci-Fi",
          "Crime,Drama,Film-Noir",
          "Comedy,Crime,Drama",
          "Drama,Sci-Fi",
          "Action,Thriller",
          "Comedy,Crime",
          "Drama,Family",
          "Action,Drama,War",
          "Action,Biography,Drama",
          "Comedy,Drama,Family",
          "Comedy,Music,Romance",
          "Biography,Comedy,Crime",
          "Drama,Fantasy,War",
          "Biography,Drama",
          "Action,Drama,Thriller",
          "Adventure,Drama,Western",
          "Adventure,Comedy,Fantasy",
          "Adventure,Drama,History",
          "Horror,Mystery,Sci-Fi",
          "Biography,Drama,Sport",
          "Action,Drama,Sci-Fi",
          "Action,Comedy,Crime",
          "Drama,Mystery,Romance",
          "Action,Drama,Sport",
          "Animation,Comedy,Family",
          "Drama,Sport",
          "Drama,Family,Sport",
          "Adventure,Comedy,Drama",
          "Adventure,Family,Fantasy",
          "Adventure,Drama",
          "Adventure,Comedy,Crime",
          "Action,Adventure,Comedy",
          "Film-Noir,Mystery,Thriller",
          "Adventure,Drama,Thriller",
          "Action,Comedy,Romance",
          "Comedy,Drama,Thriller",
          "Drama,Fantasy",
          "Animation,Comedy,Drama",
          "Adventure,Thriller",
          "Comedy,Drama,Fantasy",
          "Horror",
          "Comedy,Romance,War",
          "Biography,Drama,Family",
          "Drama,Film-Noir,Mystery",
          "Drama,Romance,Thriller",
          "Comedy"
         ],
         "categoryorder": "array",
         "domain": [
          0,
          1
         ],
         "title": {
          "text": "genre"
         }
        },
        "yaxis": {
         "anchor": "x",
         "domain": [
          0,
          1
         ],
         "title": {
          "text": "box_office"
         }
        }
       }
      },
      "text/html": [
       "<div>                            <div id=\"5f58c6fd-291d-4bdf-9dbd-dcbda582e748\" class=\"plotly-graph-div\" style=\"height:525px; width:100%;\"></div>            <script type=\"text/javascript\">                require([\"plotly\"], function(Plotly) {                    window.PLOTLYENV=window.PLOTLYENV || {};                                    if (document.getElementById(\"5f58c6fd-291d-4bdf-9dbd-dcbda582e748\")) {                    Plotly.newPlot(                        \"5f58c6fd-291d-4bdf-9dbd-dcbda582e748\",                        [{\"alignmentgroup\":\"True\",\"hovertemplate\":\"genre=%{x}<br>box_office=%{y}<extra></extra>\",\"legendgroup\":\"Drama\",\"marker\":{\"color\":\"#636efa\"},\"name\":\"Drama\",\"notched\":false,\"offsetgroup\":\"Drama\",\"orientation\":\"v\",\"showlegend\":true,\"x\":[\"Drama\",\"Drama\",\"Drama\",\"Drama\",\"Drama\",\"Drama\",\"Drama\",\"Drama\",\"Drama\",\"Drama\",\"Drama\",\"Drama\",\"Drama\",\"Drama\",\"Drama\",\"Drama\",\"Drama\",\"Drama\",\"Drama\"],\"x0\":\" \",\"xaxis\":\"x\",\"y\":[\"28884504\",\"101209702\",\"109114817\",\"356296601\",\"7390108\",\"Not Available\",\"Not Available\",\"96302\",\"22926076\",\"436655\",\"151052\",\"76182388\",\"16767475\",\"269958228\",\"Not Available\",\"23690757\",\"135342\",\"800000 (estimated)\",\"216639112\"],\"y0\":\" \",\"yaxis\":\"y\",\"type\":\"box\"},{\"alignmentgroup\":\"True\",\"hovertemplate\":\"genre=%{x}<br>box_office=%{y}<extra></extra>\",\"legendgroup\":\"Crime,Drama\",\"marker\":{\"color\":\"#EF553B\"},\"name\":\"Crime,Drama\",\"notched\":false,\"offsetgroup\":\"Crime,Drama\",\"orientation\":\"v\",\"showlegend\":true,\"x\":[\"Crime,Drama\",\"Crime,Drama\",\"Crime,Drama\",\"Crime,Drama\",\"Crime,Drama\",\"Crime,Drama\",\"Crime,Drama\",\"Crime,Drama\",\"Crime,Drama\",\"Crime,Drama\",\"Crime,Drama\",\"Crime,Drama\",\"Crime,Drama\",\"Crime,Drama\"],\"x0\":\" \",\"xaxis\":\"x\",\"y\":[\"250341816\",\"47961919\",\"955\",\"213928762\",\"30680793\",\"23875127\",\"5473337\",\"65884703\",\"599146\",\"28570902\",\"116112375\",\"Not Available\",\"67\",\"127244\"],\"y0\":\" \",\"yaxis\":\"y\",\"type\":\"box\"},{\"alignmentgroup\":\"True\",\"hovertemplate\":\"genre=%{x}<br>box_office=%{y}<extra></extra>\",\"legendgroup\":\"Action,Crime,Drama\",\"marker\":{\"color\":\"#00cc96\"},\"name\":\"Action,Crime,Drama\",\"notched\":false,\"offsetgroup\":\"Action,Crime,Drama\",\"orientation\":\"v\",\"showlegend\":true,\"x\":[\"Action,Crime,Drama\",\"Action,Crime,Drama\",\"Action,Crime,Drama\",\"Action,Crime,Drama\",\"Action,Crime,Drama\"],\"x0\":\" \",\"xaxis\":\"x\",\"y\":[\"1006234167\",\"19569225\",\"187436818\",\"373672993\",\"180906076\"],\"y0\":\" \",\"yaxis\":\"y\",\"type\":\"box\"},{\"alignmentgroup\":\"True\",\"hovertemplate\":\"genre=%{x}<br>box_office=%{y}<extra></extra>\",\"legendgroup\":\"Biography,Drama,History\",\"marker\":{\"color\":\"#ab63fa\"},\"name\":\"Biography,Drama,History\",\"notched\":false,\"offsetgroup\":\"Biography,Drama,History\",\"orientation\":\"v\",\"showlegend\":true,\"x\":[\"Biography,Drama,History\",\"Biography,Drama,History\",\"Biography,Drama,History\",\"Biography,Drama,History\",\"Biography,Drama,History\",\"Biography,Drama,History\",\"Biography,Drama,History\",\"Biography,Drama,History\",\"Biography,Drama,History\"],\"x0\":\" \",\"xaxis\":\"x\",\"y\":[\"322161245\",\"213216216\",\"Not Available\",\"92181574\",\"187733202\",\"180563636\",\"Not Available\",\"33882243\",\"52767889\"],\"y0\":\" \",\"yaxis\":\"y\",\"type\":\"box\"},{\"alignmentgroup\":\"True\",\"hovertemplate\":\"genre=%{x}<br>box_office=%{y}<extra></extra>\",\"legendgroup\":\"Action,Adventure,Drama\",\"marker\":{\"color\":\"#FFA15A\"},\"name\":\"Action,Adventure,Drama\",\"notched\":false,\"offsetgroup\":\"Action,Adventure,Drama\",\"orientation\":\"v\",\"showlegend\":true,\"x\":[\"Action,Adventure,Drama\",\"Action,Adventure,Drama\",\"Action,Adventure,Drama\",\"Action,Adventure,Drama\",\"Action,Adventure,Drama\"],\"x0\":\" \",\"xaxis\":\"x\",\"y\":[\"1146457748\",\"898204420\",\"947944270\",\"503162313\",\"2799439100\"],\"y0\":\" \",\"yaxis\":\"y\",\"type\":\"box\"},{\"alignmentgroup\":\"True\",\"hovertemplate\":\"genre=%{x}<br>box_office=%{y}<extra></extra>\",\"legendgroup\":\"Adventure,Western\",\"marker\":{\"color\":\"#19d3f3\"},\"name\":\"Adventure,Western\",\"notched\":false,\"offsetgroup\":\"Adventure,Western\",\"orientation\":\"v\",\"showlegend\":true,\"x\":[\"Adventure,Western\"],\"x0\":\" \",\"xaxis\":\"x\",\"y\":[\"25253887\"],\"y0\":\" \",\"yaxis\":\"y\",\"type\":\"box\"},{\"alignmentgroup\":\"True\",\"hovertemplate\":\"genre=%{x}<br>box_office=%{y}<extra></extra>\",\"legendgroup\":\"Drama,Romance\",\"marker\":{\"color\":\"#FF6692\"},\"name\":\"Drama,Romance\",\"notched\":false,\"offsetgroup\":\"Drama,Romance\",\"orientation\":\"v\",\"showlegend\":true,\"x\":[\"Drama,Romance\",\"Drama,Romance\",\"Drama,Romance\",\"Drama,Romance\",\"Drama,Romance\",\"Drama,Romance\"],\"x0\":\" \",\"xaxis\":\"x\",\"y\":[\"678226465\",\"13019063\",\"Not Available\",\"5987386\",\"60418\",\"Not Available\"],\"y0\":\" \",\"yaxis\":\"y\",\"type\":\"box\"},{\"alignmentgroup\":\"True\",\"hovertemplate\":\"genre=%{x}<br>box_office=%{y}<extra></extra>\",\"legendgroup\":\"Action,Adventure,Sci-Fi\",\"marker\":{\"color\":\"#B6E880\"},\"name\":\"Action,Adventure,Sci-Fi\",\"notched\":false,\"offsetgroup\":\"Action,Adventure,Sci-Fi\",\"orientation\":\"v\",\"showlegend\":true,\"x\":[\"Action,Adventure,Sci-Fi\",\"Action,Adventure,Sci-Fi\",\"Action,Adventure,Sci-Fi\",\"Action,Adventure,Sci-Fi\",\"Action,Adventure,Sci-Fi\"],\"x0\":\" \",\"xaxis\":\"x\",\"y\":[\"836848102\",\"2052415039\",\"131060248\",\"1109802321\",\"415261382\"],\"y0\":\" \",\"yaxis\":\"y\",\"type\":\"box\"},{\"alignmentgroup\":\"True\",\"hovertemplate\":\"genre=%{x}<br>box_office=%{y}<extra></extra>\",\"legendgroup\":\"Action,Adventure,Fantasy\",\"marker\":{\"color\":\"#FF97FF\"},\"name\":\"Action,Adventure,Fantasy\",\"notched\":false,\"offsetgroup\":\"Action,Adventure,Fantasy\",\"orientation\":\"v\",\"showlegend\":true,\"x\":[\"Action,Adventure,Fantasy\",\"Action,Adventure,Fantasy\",\"Action,Adventure,Fantasy\",\"Action,Adventure,Fantasy\",\"Action,Adventure,Fantasy\"],\"x0\":\" \",\"xaxis\":\"x\",\"y\":[\"538375067\",\"775398007\",\"475106177\",\"1921847111\",\"654264015\"],\"y0\":\" \",\"yaxis\":\"y\",\"type\":\"box\"},{\"alignmentgroup\":\"True\",\"hovertemplate\":\"genre=%{x}<br>box_office=%{y}<extra></extra>\",\"legendgroup\":\"Action,Sci-Fi\",\"marker\":{\"color\":\"#FECB52\"},\"name\":\"Action,Sci-Fi\",\"notched\":false,\"offsetgroup\":\"Action,Sci-Fi\",\"orientation\":\"v\",\"showlegend\":true,\"x\":[\"Action,Sci-Fi\",\"Action,Sci-Fi\",\"Action,Sci-Fi\"],\"x0\":\" \",\"xaxis\":\"x\",\"y\":[\"467222728\",\"520881154\",\"78371200\"],\"y0\":\" \",\"yaxis\":\"y\",\"type\":\"box\"},{\"alignmentgroup\":\"True\",\"hovertemplate\":\"genre=%{x}<br>box_office=%{y}<extra></extra>\",\"legendgroup\":\"Biography,Crime,Drama\",\"marker\":{\"color\":\"#636efa\"},\"name\":\"Biography,Crime,Drama\",\"notched\":false,\"offsetgroup\":\"Biography,Crime,Drama\",\"orientation\":\"v\",\"showlegend\":true,\"x\":[\"Biography,Crime,Drama\",\"Biography,Crime,Drama\",\"Biography,Crime,Drama\",\"Biography,Crime,Drama\"],\"x0\":\" \",\"xaxis\":\"x\",\"y\":[\"47036784\",\"Not Available\",\"Not Available\",\"98690254\"],\"y0\":\" \",\"yaxis\":\"y\",\"type\":\"box\"},{\"alignmentgroup\":\"True\",\"hovertemplate\":\"genre=%{x}<br>box_office=%{y}<extra></extra>\",\"legendgroup\":\"Crime,Drama,Mystery\",\"marker\":{\"color\":\"#EF553B\"},\"name\":\"Crime,Drama,Mystery\",\"notched\":false,\"offsetgroup\":\"Crime,Drama,Mystery\",\"orientation\":\"v\",\"showlegend\":true,\"x\":[\"Crime,Drama,Mystery\",\"Crime,Drama,Mystery\",\"Crime,Drama,Mystery\",\"Crime,Drama,Mystery\",\"Crime,Drama,Mystery\",\"Crime,Drama,Mystery\",\"Crime,Drama,Mystery\",\"Crime,Drama,Mystery\",\"Crime,Drama,Mystery\"],\"x0\":\" \",\"xaxis\":\"x\",\"y\":[\"327333559\",\"23341568\",\"7693\",\"Not Available\",\"126216940\",\"81379\",\"122126687\",\"1166717\",\"Not Available\"],\"y0\":\" \",\"yaxis\":\"y\",\"type\":\"box\"},{\"alignmentgroup\":\"True\",\"hovertemplate\":\"genre=%{x}<br>box_office=%{y}<extra></extra>\",\"legendgroup\":\"Action,Drama\",\"marker\":{\"color\":\"#00cc96\"},\"name\":\"Action,Drama\",\"notched\":false,\"offsetgroup\":\"Action,Drama\",\"orientation\":\"v\",\"showlegend\":true,\"x\":[\"Action,Drama\",\"Action,Drama\",\"Action,Drama\"],\"x0\":\" \",\"xaxis\":\"x\",\"y\":[\"346258\",\"1081169825\",\"1488732821\"],\"y0\":\" \",\"yaxis\":\"y\",\"type\":\"box\"},{\"alignmentgroup\":\"True\",\"hovertemplate\":\"genre=%{x}<br>box_office=%{y}<extra></extra>\",\"legendgroup\":\"Drama,Family,Fantasy\",\"marker\":{\"color\":\"#ab63fa\"},\"name\":\"Drama,Family,Fantasy\",\"notched\":false,\"offsetgroup\":\"Drama,Family,Fantasy\",\"orientation\":\"v\",\"showlegend\":true,\"x\":[\"Drama,Family,Fantasy\"],\"x0\":\" \",\"xaxis\":\"x\",\"y\":[\"8574081\"],\"y0\":\" \",\"yaxis\":\"y\",\"type\":\"box\"},{\"alignmentgroup\":\"True\",\"hovertemplate\":\"genre=%{x}<br>box_office=%{y}<extra></extra>\",\"legendgroup\":\"Crime,Drama,Thriller\",\"marker\":{\"color\":\"#FFA15A\"},\"name\":\"Crime,Drama,Thriller\",\"notched\":false,\"offsetgroup\":\"Crime,Drama,Thriller\",\"orientation\":\"v\",\"showlegend\":true,\"x\":[\"Crime,Drama,Thriller\",\"Crime,Drama,Thriller\",\"Crime,Drama,Thriller\",\"Crime,Drama,Thriller\",\"Crime,Drama,Thriller\"],\"x0\":\" \",\"xaxis\":\"x\",\"y\":[\"272742922\",\"291480452\",\"1074458282\",\"171627434\",\"910000 (estimated)\"],\"y0\":\" \",\"yaxis\":\"y\",\"type\":\"box\"},{\"alignmentgroup\":\"True\",\"hovertemplate\":\"genre=%{x}<br>box_office=%{y}<extra></extra>\",\"legendgroup\":\"Drama,War\",\"marker\":{\"color\":\"#19d3f3\"},\"name\":\"Drama,War\",\"notched\":false,\"offsetgroup\":\"Drama,War\",\"orientation\":\"v\",\"showlegend\":true,\"x\":[\"Drama,War\",\"Drama,War\",\"Drama,War\",\"Drama,War\",\"Drama,War\",\"Drama,War\",\"Drama,War\",\"Drama,War\"],\"x0\":\" \",\"xaxis\":\"x\",\"y\":[\"482349603\",\"5252\",\"11487676\",\"46358827\",\"12180\",\"49074379\",\"138545632\",\"962002\"],\"y0\":\" \",\"yaxis\":\"y\",\"type\":\"box\"},{\"alignmentgroup\":\"True\",\"hovertemplate\":\"genre=%{x}<br>box_office=%{y}<extra></extra>\",\"legendgroup\":\"Adventure,Drama,Sci-Fi\",\"marker\":{\"color\":\"#FF6692\"},\"name\":\"Adventure,Drama,Sci-Fi\",\"notched\":false,\"offsetgroup\":\"Adventure,Drama,Sci-Fi\",\"orientation\":\"v\",\"showlegend\":true,\"x\":[\"Adventure,Drama,Sci-Fi\"],\"x0\":\" \",\"xaxis\":\"x\",\"y\":[\"773867216\"],\"y0\":\" \",\"yaxis\":\"y\",\"type\":\"box\"},{\"alignmentgroup\":\"True\",\"hovertemplate\":\"genre=%{x}<br>box_office=%{y}<extra></extra>\",\"legendgroup\":\"Comedy,Drama,Romance\",\"marker\":{\"color\":\"#B6E880\"},\"name\":\"Comedy,Drama,Romance\",\"notched\":false,\"offsetgroup\":\"Comedy,Drama,Romance\",\"orientation\":\"v\",\"showlegend\":true,\"x\":[\"Comedy,Drama,Romance\",\"Comedy,Drama,Romance\",\"Comedy,Drama,Romance\",\"Comedy,Drama,Romance\"],\"x0\":\" \",\"xaxis\":\"x\",\"y\":[\"230098753\",\"463618\",\"50419\",\"18778738\"],\"y0\":\" \",\"yaxis\":\"y\",\"type\":\"box\"},{\"alignmentgroup\":\"True\",\"hovertemplate\":\"genre=%{x}<br>box_office=%{y}<extra></extra>\",\"legendgroup\":\"Crime,Drama,Fantasy\",\"marker\":{\"color\":\"#FF97FF\"},\"name\":\"Crime,Drama,Fantasy\",\"notched\":false,\"offsetgroup\":\"Crime,Drama,Fantasy\",\"orientation\":\"v\",\"showlegend\":true,\"x\":[\"Crime,Drama,Fantasy\"],\"x0\":\" \",\"xaxis\":\"x\",\"y\":[\"286801374\"],\"y0\":\" \",\"yaxis\":\"y\",\"type\":\"box\"},{\"alignmentgroup\":\"True\",\"hovertemplate\":\"genre=%{x}<br>box_office=%{y}<extra></extra>\",\"legendgroup\":\"Adventure,Comedy,Sci-Fi\",\"marker\":{\"color\":\"#FECB52\"},\"name\":\"Adventure,Comedy,Sci-Fi\",\"notched\":false,\"offsetgroup\":\"Adventure,Comedy,Sci-Fi\",\"orientation\":\"v\",\"showlegend\":true,\"x\":[\"Adventure,Comedy,Sci-Fi\"],\"x0\":\" \",\"xaxis\":\"x\",\"y\":[\"383336762\"],\"y0\":\" \",\"yaxis\":\"y\",\"type\":\"box\"},{\"alignmentgroup\":\"True\",\"hovertemplate\":\"genre=%{x}<br>box_office=%{y}<extra></extra>\",\"legendgroup\":\"Animation,Adventure,Family\",\"marker\":{\"color\":\"#636efa\"},\"name\":\"Animation,Adventure,Family\",\"notched\":false,\"offsetgroup\":\"Animation,Adventure,Family\",\"orientation\":\"v\",\"showlegend\":true,\"x\":[\"Animation,Adventure,Family\",\"Animation,Adventure,Family\",\"Animation,Adventure,Family\"],\"x0\":\" \",\"xaxis\":\"x\",\"y\":[\"355822319\",\"521311890\",\"237536126\"],\"y0\":\" \",\"yaxis\":\"y\",\"type\":\"box\"},{\"alignmentgroup\":\"True\",\"hovertemplate\":\"genre=%{x}<br>box_office=%{y}<extra></extra>\",\"legendgroup\":\"Biography,Drama,Music\",\"marker\":{\"color\":\"#EF553B\"},\"name\":\"Biography,Drama,Music\",\"notched\":false,\"offsetgroup\":\"Biography,Drama,Music\",\"orientation\":\"v\",\"showlegend\":true,\"x\":[\"Biography,Drama,Music\",\"Biography,Drama,Music\"],\"x0\":\" \",\"xaxis\":\"x\",\"y\":[\"120072577\",\"52066791\"],\"y0\":\" \",\"yaxis\":\"y\",\"type\":\"box\"},{\"alignmentgroup\":\"True\",\"hovertemplate\":\"genre=%{x}<br>box_office=%{y}<extra></extra>\",\"legendgroup\":\"Horror,Mystery,Thriller\",\"marker\":{\"color\":\"#00cc96\"},\"name\":\"Horror,Mystery,Thriller\",\"notched\":false,\"offsetgroup\":\"Horror,Mystery,Thriller\",\"orientation\":\"v\",\"showlegend\":true,\"x\":[\"Horror,Mystery,Thriller\"],\"x0\":\" \",\"xaxis\":\"x\",\"y\":[\"32052925\"],\"y0\":\" \",\"yaxis\":\"y\",\"type\":\"box\"},{\"alignmentgroup\":\"True\",\"hovertemplate\":\"genre=%{x}<br>box_office=%{y}<extra></extra>\",\"legendgroup\":\"Drama,Thriller\",\"marker\":{\"color\":\"#ab63fa\"},\"name\":\"Drama,Thriller\",\"notched\":false,\"offsetgroup\":\"Drama,Thriller\",\"orientation\":\"v\",\"showlegend\":true,\"x\":[\"Drama,Thriller\",\"Drama,Thriller\",\"Drama,Thriller\",\"Drama,Thriller\"],\"x0\":\" \",\"xaxis\":\"x\",\"y\":[\"262676096\",\"35401758\",\"20908467\",\"Not Available\"],\"y0\":\" \",\"yaxis\":\"y\",\"type\":\"box\"},{\"alignmentgroup\":\"True\",\"hovertemplate\":\"genre=%{x}<br>box_office=%{y}<extra></extra>\",\"legendgroup\":\"Animation,Adventure,Drama\",\"marker\":{\"color\":\"#FFA15A\"},\"name\":\"Animation,Adventure,Drama\",\"notched\":false,\"offsetgroup\":\"Animation,Adventure,Drama\",\"orientation\":\"v\",\"showlegend\":true,\"x\":[\"Animation,Adventure,Drama\"],\"x0\":\" \",\"xaxis\":\"x\",\"y\":[\"968511805\"],\"y0\":\" \",\"yaxis\":\"y\",\"type\":\"box\"},{\"alignmentgroup\":\"True\",\"hovertemplate\":\"genre=%{x}<br>box_office=%{y}<extra></extra>\",\"legendgroup\":\"Drama,Mystery,Sci-Fi\",\"marker\":{\"color\":\"#19d3f3\"},\"name\":\"Drama,Mystery,Sci-Fi\",\"notched\":false,\"offsetgroup\":\"Drama,Mystery,Sci-Fi\",\"orientation\":\"v\",\"showlegend\":true,\"x\":[\"Drama,Mystery,Sci-Fi\"],\"x0\":\" \",\"xaxis\":\"x\",\"y\":[\"109676311\"],\"y0\":\" \",\"yaxis\":\"y\",\"type\":\"box\"},{\"alignmentgroup\":\"True\",\"hovertemplate\":\"genre=%{x}<br>box_office=%{y}<extra></extra>\",\"legendgroup\":\"Drama,Music\",\"marker\":{\"color\":\"#FF6692\"},\"name\":\"Drama,Music\",\"notched\":false,\"offsetgroup\":\"Drama,Music\",\"orientation\":\"v\",\"showlegend\":true,\"x\":[\"Drama,Music\"],\"x0\":\" \",\"xaxis\":\"x\",\"y\":[\"49396747\"],\"y0\":\" \",\"yaxis\":\"y\",\"type\":\"box\"},{\"alignmentgroup\":\"True\",\"hovertemplate\":\"genre=%{x}<br>box_office=%{y}<extra></extra>\",\"legendgroup\":\"Drama,Romance,War\",\"marker\":{\"color\":\"#B6E880\"},\"name\":\"Drama,Romance,War\",\"notched\":false,\"offsetgroup\":\"Drama,Romance,War\",\"orientation\":\"v\",\"showlegend\":true,\"x\":[\"Drama,Romance,War\",\"Drama,Romance,War\",\"Drama,Romance,War\"],\"x0\":\" \",\"xaxis\":\"x\",\"y\":[\"4626532\",\"402382193\",\"23661347\"],\"y0\":\" \",\"yaxis\":\"y\",\"type\":\"box\"},{\"alignmentgroup\":\"True\",\"hovertemplate\":\"genre=%{x}<br>box_office=%{y}<extra></extra>\",\"legendgroup\":\"Animation,Drama,War\",\"marker\":{\"color\":\"#FF97FF\"},\"name\":\"Animation,Drama,War\",\"notched\":false,\"offsetgroup\":\"Animation,Drama,War\",\"orientation\":\"v\",\"showlegend\":true,\"x\":[\"Animation,Drama,War\"],\"x0\":\" \",\"xaxis\":\"x\",\"y\":[\"516962\"],\"y0\":\" \",\"yaxis\":\"y\",\"type\":\"box\"},{\"alignmentgroup\":\"True\",\"hovertemplate\":\"genre=%{x}<br>box_office=%{y}<extra></extra>\",\"legendgroup\":\"Action,Drama,Mystery\",\"marker\":{\"color\":\"#FECB52\"},\"name\":\"Action,Drama,Mystery\",\"notched\":false,\"offsetgroup\":\"Action,Drama,Mystery\",\"orientation\":\"v\",\"showlegend\":true,\"x\":[\"Action,Drama,Mystery\",\"Action,Drama,Mystery\"],\"x0\":\" \",\"xaxis\":\"x\",\"y\":[\"Not Available\",\"15421226\"],\"y0\":\" \",\"yaxis\":\"y\",\"type\":\"box\"},{\"alignmentgroup\":\"True\",\"hovertemplate\":\"genre=%{x}<br>box_office=%{y}<extra></extra>\",\"legendgroup\":\"Biography,Comedy,Drama\",\"marker\":{\"color\":\"#636efa\"},\"name\":\"Biography,Comedy,Drama\",\"notched\":false,\"offsetgroup\":\"Biography,Comedy,Drama\",\"orientation\":\"v\",\"showlegend\":true,\"x\":[\"Biography,Comedy,Drama\",\"Biography,Comedy,Drama\"],\"x0\":\" \",\"xaxis\":\"x\",\"y\":[\"426588510\",\"321752656\"],\"y0\":\" \",\"yaxis\":\"y\",\"type\":\"box\"},{\"alignmentgroup\":\"True\",\"hovertemplate\":\"genre=%{x}<br>box_office=%{y}<extra></extra>\",\"legendgroup\":\"Western\",\"marker\":{\"color\":\"#EF553B\"},\"name\":\"Western\",\"notched\":false,\"offsetgroup\":\"Western\",\"orientation\":\"v\",\"showlegend\":true,\"x\":[\"Western\",\"Western\"],\"x0\":\" \",\"xaxis\":\"x\",\"y\":[\"5435024\",\"15000000\"],\"y0\":\" \",\"yaxis\":\"y\",\"type\":\"box\"},{\"alignmentgroup\":\"True\",\"hovertemplate\":\"genre=%{x}<br>box_office=%{y}<extra></extra>\",\"legendgroup\":\"Mystery,Thriller\",\"marker\":{\"color\":\"#00cc96\"},\"name\":\"Mystery,Thriller\",\"notched\":false,\"offsetgroup\":\"Mystery,Thriller\",\"orientation\":\"v\",\"showlegend\":true,\"x\":[\"Mystery,Thriller\",\"Mystery,Thriller\",\"Mystery,Thriller\"],\"x0\":\" \",\"xaxis\":\"x\",\"y\":[\"37034579\",\"40047078\",\"294805697\"],\"y0\":\" \",\"yaxis\":\"y\",\"type\":\"box\"},{\"alignmentgroup\":\"True\",\"hovertemplate\":\"genre=%{x}<br>box_office=%{y}<extra></extra>\",\"legendgroup\":\"Horror,Sci-Fi\",\"marker\":{\"color\":\"#ab63fa\"},\"name\":\"Horror,Sci-Fi\",\"notched\":false,\"offsetgroup\":\"Horror,Sci-Fi\",\"orientation\":\"v\",\"showlegend\":true,\"x\":[\"Horror,Sci-Fi\"],\"x0\":\" \",\"xaxis\":\"x\",\"y\":[\"106285522\"],\"y0\":\" \",\"yaxis\":\"y\",\"type\":\"box\"},{\"alignmentgroup\":\"True\",\"hovertemplate\":\"genre=%{x}<br>box_office=%{y}<extra></extra>\",\"legendgroup\":\"Drama,Mystery,War\",\"marker\":{\"color\":\"#FFA15A\"},\"name\":\"Drama,Mystery,War\",\"notched\":false,\"offsetgroup\":\"Drama,Mystery,War\",\"orientation\":\"v\",\"showlegend\":true,\"x\":[\"Drama,Mystery,War\"],\"x0\":\" \",\"xaxis\":\"x\",\"y\":[\"104880868\"],\"y0\":\" \",\"yaxis\":\"y\",\"type\":\"box\"},{\"alignmentgroup\":\"True\",\"hovertemplate\":\"genre=%{x}<br>box_office=%{y}<extra></extra>\",\"legendgroup\":\"Drama,Western\",\"marker\":{\"color\":\"#19d3f3\"},\"name\":\"Drama,Western\",\"notched\":false,\"offsetgroup\":\"Drama,Western\",\"orientation\":\"v\",\"showlegend\":true,\"x\":[\"Drama,Western\",\"Drama,Western\"],\"x0\":\" \",\"xaxis\":\"x\",\"y\":[\"426074373\",\"159167799\"],\"y0\":\" \",\"yaxis\":\"y\",\"type\":\"box\"},{\"alignmentgroup\":\"True\",\"hovertemplate\":\"genre=%{x}<br>box_office=%{y}<extra></extra>\",\"legendgroup\":\"Action,Adventure\",\"marker\":{\"color\":\"#FF6692\"},\"name\":\"Action,Adventure\",\"notched\":false,\"offsetgroup\":\"Action,Adventure\",\"orientation\":\"v\",\"showlegend\":true,\"x\":[\"Action,Adventure\",\"Action,Adventure\"],\"x0\":\" \",\"xaxis\":\"x\",\"y\":[\"389925971\",\"474171806\"],\"y0\":\" \",\"yaxis\":\"y\",\"type\":\"box\"},{\"alignmentgroup\":\"True\",\"hovertemplate\":\"genre=%{x}<br>box_office=%{y}<extra></extra>\",\"legendgroup\":\"Drama,Mystery,Thriller\",\"marker\":{\"color\":\"#B6E880\"},\"name\":\"Drama,Mystery,Thriller\",\"notched\":false,\"offsetgroup\":\"Drama,Mystery,Thriller\",\"orientation\":\"v\",\"showlegend\":true,\"x\":[\"Drama,Mystery,Thriller\",\"Drama,Mystery,Thriller\",\"Drama,Mystery,Thriller\",\"Drama,Mystery,Thriller\"],\"x0\":\" \",\"xaxis\":\"x\",\"y\":[\"77356942\",\"672806432\",\"29225935\",\"Not Available\"],\"y0\":\" \",\"yaxis\":\"y\",\"type\":\"box\"},{\"alignmentgroup\":\"True\",\"hovertemplate\":\"genre=%{x}<br>box_office=%{y}<extra></extra>\",\"legendgroup\":\"Drama,Film-Noir\",\"marker\":{\"color\":\"#FF97FF\"},\"name\":\"Drama,Film-Noir\",\"notched\":false,\"offsetgroup\":\"Drama,Film-Noir\",\"orientation\":\"v\",\"showlegend\":true,\"x\":[\"Drama,Film-Noir\"],\"x0\":\" \",\"xaxis\":\"x\",\"y\":[\"300073\"],\"y0\":\" \",\"yaxis\":\"y\",\"type\":\"box\"},{\"alignmentgroup\":\"True\",\"hovertemplate\":\"genre=%{x}<br>box_office=%{y}<extra></extra>\",\"legendgroup\":\"Drama,Horror\",\"marker\":{\"color\":\"#FECB52\"},\"name\":\"Drama,Horror\",\"notched\":false,\"offsetgroup\":\"Drama,Horror\",\"orientation\":\"v\",\"showlegend\":true,\"x\":[\"Drama,Horror\"],\"x0\":\" \",\"xaxis\":\"x\",\"y\":[\"47335804\"],\"y0\":\" \",\"yaxis\":\"y\",\"type\":\"box\"},{\"alignmentgroup\":\"True\",\"hovertemplate\":\"genre=%{x}<br>box_office=%{y}<extra></extra>\",\"legendgroup\":\"Comedy,Drama,War\",\"marker\":{\"color\":\"#636efa\"},\"name\":\"Comedy,Drama,War\",\"notched\":false,\"offsetgroup\":\"Comedy,Drama,War\",\"orientation\":\"v\",\"showlegend\":true,\"x\":[\"Comedy,Drama,War\"],\"x0\":\" \",\"xaxis\":\"x\",\"y\":[\"970263\"],\"y0\":\" \",\"yaxis\":\"y\",\"type\":\"box\"},{\"alignmentgroup\":\"True\",\"hovertemplate\":\"genre=%{x}<br>box_office=%{y}<extra></extra>\",\"legendgroup\":\"Animation,Action,Adventure\",\"marker\":{\"color\":\"#EF553B\"},\"name\":\"Animation,Action,Adventure\",\"notched\":false,\"offsetgroup\":\"Animation,Action,Adventure\",\"orientation\":\"v\",\"showlegend\":true,\"x\":[\"Animation,Action,Adventure\",\"Animation,Action,Adventure\",\"Animation,Action,Adventure\",\"Animation,Action,Adventure\",\"Animation,Action,Adventure\"],\"x0\":\" \",\"xaxis\":\"x\",\"y\":[\"Not Available\",\"170005875\",\"494879471\",\"631607053\",\"23335817\"],\"y0\":\" \",\"yaxis\":\"y\",\"type\":\"box\"},{\"alignmentgroup\":\"True\",\"hovertemplate\":\"genre=%{x}<br>box_office=%{y}<extra></extra>\",\"legendgroup\":\"Comedy,War\",\"marker\":{\"color\":\"#00cc96\"},\"name\":\"Comedy,War\",\"notched\":false,\"offsetgroup\":\"Comedy,War\",\"orientation\":\"v\",\"showlegend\":true,\"x\":[\"Comedy,War\"],\"x0\":\" \",\"xaxis\":\"x\",\"y\":[\"9523464\"],\"y0\":\" \",\"yaxis\":\"y\",\"type\":\"box\"},{\"alignmentgroup\":\"True\",\"hovertemplate\":\"genre=%{x}<br>box_office=%{y}<extra></extra>\",\"legendgroup\":\"Adventure,Drama,War\",\"marker\":{\"color\":\"#ab63fa\"},\"name\":\"Adventure,Drama,War\",\"notched\":false,\"offsetgroup\":\"Adventure,Drama,War\",\"orientation\":\"v\",\"showlegend\":true,\"x\":[\"Adventure,Drama,War\",\"Adventure,Drama,War\",\"Adventure,Drama,War\"],\"x0\":\" \",\"xaxis\":\"x\",\"y\":[\"321457747\",\"27200000\",\"199632\"],\"y0\":\" \",\"yaxis\":\"y\",\"type\":\"box\"},{\"alignmentgroup\":\"True\",\"hovertemplate\":\"genre=%{x}<br>box_office=%{y}<extra></extra>\",\"legendgroup\":\"Animation,Adventure,Comedy\",\"marker\":{\"color\":\"#FFA15A\"},\"name\":\"Animation,Adventure,Comedy\",\"notched\":false,\"offsetgroup\":\"Animation,Adventure,Comedy\",\"orientation\":\"v\",\"showlegend\":true,\"x\":[\"Animation,Adventure,Comedy\",\"Animation,Adventure,Comedy\",\"Animation,Adventure,Comedy\",\"Animation,Adventure,Comedy\",\"Animation,Adventure,Comedy\",\"Animation,Adventure,Comedy\",\"Animation,Adventure,Comedy\",\"Animation,Adventure,Comedy\",\"Animation,Adventure,Comedy\",\"Animation,Adventure,Comedy\"],\"x0\":\" \",\"xaxis\":\"x\",\"y\":[\"814337054\",\"394436586\",\"1067316101\",\"735099102\",\"941637960\",\"858848019\",\"Not Available\",\"579707738\",\"623726085\",\"Not Available\"],\"y0\":\" \",\"yaxis\":\"y\",\"type\":\"box\"},{\"alignmentgroup\":\"True\",\"hovertemplate\":\"genre=%{x}<br>box_office=%{y}<extra></extra>\",\"legendgroup\":\"Animation,Drama,Fantasy\",\"marker\":{\"color\":\"#19d3f3\"},\"name\":\"Animation,Drama,Fantasy\",\"notched\":false,\"offsetgroup\":\"Animation,Drama,Fantasy\",\"orientation\":\"v\",\"showlegend\":true,\"x\":[\"Animation,Drama,Fantasy\"],\"x0\":\" \",\"xaxis\":\"x\",\"y\":[\"Not Available\"],\"y0\":\" \",\"yaxis\":\"y\",\"type\":\"box\"},{\"alignmentgroup\":\"True\",\"hovertemplate\":\"genre=%{x}<br>box_office=%{y}<extra></extra>\",\"legendgroup\":\"Comedy,Drama\",\"marker\":{\"color\":\"#FF6692\"},\"name\":\"Comedy,Drama\",\"notched\":false,\"offsetgroup\":\"Comedy,Drama\",\"orientation\":\"v\",\"showlegend\":true,\"x\":[\"Comedy,Drama\",\"Comedy,Drama\",\"Comedy,Drama\",\"Comedy,Drama\"],\"x0\":\" \",\"xaxis\":\"x\",\"y\":[\"60262836\",\"264118201\",\"144738\",\"235860116\"],\"y0\":\" \",\"yaxis\":\"y\",\"type\":\"box\"},{\"alignmentgroup\":\"True\",\"hovertemplate\":\"genre=%{x}<br>box_office=%{y}<extra></extra>\",\"legendgroup\":\"Comedy,Musical,Romance\",\"marker\":{\"color\":\"#B6E880\"},\"name\":\"Comedy,Musical,Romance\",\"notched\":false,\"offsetgroup\":\"Comedy,Musical,Romance\",\"orientation\":\"v\",\"showlegend\":true,\"x\":[\"Comedy,Musical,Romance\"],\"x0\":\" \",\"xaxis\":\"x\",\"y\":[\"2000288\"],\"y0\":\" \",\"yaxis\":\"y\",\"type\":\"box\"},{\"alignmentgroup\":\"True\",\"hovertemplate\":\"genre=%{x}<br>box_office=%{y}<extra></extra>\",\"legendgroup\":\"Drama,Romance,Sci-Fi\",\"marker\":{\"color\":\"#FF97FF\"},\"name\":\"Drama,Romance,Sci-Fi\",\"notched\":false,\"offsetgroup\":\"Drama,Romance,Sci-Fi\",\"orientation\":\"v\",\"showlegend\":true,\"x\":[\"Drama,Romance,Sci-Fi\"],\"x0\":\" \",\"xaxis\":\"x\",\"y\":[\"74036715\"],\"y0\":\" \",\"yaxis\":\"y\",\"type\":\"box\"},{\"alignmentgroup\":\"True\",\"hovertemplate\":\"genre=%{x}<br>box_office=%{y}<extra></extra>\",\"legendgroup\":\"Adventure,Sci-Fi\",\"marker\":{\"color\":\"#FECB52\"},\"name\":\"Adventure,Sci-Fi\",\"notched\":false,\"offsetgroup\":\"Adventure,Sci-Fi\",\"orientation\":\"v\",\"showlegend\":true,\"x\":[\"Adventure,Sci-Fi\"],\"x0\":\" \",\"xaxis\":\"x\",\"y\":[\"65889846\"],\"y0\":\" \",\"yaxis\":\"y\",\"type\":\"box\"},{\"alignmentgroup\":\"True\",\"hovertemplate\":\"genre=%{x}<br>box_office=%{y}<extra></extra>\",\"legendgroup\":\"Crime,Thriller\",\"marker\":{\"color\":\"#636efa\"},\"name\":\"Crime,Thriller\",\"notched\":false,\"offsetgroup\":\"Crime,Thriller\",\"orientation\":\"v\",\"showlegend\":true,\"x\":[\"Crime,Thriller\",\"Crime,Thriller\",\"Crime,Thriller\"],\"x0\":\" \",\"xaxis\":\"x\",\"y\":[\"2913644\",\"31207\",\"60611975\"],\"y0\":\" \",\"yaxis\":\"y\",\"type\":\"box\"},{\"alignmentgroup\":\"True\",\"hovertemplate\":\"genre=%{x}<br>box_office=%{y}<extra></extra>\",\"legendgroup\":\"Drama,Thriller,War\",\"marker\":{\"color\":\"#EF553B\"},\"name\":\"Drama,Thriller,War\",\"notched\":false,\"offsetgroup\":\"Drama,Thriller,War\",\"orientation\":\"v\",\"showlegend\":true,\"x\":[\"Drama,Thriller,War\"],\"x0\":\" \",\"xaxis\":\"x\",\"y\":[\"Not Available\"],\"y0\":\" \",\"yaxis\":\"y\",\"type\":\"box\"},{\"alignmentgroup\":\"True\",\"hovertemplate\":\"genre=%{x}<br>box_office=%{y}<extra></extra>\",\"legendgroup\":\"Drama,Mystery\",\"marker\":{\"color\":\"#00cc96\"},\"name\":\"Drama,Mystery\",\"notched\":false,\"offsetgroup\":\"Drama,Mystery\",\"orientation\":\"v\",\"showlegend\":true,\"x\":[\"Drama,Mystery\",\"Drama,Mystery\",\"Drama,Mystery\"],\"x0\":\" \",\"xaxis\":\"x\",\"y\":[\"1645133\",\"6788659\",\"24427162\"],\"y0\":\" \",\"yaxis\":\"y\",\"type\":\"box\"},{\"alignmentgroup\":\"True\",\"hovertemplate\":\"genre=%{x}<br>box_office=%{y}<extra></extra>\",\"legendgroup\":\"Crime,Mystery,Thriller\",\"marker\":{\"color\":\"#ab63fa\"},\"name\":\"Crime,Mystery,Thriller\",\"notched\":false,\"offsetgroup\":\"Crime,Mystery,Thriller\",\"orientation\":\"v\",\"showlegend\":true,\"x\":[\"Crime,Mystery,Thriller\"],\"x0\":\" \",\"xaxis\":\"x\",\"y\":[\"35566\"],\"y0\":\" \",\"yaxis\":\"y\",\"type\":\"box\"},{\"alignmentgroup\":\"True\",\"hovertemplate\":\"genre=%{x}<br>box_office=%{y}<extra></extra>\",\"legendgroup\":\"Adventure,Biography,Drama\",\"marker\":{\"color\":\"#FFA15A\"},\"name\":\"Adventure,Biography,Drama\",\"notched\":false,\"offsetgroup\":\"Adventure,Biography,Drama\",\"orientation\":\"v\",\"showlegend\":true,\"x\":[\"Adventure,Biography,Drama\",\"Adventure,Biography,Drama\",\"Adventure,Biography,Drama\"],\"x0\":\" \",\"xaxis\":\"x\",\"y\":[\"45720631\",\"56675895\",\"14480\"],\"y0\":\" \",\"yaxis\":\"y\",\"type\":\"box\"},{\"alignmentgroup\":\"True\",\"hovertemplate\":\"genre=%{x}<br>box_office=%{y}<extra></extra>\",\"legendgroup\":\"Action,Adventure,Mystery\",\"marker\":{\"color\":\"#19d3f3\"},\"name\":\"Action,Adventure,Mystery\",\"notched\":false,\"offsetgroup\":\"Action,Adventure,Mystery\",\"orientation\":\"v\",\"showlegend\":true,\"x\":[\"Action,Adventure,Mystery\"],\"x0\":\" \",\"xaxis\":\"x\",\"y\":[\"142319\"],\"y0\":\" \",\"yaxis\":\"y\",\"type\":\"box\"},{\"alignmentgroup\":\"True\",\"hovertemplate\":\"genre=%{x}<br>box_office=%{y}<extra></extra>\",\"legendgroup\":\"Mystery,Romance,Thriller\",\"marker\":{\"color\":\"#FF6692\"},\"name\":\"Mystery,Romance,Thriller\",\"notched\":false,\"offsetgroup\":\"Mystery,Romance,Thriller\",\"orientation\":\"v\",\"showlegend\":true,\"x\":[\"Mystery,Romance,Thriller\"],\"x0\":\" \",\"xaxis\":\"x\",\"y\":[\"7798146\"],\"y0\":\" \",\"yaxis\":\"y\",\"type\":\"box\"},{\"alignmentgroup\":\"True\",\"hovertemplate\":\"genre=%{x}<br>box_office=%{y}<extra></extra>\",\"legendgroup\":\"Comedy,Romance\",\"marker\":{\"color\":\"#B6E880\"},\"name\":\"Comedy,Romance\",\"notched\":false,\"offsetgroup\":\"Comedy,Romance\",\"orientation\":\"v\",\"showlegend\":true,\"x\":[\"Comedy,Romance\",\"Comedy,Romance\"],\"x0\":\" \",\"xaxis\":\"x\",\"y\":[\"174122191\",\"11477\"],\"y0\":\" \",\"yaxis\":\"y\",\"type\":\"box\"},{\"alignmentgroup\":\"True\",\"hovertemplate\":\"genre=%{x}<br>box_office=%{y}<extra></extra>\",\"legendgroup\":\"Crime,Sci-Fi\",\"marker\":{\"color\":\"#FF97FF\"},\"name\":\"Crime,Sci-Fi\",\"notched\":false,\"offsetgroup\":\"Crime,Sci-Fi\",\"orientation\":\"v\",\"showlegend\":true,\"x\":[\"Crime,Sci-Fi\"],\"x0\":\" \",\"xaxis\":\"x\",\"y\":[\"26960374\"],\"y0\":\" \",\"yaxis\":\"y\",\"type\":\"box\"},{\"alignmentgroup\":\"True\",\"hovertemplate\":\"genre=%{x}<br>box_office=%{y}<extra></extra>\",\"legendgroup\":\"Crime,Drama,Film-Noir\",\"marker\":{\"color\":\"#FECB52\"},\"name\":\"Crime,Drama,Film-Noir\",\"notched\":false,\"offsetgroup\":\"Crime,Drama,Film-Noir\",\"orientation\":\"v\",\"showlegend\":true,\"x\":[\"Crime,Drama,Film-Noir\"],\"x0\":\" \",\"xaxis\":\"x\",\"y\":[\"14651\"],\"y0\":\" \",\"yaxis\":\"y\",\"type\":\"box\"},{\"alignmentgroup\":\"True\",\"hovertemplate\":\"genre=%{x}<br>box_office=%{y}<extra></extra>\",\"legendgroup\":\"Comedy,Crime,Drama\",\"marker\":{\"color\":\"#636efa\"},\"name\":\"Comedy,Crime,Drama\",\"notched\":false,\"offsetgroup\":\"Comedy,Crime,Drama\",\"orientation\":\"v\",\"showlegend\":true,\"x\":[\"Comedy,Crime,Drama\",\"Comedy,Crime,Drama\"],\"x0\":\" \",\"xaxis\":\"x\",\"y\":[\"156000000\",\"162861289\"],\"y0\":\" \",\"yaxis\":\"y\",\"type\":\"box\"},{\"alignmentgroup\":\"True\",\"hovertemplate\":\"genre=%{x}<br>box_office=%{y}<extra></extra>\",\"legendgroup\":\"Drama,Sci-Fi\",\"marker\":{\"color\":\"#EF553B\"},\"name\":\"Drama,Sci-Fi\",\"notched\":false,\"offsetgroup\":\"Drama,Sci-Fi\",\"orientation\":\"v\",\"showlegend\":true,\"x\":[\"Drama,Sci-Fi\"],\"x0\":\" \",\"xaxis\":\"x\",\"y\":[\"1349711\"],\"y0\":\" \",\"yaxis\":\"y\",\"type\":\"box\"},{\"alignmentgroup\":\"True\",\"hovertemplate\":\"genre=%{x}<br>box_office=%{y}<extra></extra>\",\"legendgroup\":\"Action,Thriller\",\"marker\":{\"color\":\"#00cc96\"},\"name\":\"Action,Thriller\",\"notched\":false,\"offsetgroup\":\"Action,Thriller\",\"orientation\":\"v\",\"showlegend\":true,\"x\":[\"Action,Thriller\"],\"x0\":\" \",\"xaxis\":\"x\",\"y\":[\"141603197\"],\"y0\":\" \",\"yaxis\":\"y\",\"type\":\"box\"},{\"alignmentgroup\":\"True\",\"hovertemplate\":\"genre=%{x}<br>box_office=%{y}<extra></extra>\",\"legendgroup\":\"Comedy,Crime\",\"marker\":{\"color\":\"#ab63fa\"},\"name\":\"Comedy,Crime\",\"notched\":false,\"offsetgroup\":\"Comedy,Crime\",\"orientation\":\"v\",\"showlegend\":true,\"x\":[\"Comedy,Crime\",\"Comedy,Crime\"],\"x0\":\" \",\"xaxis\":\"x\",\"y\":[\"83557872\",\"46969409\"],\"y0\":\" \",\"yaxis\":\"y\",\"type\":\"box\"},{\"alignmentgroup\":\"True\",\"hovertemplate\":\"genre=%{x}<br>box_office=%{y}<extra></extra>\",\"legendgroup\":\"Drama,Family\",\"marker\":{\"color\":\"#FFA15A\"},\"name\":\"Drama,Family\",\"notched\":false,\"offsetgroup\":\"Drama,Family\",\"orientation\":\"v\",\"showlegend\":true,\"x\":[\"Drama,Family\",\"Drama,Family\"],\"x0\":\" \",\"xaxis\":\"x\",\"y\":[\"21897373\",\"Not Available\"],\"y0\":\" \",\"yaxis\":\"y\",\"type\":\"box\"},{\"alignmentgroup\":\"True\",\"hovertemplate\":\"genre=%{x}<br>box_office=%{y}<extra></extra>\",\"legendgroup\":\"Action,Drama,War\",\"marker\":{\"color\":\"#19d3f3\"},\"name\":\"Action,Drama,War\",\"notched\":false,\"offsetgroup\":\"Action,Drama,War\",\"orientation\":\"v\",\"showlegend\":true,\"x\":[\"Action,Drama,War\",\"Action,Drama,War\"],\"x0\":\" \",\"xaxis\":\"x\",\"y\":[\"384479940\",\"4164283\"],\"y0\":\" \",\"yaxis\":\"y\",\"type\":\"box\"},{\"alignmentgroup\":\"True\",\"hovertemplate\":\"genre=%{x}<br>box_office=%{y}<extra></extra>\",\"legendgroup\":\"Action,Biography,Drama\",\"marker\":{\"color\":\"#FF6692\"},\"name\":\"Action,Biography,Drama\",\"notched\":false,\"offsetgroup\":\"Action,Biography,Drama\",\"orientation\":\"v\",\"showlegend\":true,\"x\":[\"Action,Biography,Drama\",\"Action,Biography,Drama\",\"Action,Biography,Drama\"],\"x0\":\" \",\"xaxis\":\"x\",\"y\":[\"Not Available\",\"225508210\",\"96983009\"],\"y0\":\" \",\"yaxis\":\"y\",\"type\":\"box\"},{\"alignmentgroup\":\"True\",\"hovertemplate\":\"genre=%{x}<br>box_office=%{y}<extra></extra>\",\"legendgroup\":\"Comedy,Drama,Family\",\"marker\":{\"color\":\"#B6E880\"},\"name\":\"Comedy,Drama,Family\",\"notched\":false,\"offsetgroup\":\"Comedy,Drama,Family\",\"orientation\":\"v\",\"showlegend\":true,\"x\":[\"Comedy,Drama,Family\"],\"x0\":\" \",\"xaxis\":\"x\",\"y\":[\"41960\"],\"y0\":\" \",\"yaxis\":\"y\",\"type\":\"box\"},{\"alignmentgroup\":\"True\",\"hovertemplate\":\"genre=%{x}<br>box_office=%{y}<extra></extra>\",\"legendgroup\":\"Comedy,Music,Romance\",\"marker\":{\"color\":\"#FF97FF\"},\"name\":\"Comedy,Music,Romance\",\"notched\":false,\"offsetgroup\":\"Comedy,Music,Romance\",\"orientation\":\"v\",\"showlegend\":true,\"x\":[\"Comedy,Music,Romance\"],\"x0\":\" \",\"xaxis\":\"x\",\"y\":[\"195088\"],\"y0\":\" \",\"yaxis\":\"y\",\"type\":\"box\"},{\"alignmentgroup\":\"True\",\"hovertemplate\":\"genre=%{x}<br>box_office=%{y}<extra></extra>\",\"legendgroup\":\"Biography,Comedy,Crime\",\"marker\":{\"color\":\"#FECB52\"},\"name\":\"Biography,Comedy,Crime\",\"notched\":false,\"offsetgroup\":\"Biography,Comedy,Crime\",\"orientation\":\"v\",\"showlegend\":true,\"x\":[\"Biography,Comedy,Crime\"],\"x0\":\" \",\"xaxis\":\"x\",\"y\":[\"406878233\"],\"y0\":\" \",\"yaxis\":\"y\",\"type\":\"box\"},{\"alignmentgroup\":\"True\",\"hovertemplate\":\"genre=%{x}<br>box_office=%{y}<extra></extra>\",\"legendgroup\":\"Drama,Fantasy,War\",\"marker\":{\"color\":\"#636efa\"},\"name\":\"Drama,Fantasy,War\",\"notched\":false,\"offsetgroup\":\"Drama,Fantasy,War\",\"orientation\":\"v\",\"showlegend\":true,\"x\":[\"Drama,Fantasy,War\"],\"x0\":\" \",\"xaxis\":\"x\",\"y\":[\"83862032\"],\"y0\":\" \",\"yaxis\":\"y\",\"type\":\"box\"},{\"alignmentgroup\":\"True\",\"hovertemplate\":\"genre=%{x}<br>box_office=%{y}<extra></extra>\",\"legendgroup\":\"Biography,Drama\",\"marker\":{\"color\":\"#EF553B\"},\"name\":\"Biography,Drama\",\"notched\":false,\"offsetgroup\":\"Biography,Drama\",\"orientation\":\"v\",\"showlegend\":true,\"x\":[\"Biography,Drama\",\"Biography,Drama\"],\"x0\":\" \",\"xaxis\":\"x\",\"y\":[\"316791257\",\"26023860\"],\"y0\":\" \",\"yaxis\":\"y\",\"type\":\"box\"},{\"alignmentgroup\":\"True\",\"hovertemplate\":\"genre=%{x}<br>box_office=%{y}<extra></extra>\",\"legendgroup\":\"Action,Drama,Thriller\",\"marker\":{\"color\":\"#00cc96\"},\"name\":\"Action,Drama,Thriller\",\"notched\":false,\"offsetgroup\":\"Action,Drama,Thriller\",\"orientation\":\"v\",\"showlegend\":true,\"x\":[\"Action,Drama,Thriller\"],\"x0\":\" \",\"xaxis\":\"x\",\"y\":[\"46808\"],\"y0\":\" \",\"yaxis\":\"y\",\"type\":\"box\"},{\"alignmentgroup\":\"True\",\"hovertemplate\":\"genre=%{x}<br>box_office=%{y}<extra></extra>\",\"legendgroup\":\"Adventure,Drama,Western\",\"marker\":{\"color\":\"#ab63fa\"},\"name\":\"Adventure,Drama,Western\",\"notched\":false,\"offsetgroup\":\"Adventure,Drama,Western\",\"orientation\":\"v\",\"showlegend\":true,\"x\":[\"Adventure,Drama,Western\",\"Adventure,Drama,Western\"],\"x0\":\" \",\"xaxis\":\"x\",\"y\":[\"5014000\",\"424208848\"],\"y0\":\" \",\"yaxis\":\"y\",\"type\":\"box\"},{\"alignmentgroup\":\"True\",\"hovertemplate\":\"genre=%{x}<br>box_office=%{y}<extra></extra>\",\"legendgroup\":\"Adventure,Comedy,Fantasy\",\"marker\":{\"color\":\"#FFA15A\"},\"name\":\"Adventure,Comedy,Fantasy\",\"notched\":false,\"offsetgroup\":\"Adventure,Comedy,Fantasy\",\"orientation\":\"v\",\"showlegend\":true,\"x\":[\"Adventure,Comedy,Fantasy\"],\"x0\":\" \",\"xaxis\":\"x\",\"y\":[\"1940906\"],\"y0\":\" \",\"yaxis\":\"y\",\"type\":\"box\"},{\"alignmentgroup\":\"True\",\"hovertemplate\":\"genre=%{x}<br>box_office=%{y}<extra></extra>\",\"legendgroup\":\"Adventure,Drama,History\",\"marker\":{\"color\":\"#19d3f3\"},\"name\":\"Adventure,Drama,History\",\"notched\":false,\"offsetgroup\":\"Adventure,Drama,History\",\"orientation\":\"v\",\"showlegend\":true,\"x\":[\"Adventure,Drama,History\"],\"x0\":\" \",\"xaxis\":\"x\",\"y\":[\"228178\"],\"y0\":\" \",\"yaxis\":\"y\",\"type\":\"box\"},{\"alignmentgroup\":\"True\",\"hovertemplate\":\"genre=%{x}<br>box_office=%{y}<extra></extra>\",\"legendgroup\":\"Horror,Mystery,Sci-Fi\",\"marker\":{\"color\":\"#FF6692\"},\"name\":\"Horror,Mystery,Sci-Fi\",\"notched\":false,\"offsetgroup\":\"Horror,Mystery,Sci-Fi\",\"orientation\":\"v\",\"showlegend\":true,\"x\":[\"Horror,Mystery,Sci-Fi\"],\"x0\":\" \",\"xaxis\":\"x\",\"y\":[\"19632715\"],\"y0\":\" \",\"yaxis\":\"y\",\"type\":\"box\"},{\"alignmentgroup\":\"True\",\"hovertemplate\":\"genre=%{x}<br>box_office=%{y}<extra></extra>\",\"legendgroup\":\"Biography,Drama,Sport\",\"marker\":{\"color\":\"#B6E880\"},\"name\":\"Biography,Drama,Sport\",\"notched\":false,\"offsetgroup\":\"Biography,Drama,Sport\",\"orientation\":\"v\",\"showlegend\":true,\"x\":[\"Biography,Drama,Sport\"],\"x0\":\" \",\"xaxis\":\"x\",\"y\":[\"23402427\"],\"y0\":\" \",\"yaxis\":\"y\",\"type\":\"box\"},{\"alignmentgroup\":\"True\",\"hovertemplate\":\"genre=%{x}<br>box_office=%{y}<extra></extra>\",\"legendgroup\":\"Action,Drama,Sci-Fi\",\"marker\":{\"color\":\"#FF97FF\"},\"name\":\"Action,Drama,Sci-Fi\",\"notched\":false,\"offsetgroup\":\"Action,Drama,Sci-Fi\",\"orientation\":\"v\",\"showlegend\":true,\"x\":[\"Action,Drama,Sci-Fi\",\"Action,Drama,Sci-Fi\",\"Action,Drama,Sci-Fi\"],\"x0\":\" \",\"xaxis\":\"x\",\"y\":[\"134686457\",\"41722424\",\"619179950\"],\"y0\":\" \",\"yaxis\":\"y\",\"type\":\"box\"},{\"alignmentgroup\":\"True\",\"hovertemplate\":\"genre=%{x}<br>box_office=%{y}<extra></extra>\",\"legendgroup\":\"Action,Comedy,Crime\",\"marker\":{\"color\":\"#FECB52\"},\"name\":\"Action,Comedy,Crime\",\"notched\":false,\"offsetgroup\":\"Action,Comedy,Crime\",\"orientation\":\"v\",\"showlegend\":true,\"x\":[\"Action,Comedy,Crime\"],\"x0\":\" \",\"xaxis\":\"x\",\"y\":[\"3753929\"],\"y0\":\" \",\"yaxis\":\"y\",\"type\":\"box\"},{\"alignmentgroup\":\"True\",\"hovertemplate\":\"genre=%{x}<br>box_office=%{y}<extra></extra>\",\"legendgroup\":\"Drama,Mystery,Romance\",\"marker\":{\"color\":\"#636efa\"},\"name\":\"Drama,Mystery,Romance\",\"notched\":false,\"offsetgroup\":\"Drama,Mystery,Romance\",\"orientation\":\"v\",\"showlegend\":true,\"x\":[\"Drama,Mystery,Romance\"],\"x0\":\" \",\"xaxis\":\"x\",\"y\":[\"Not Available\"],\"y0\":\" \",\"yaxis\":\"y\",\"type\":\"box\"},{\"alignmentgroup\":\"True\",\"hovertemplate\":\"genre=%{x}<br>box_office=%{y}<extra></extra>\",\"legendgroup\":\"Action,Drama,Sport\",\"marker\":{\"color\":\"#EF553B\"},\"name\":\"Action,Drama,Sport\",\"notched\":false,\"offsetgroup\":\"Action,Drama,Sport\",\"orientation\":\"v\",\"showlegend\":true,\"x\":[\"Action,Drama,Sport\"],\"x0\":\" \",\"xaxis\":\"x\",\"y\":[\"23308615\"],\"y0\":\" \",\"yaxis\":\"y\",\"type\":\"box\"},{\"alignmentgroup\":\"True\",\"hovertemplate\":\"genre=%{x}<br>box_office=%{y}<extra></extra>\",\"legendgroup\":\"Animation,Comedy,Family\",\"marker\":{\"color\":\"#00cc96\"},\"name\":\"Animation,Comedy,Family\",\"notched\":false,\"offsetgroup\":\"Animation,Comedy,Family\",\"orientation\":\"v\",\"showlegend\":true,\"x\":[\"Animation,Comedy,Family\"],\"x0\":\" \",\"xaxis\":\"x\",\"y\":[\"Not Available\"],\"y0\":\" \",\"yaxis\":\"y\",\"type\":\"box\"},{\"alignmentgroup\":\"True\",\"hovertemplate\":\"genre=%{x}<br>box_office=%{y}<extra></extra>\",\"legendgroup\":\"Drama,Sport\",\"marker\":{\"color\":\"#ab63fa\"},\"name\":\"Drama,Sport\",\"notched\":false,\"offsetgroup\":\"Drama,Sport\",\"orientation\":\"v\",\"showlegend\":true,\"x\":[\"Drama,Sport\",\"Drama,Sport\"],\"x0\":\" \",\"xaxis\":\"x\",\"y\":[\"216763646\",\"117250402\"],\"y0\":\" \",\"yaxis\":\"y\",\"type\":\"box\"},{\"alignmentgroup\":\"True\",\"hovertemplate\":\"genre=%{x}<br>box_office=%{y}<extra></extra>\",\"legendgroup\":\"Drama,Family,Sport\",\"marker\":{\"color\":\"#FFA15A\"},\"name\":\"Drama,Family,Sport\",\"notched\":false,\"offsetgroup\":\"Drama,Family,Sport\",\"orientation\":\"v\",\"showlegend\":true,\"x\":[\"Drama,Family,Sport\"],\"x0\":\" \",\"xaxis\":\"x\",\"y\":[\"Not Available\"],\"y0\":\" \",\"yaxis\":\"y\",\"type\":\"box\"},{\"alignmentgroup\":\"True\",\"hovertemplate\":\"genre=%{x}<br>box_office=%{y}<extra></extra>\",\"legendgroup\":\"Adventure,Comedy,Drama\",\"marker\":{\"color\":\"#19d3f3\"},\"name\":\"Adventure,Comedy,Drama\",\"notched\":false,\"offsetgroup\":\"Adventure,Comedy,Drama\",\"orientation\":\"v\",\"showlegend\":true,\"x\":[\"Adventure,Comedy,Drama\"],\"x0\":\" \",\"xaxis\":\"x\",\"y\":[\"29328\"],\"y0\":\" \",\"yaxis\":\"y\",\"type\":\"box\"},{\"alignmentgroup\":\"True\",\"hovertemplate\":\"genre=%{x}<br>box_office=%{y}<extra></extra>\",\"legendgroup\":\"Adventure,Family,Fantasy\",\"marker\":{\"color\":\"#FF6692\"},\"name\":\"Adventure,Family,Fantasy\",\"notched\":false,\"offsetgroup\":\"Adventure,Family,Fantasy\",\"orientation\":\"v\",\"showlegend\":true,\"x\":[\"Adventure,Family,Fantasy\",\"Adventure,Family,Fantasy\"],\"x0\":\" \",\"xaxis\":\"x\",\"y\":[\"1342359942\",\"25637669\"],\"y0\":\" \",\"yaxis\":\"y\",\"type\":\"box\"},{\"alignmentgroup\":\"True\",\"hovertemplate\":\"genre=%{x}<br>box_office=%{y}<extra></extra>\",\"legendgroup\":\"Adventure,Drama\",\"marker\":{\"color\":\"#B6E880\"},\"name\":\"Adventure,Drama\",\"notched\":false,\"offsetgroup\":\"Adventure,Drama\",\"orientation\":\"v\",\"showlegend\":true,\"x\":[\"Adventure,Drama\",\"Adventure,Drama\"],\"x0\":\" \",\"xaxis\":\"x\",\"y\":[\"74437720\",\"52287414\"],\"y0\":\" \",\"yaxis\":\"y\",\"type\":\"box\"},{\"alignmentgroup\":\"True\",\"hovertemplate\":\"genre=%{x}<br>box_office=%{y}<extra></extra>\",\"legendgroup\":\"Adventure,Comedy,Crime\",\"marker\":{\"color\":\"#FF97FF\"},\"name\":\"Adventure,Comedy,Crime\",\"notched\":false,\"offsetgroup\":\"Adventure,Comedy,Crime\",\"orientation\":\"v\",\"showlegend\":true,\"x\":[\"Adventure,Comedy,Crime\"],\"x0\":\" \",\"xaxis\":\"x\",\"y\":[\"173082189\"],\"y0\":\" \",\"yaxis\":\"y\",\"type\":\"box\"},{\"alignmentgroup\":\"True\",\"hovertemplate\":\"genre=%{x}<br>box_office=%{y}<extra></extra>\",\"legendgroup\":\"Action,Adventure,Comedy\",\"marker\":{\"color\":\"#FECB52\"},\"name\":\"Action,Adventure,Comedy\",\"notched\":false,\"offsetgroup\":\"Action,Adventure,Comedy\",\"orientation\":\"v\",\"showlegend\":true,\"x\":[\"Action,Adventure,Comedy\"],\"x0\":\" \",\"xaxis\":\"x\",\"y\":[\"750000 (estimated)\"],\"y0\":\" \",\"yaxis\":\"y\",\"type\":\"box\"},{\"alignmentgroup\":\"True\",\"hovertemplate\":\"genre=%{x}<br>box_office=%{y}<extra></extra>\",\"legendgroup\":\"Film-Noir,Mystery,Thriller\",\"marker\":{\"color\":\"#636efa\"},\"name\":\"Film-Noir,Mystery,Thriller\",\"notched\":false,\"offsetgroup\":\"Film-Noir,Mystery,Thriller\",\"orientation\":\"v\",\"showlegend\":true,\"x\":[\"Film-Noir,Mystery,Thriller\"],\"x0\":\" \",\"xaxis\":\"x\",\"y\":[\"1226507\"],\"y0\":\" \",\"yaxis\":\"y\",\"type\":\"box\"},{\"alignmentgroup\":\"True\",\"hovertemplate\":\"genre=%{x}<br>box_office=%{y}<extra></extra>\",\"legendgroup\":\"Adventure,Drama,Thriller\",\"marker\":{\"color\":\"#EF553B\"},\"name\":\"Adventure,Drama,Thriller\",\"notched\":false,\"offsetgroup\":\"Adventure,Drama,Thriller\",\"orientation\":\"v\",\"showlegend\":true,\"x\":[\"Adventure,Drama,Thriller\"],\"x0\":\" \",\"xaxis\":\"x\",\"y\":[\"1098\"],\"y0\":\" \",\"yaxis\":\"y\",\"type\":\"box\"},{\"alignmentgroup\":\"True\",\"hovertemplate\":\"genre=%{x}<br>box_office=%{y}<extra></extra>\",\"legendgroup\":\"Action,Comedy,Romance\",\"marker\":{\"color\":\"#00cc96\"},\"name\":\"Action,Comedy,Romance\",\"notched\":false,\"offsetgroup\":\"Action,Comedy,Romance\",\"orientation\":\"v\",\"showlegend\":true,\"x\":[\"Action,Comedy,Romance\"],\"x0\":\" \",\"xaxis\":\"x\",\"y\":[\"Not Available\"],\"y0\":\" \",\"yaxis\":\"y\",\"type\":\"box\"},{\"alignmentgroup\":\"True\",\"hovertemplate\":\"genre=%{x}<br>box_office=%{y}<extra></extra>\",\"legendgroup\":\"Comedy,Drama,Thriller\",\"marker\":{\"color\":\"#ab63fa\"},\"name\":\"Comedy,Drama,Thriller\",\"notched\":false,\"offsetgroup\":\"Comedy,Drama,Thriller\",\"orientation\":\"v\",\"showlegend\":true,\"x\":[\"Comedy,Drama,Thriller\"],\"x0\":\" \",\"xaxis\":\"x\",\"y\":[\"Not Available\"],\"y0\":\" \",\"yaxis\":\"y\",\"type\":\"box\"},{\"alignmentgroup\":\"True\",\"hovertemplate\":\"genre=%{x}<br>box_office=%{y}<extra></extra>\",\"legendgroup\":\"Drama,Fantasy\",\"marker\":{\"color\":\"#FFA15A\"},\"name\":\"Drama,Fantasy\",\"notched\":false,\"offsetgroup\":\"Drama,Fantasy\",\"orientation\":\"v\",\"showlegend\":true,\"x\":[\"Drama,Fantasy\"],\"x0\":\" \",\"xaxis\":\"x\",\"y\":[\"311212\"],\"y0\":\" \",\"yaxis\":\"y\",\"type\":\"box\"},{\"alignmentgroup\":\"True\",\"hovertemplate\":\"genre=%{x}<br>box_office=%{y}<extra></extra>\",\"legendgroup\":\"Animation,Comedy,Drama\",\"marker\":{\"color\":\"#19d3f3\"},\"name\":\"Animation,Comedy,Drama\",\"notched\":false,\"offsetgroup\":\"Animation,Comedy,Drama\",\"orientation\":\"v\",\"showlegend\":true,\"x\":[\"Animation,Comedy,Drama\"],\"x0\":\" \",\"xaxis\":\"x\",\"y\":[\"1740429\"],\"y0\":\" \",\"yaxis\":\"y\",\"type\":\"box\"},{\"alignmentgroup\":\"True\",\"hovertemplate\":\"genre=%{x}<br>box_office=%{y}<extra></extra>\",\"legendgroup\":\"Adventure,Thriller\",\"marker\":{\"color\":\"#FF6692\"},\"name\":\"Adventure,Thriller\",\"notched\":false,\"offsetgroup\":\"Adventure,Thriller\",\"orientation\":\"v\",\"showlegend\":true,\"x\":[\"Adventure,Thriller\"],\"x0\":\" \",\"xaxis\":\"x\",\"y\":[\"476512065\"],\"y0\":\" \",\"yaxis\":\"y\",\"type\":\"box\"},{\"alignmentgroup\":\"True\",\"hovertemplate\":\"genre=%{x}<br>box_office=%{y}<extra></extra>\",\"legendgroup\":\"Comedy,Drama,Fantasy\",\"marker\":{\"color\":\"#B6E880\"},\"name\":\"Comedy,Drama,Fantasy\",\"notched\":false,\"offsetgroup\":\"Comedy,Drama,Fantasy\",\"orientation\":\"v\",\"showlegend\":true,\"x\":[\"Comedy,Drama,Fantasy\"],\"x0\":\" \",\"xaxis\":\"x\",\"y\":[\"71108591\"],\"y0\":\" \",\"yaxis\":\"y\",\"type\":\"box\"},{\"alignmentgroup\":\"True\",\"hovertemplate\":\"genre=%{x}<br>box_office=%{y}<extra></extra>\",\"legendgroup\":\"Horror\",\"marker\":{\"color\":\"#FF97FF\"},\"name\":\"Horror\",\"notched\":false,\"offsetgroup\":\"Horror\",\"orientation\":\"v\",\"showlegend\":true,\"x\":[\"Horror\"],\"x0\":\" \",\"xaxis\":\"x\",\"y\":[\"441306145\"],\"y0\":\" \",\"yaxis\":\"y\",\"type\":\"box\"},{\"alignmentgroup\":\"True\",\"hovertemplate\":\"genre=%{x}<br>box_office=%{y}<extra></extra>\",\"legendgroup\":\"Comedy,Romance,War\",\"marker\":{\"color\":\"#FECB52\"},\"name\":\"Comedy,Romance,War\",\"notched\":false,\"offsetgroup\":\"Comedy,Romance,War\",\"orientation\":\"v\",\"showlegend\":true,\"x\":[\"Comedy,Romance,War\"],\"x0\":\" \",\"xaxis\":\"x\",\"y\":[\"Not Available\"],\"y0\":\" \",\"yaxis\":\"y\",\"type\":\"box\"},{\"alignmentgroup\":\"True\",\"hovertemplate\":\"genre=%{x}<br>box_office=%{y}<extra></extra>\",\"legendgroup\":\"Biography,Drama,Family\",\"marker\":{\"color\":\"#636efa\"},\"name\":\"Biography,Drama,Family\",\"notched\":false,\"offsetgroup\":\"Biography,Drama,Family\",\"orientation\":\"v\",\"showlegend\":true,\"x\":[\"Biography,Drama,Family\",\"Biography,Drama,Family\"],\"x0\":\" \",\"xaxis\":\"x\",\"y\":[\"Not Available\",\"159428329\"],\"y0\":\" \",\"yaxis\":\"y\",\"type\":\"box\"},{\"alignmentgroup\":\"True\",\"hovertemplate\":\"genre=%{x}<br>box_office=%{y}<extra></extra>\",\"legendgroup\":\"Drama,Film-Noir,Mystery\",\"marker\":{\"color\":\"#EF553B\"},\"name\":\"Drama,Film-Noir,Mystery\",\"notched\":false,\"offsetgroup\":\"Drama,Film-Noir,Mystery\",\"orientation\":\"v\",\"showlegend\":true,\"x\":[\"Drama,Film-Noir,Mystery\"],\"x0\":\" \",\"xaxis\":\"x\",\"y\":[\"72275\"],\"y0\":\" \",\"yaxis\":\"y\",\"type\":\"box\"},{\"alignmentgroup\":\"True\",\"hovertemplate\":\"genre=%{x}<br>box_office=%{y}<extra></extra>\",\"legendgroup\":\"Drama,Romance,Thriller\",\"marker\":{\"color\":\"#00cc96\"},\"name\":\"Drama,Romance,Thriller\",\"notched\":false,\"offsetgroup\":\"Drama,Romance,Thriller\",\"orientation\":\"v\",\"showlegend\":true,\"x\":[\"Drama,Romance,Thriller\"],\"x0\":\" \",\"xaxis\":\"x\",\"y\":[\"Not Available\"],\"y0\":\" \",\"yaxis\":\"y\",\"type\":\"box\"},{\"alignmentgroup\":\"True\",\"hovertemplate\":\"genre=%{x}<br>box_office=%{y}<extra></extra>\",\"legendgroup\":\"Comedy\",\"marker\":{\"color\":\"#ab63fa\"},\"name\":\"Comedy\",\"notched\":false,\"offsetgroup\":\"Comedy\",\"orientation\":\"v\",\"showlegend\":true,\"x\":[\"Comedy\"],\"x0\":\" \",\"xaxis\":\"x\",\"y\":[\"20745728\"],\"y0\":\" \",\"yaxis\":\"y\",\"type\":\"box\"}],                        {\"template\":{\"data\":{\"histogram2dcontour\":[{\"type\":\"histogram2dcontour\",\"colorbar\":{\"outlinewidth\":0,\"ticks\":\"\"},\"colorscale\":[[0.0,\"#0d0887\"],[0.1111111111111111,\"#46039f\"],[0.2222222222222222,\"#7201a8\"],[0.3333333333333333,\"#9c179e\"],[0.4444444444444444,\"#bd3786\"],[0.5555555555555556,\"#d8576b\"],[0.6666666666666666,\"#ed7953\"],[0.7777777777777778,\"#fb9f3a\"],[0.8888888888888888,\"#fdca26\"],[1.0,\"#f0f921\"]]}],\"choropleth\":[{\"type\":\"choropleth\",\"colorbar\":{\"outlinewidth\":0,\"ticks\":\"\"}}],\"histogram2d\":[{\"type\":\"histogram2d\",\"colorbar\":{\"outlinewidth\":0,\"ticks\":\"\"},\"colorscale\":[[0.0,\"#0d0887\"],[0.1111111111111111,\"#46039f\"],[0.2222222222222222,\"#7201a8\"],[0.3333333333333333,\"#9c179e\"],[0.4444444444444444,\"#bd3786\"],[0.5555555555555556,\"#d8576b\"],[0.6666666666666666,\"#ed7953\"],[0.7777777777777778,\"#fb9f3a\"],[0.8888888888888888,\"#fdca26\"],[1.0,\"#f0f921\"]]}],\"heatmap\":[{\"type\":\"heatmap\",\"colorbar\":{\"outlinewidth\":0,\"ticks\":\"\"},\"colorscale\":[[0.0,\"#0d0887\"],[0.1111111111111111,\"#46039f\"],[0.2222222222222222,\"#7201a8\"],[0.3333333333333333,\"#9c179e\"],[0.4444444444444444,\"#bd3786\"],[0.5555555555555556,\"#d8576b\"],[0.6666666666666666,\"#ed7953\"],[0.7777777777777778,\"#fb9f3a\"],[0.8888888888888888,\"#fdca26\"],[1.0,\"#f0f921\"]]}],\"heatmapgl\":[{\"type\":\"heatmapgl\",\"colorbar\":{\"outlinewidth\":0,\"ticks\":\"\"},\"colorscale\":[[0.0,\"#0d0887\"],[0.1111111111111111,\"#46039f\"],[0.2222222222222222,\"#7201a8\"],[0.3333333333333333,\"#9c179e\"],[0.4444444444444444,\"#bd3786\"],[0.5555555555555556,\"#d8576b\"],[0.6666666666666666,\"#ed7953\"],[0.7777777777777778,\"#fb9f3a\"],[0.8888888888888888,\"#fdca26\"],[1.0,\"#f0f921\"]]}],\"contourcarpet\":[{\"type\":\"contourcarpet\",\"colorbar\":{\"outlinewidth\":0,\"ticks\":\"\"}}],\"contour\":[{\"type\":\"contour\",\"colorbar\":{\"outlinewidth\":0,\"ticks\":\"\"},\"colorscale\":[[0.0,\"#0d0887\"],[0.1111111111111111,\"#46039f\"],[0.2222222222222222,\"#7201a8\"],[0.3333333333333333,\"#9c179e\"],[0.4444444444444444,\"#bd3786\"],[0.5555555555555556,\"#d8576b\"],[0.6666666666666666,\"#ed7953\"],[0.7777777777777778,\"#fb9f3a\"],[0.8888888888888888,\"#fdca26\"],[1.0,\"#f0f921\"]]}],\"surface\":[{\"type\":\"surface\",\"colorbar\":{\"outlinewidth\":0,\"ticks\":\"\"},\"colorscale\":[[0.0,\"#0d0887\"],[0.1111111111111111,\"#46039f\"],[0.2222222222222222,\"#7201a8\"],[0.3333333333333333,\"#9c179e\"],[0.4444444444444444,\"#bd3786\"],[0.5555555555555556,\"#d8576b\"],[0.6666666666666666,\"#ed7953\"],[0.7777777777777778,\"#fb9f3a\"],[0.8888888888888888,\"#fdca26\"],[1.0,\"#f0f921\"]]}],\"mesh3d\":[{\"type\":\"mesh3d\",\"colorbar\":{\"outlinewidth\":0,\"ticks\":\"\"}}],\"scatter\":[{\"fillpattern\":{\"fillmode\":\"overlay\",\"size\":10,\"solidity\":0.2},\"type\":\"scatter\"}],\"parcoords\":[{\"type\":\"parcoords\",\"line\":{\"colorbar\":{\"outlinewidth\":0,\"ticks\":\"\"}}}],\"scatterpolargl\":[{\"type\":\"scatterpolargl\",\"marker\":{\"colorbar\":{\"outlinewidth\":0,\"ticks\":\"\"}}}],\"bar\":[{\"error_x\":{\"color\":\"#2a3f5f\"},\"error_y\":{\"color\":\"#2a3f5f\"},\"marker\":{\"line\":{\"color\":\"#E5ECF6\",\"width\":0.5},\"pattern\":{\"fillmode\":\"overlay\",\"size\":10,\"solidity\":0.2}},\"type\":\"bar\"}],\"scattergeo\":[{\"type\":\"scattergeo\",\"marker\":{\"colorbar\":{\"outlinewidth\":0,\"ticks\":\"\"}}}],\"scatterpolar\":[{\"type\":\"scatterpolar\",\"marker\":{\"colorbar\":{\"outlinewidth\":0,\"ticks\":\"\"}}}],\"histogram\":[{\"marker\":{\"pattern\":{\"fillmode\":\"overlay\",\"size\":10,\"solidity\":0.2}},\"type\":\"histogram\"}],\"scattergl\":[{\"type\":\"scattergl\",\"marker\":{\"colorbar\":{\"outlinewidth\":0,\"ticks\":\"\"}}}],\"scatter3d\":[{\"type\":\"scatter3d\",\"line\":{\"colorbar\":{\"outlinewidth\":0,\"ticks\":\"\"}},\"marker\":{\"colorbar\":{\"outlinewidth\":0,\"ticks\":\"\"}}}],\"scattermapbox\":[{\"type\":\"scattermapbox\",\"marker\":{\"colorbar\":{\"outlinewidth\":0,\"ticks\":\"\"}}}],\"scatterternary\":[{\"type\":\"scatterternary\",\"marker\":{\"colorbar\":{\"outlinewidth\":0,\"ticks\":\"\"}}}],\"scattercarpet\":[{\"type\":\"scattercarpet\",\"marker\":{\"colorbar\":{\"outlinewidth\":0,\"ticks\":\"\"}}}],\"carpet\":[{\"aaxis\":{\"endlinecolor\":\"#2a3f5f\",\"gridcolor\":\"white\",\"linecolor\":\"white\",\"minorgridcolor\":\"white\",\"startlinecolor\":\"#2a3f5f\"},\"baxis\":{\"endlinecolor\":\"#2a3f5f\",\"gridcolor\":\"white\",\"linecolor\":\"white\",\"minorgridcolor\":\"white\",\"startlinecolor\":\"#2a3f5f\"},\"type\":\"carpet\"}],\"table\":[{\"cells\":{\"fill\":{\"color\":\"#EBF0F8\"},\"line\":{\"color\":\"white\"}},\"header\":{\"fill\":{\"color\":\"#C8D4E3\"},\"line\":{\"color\":\"white\"}},\"type\":\"table\"}],\"barpolar\":[{\"marker\":{\"line\":{\"color\":\"#E5ECF6\",\"width\":0.5},\"pattern\":{\"fillmode\":\"overlay\",\"size\":10,\"solidity\":0.2}},\"type\":\"barpolar\"}],\"pie\":[{\"automargin\":true,\"type\":\"pie\"}]},\"layout\":{\"autotypenumbers\":\"strict\",\"colorway\":[\"#636efa\",\"#EF553B\",\"#00cc96\",\"#ab63fa\",\"#FFA15A\",\"#19d3f3\",\"#FF6692\",\"#B6E880\",\"#FF97FF\",\"#FECB52\"],\"font\":{\"color\":\"#2a3f5f\"},\"hovermode\":\"closest\",\"hoverlabel\":{\"align\":\"left\"},\"paper_bgcolor\":\"white\",\"plot_bgcolor\":\"#E5ECF6\",\"polar\":{\"bgcolor\":\"#E5ECF6\",\"angularaxis\":{\"gridcolor\":\"white\",\"linecolor\":\"white\",\"ticks\":\"\"},\"radialaxis\":{\"gridcolor\":\"white\",\"linecolor\":\"white\",\"ticks\":\"\"}},\"ternary\":{\"bgcolor\":\"#E5ECF6\",\"aaxis\":{\"gridcolor\":\"white\",\"linecolor\":\"white\",\"ticks\":\"\"},\"baxis\":{\"gridcolor\":\"white\",\"linecolor\":\"white\",\"ticks\":\"\"},\"caxis\":{\"gridcolor\":\"white\",\"linecolor\":\"white\",\"ticks\":\"\"}},\"coloraxis\":{\"colorbar\":{\"outlinewidth\":0,\"ticks\":\"\"}},\"colorscale\":{\"sequential\":[[0.0,\"#0d0887\"],[0.1111111111111111,\"#46039f\"],[0.2222222222222222,\"#7201a8\"],[0.3333333333333333,\"#9c179e\"],[0.4444444444444444,\"#bd3786\"],[0.5555555555555556,\"#d8576b\"],[0.6666666666666666,\"#ed7953\"],[0.7777777777777778,\"#fb9f3a\"],[0.8888888888888888,\"#fdca26\"],[1.0,\"#f0f921\"]],\"sequentialminus\":[[0.0,\"#0d0887\"],[0.1111111111111111,\"#46039f\"],[0.2222222222222222,\"#7201a8\"],[0.3333333333333333,\"#9c179e\"],[0.4444444444444444,\"#bd3786\"],[0.5555555555555556,\"#d8576b\"],[0.6666666666666666,\"#ed7953\"],[0.7777777777777778,\"#fb9f3a\"],[0.8888888888888888,\"#fdca26\"],[1.0,\"#f0f921\"]],\"diverging\":[[0,\"#8e0152\"],[0.1,\"#c51b7d\"],[0.2,\"#de77ae\"],[0.3,\"#f1b6da\"],[0.4,\"#fde0ef\"],[0.5,\"#f7f7f7\"],[0.6,\"#e6f5d0\"],[0.7,\"#b8e186\"],[0.8,\"#7fbc41\"],[0.9,\"#4d9221\"],[1,\"#276419\"]]},\"xaxis\":{\"gridcolor\":\"white\",\"linecolor\":\"white\",\"ticks\":\"\",\"title\":{\"standoff\":15},\"zerolinecolor\":\"white\",\"automargin\":true,\"zerolinewidth\":2},\"yaxis\":{\"gridcolor\":\"white\",\"linecolor\":\"white\",\"ticks\":\"\",\"title\":{\"standoff\":15},\"zerolinecolor\":\"white\",\"automargin\":true,\"zerolinewidth\":2},\"scene\":{\"xaxis\":{\"backgroundcolor\":\"#E5ECF6\",\"gridcolor\":\"white\",\"linecolor\":\"white\",\"showbackground\":true,\"ticks\":\"\",\"zerolinecolor\":\"white\",\"gridwidth\":2},\"yaxis\":{\"backgroundcolor\":\"#E5ECF6\",\"gridcolor\":\"white\",\"linecolor\":\"white\",\"showbackground\":true,\"ticks\":\"\",\"zerolinecolor\":\"white\",\"gridwidth\":2},\"zaxis\":{\"backgroundcolor\":\"#E5ECF6\",\"gridcolor\":\"white\",\"linecolor\":\"white\",\"showbackground\":true,\"ticks\":\"\",\"zerolinecolor\":\"white\",\"gridwidth\":2}},\"shapedefaults\":{\"line\":{\"color\":\"#2a3f5f\"}},\"annotationdefaults\":{\"arrowcolor\":\"#2a3f5f\",\"arrowhead\":0,\"arrowwidth\":1},\"geo\":{\"bgcolor\":\"white\",\"landcolor\":\"#E5ECF6\",\"subunitcolor\":\"white\",\"showland\":true,\"showlakes\":true,\"lakecolor\":\"white\"},\"title\":{\"x\":0.05},\"mapbox\":{\"style\":\"light\"}}},\"xaxis\":{\"anchor\":\"y\",\"domain\":[0.0,1.0],\"title\":{\"text\":\"genre\"},\"categoryorder\":\"array\",\"categoryarray\":[\"Drama\",\"Crime,Drama\",\"Action,Crime,Drama\",\"Biography,Drama,History\",\"Action,Adventure,Drama\",\"Adventure,Western\",\"Drama,Romance\",\"Action,Adventure,Sci-Fi\",\"Action,Adventure,Fantasy\",\"Action,Sci-Fi\",\"Biography,Crime,Drama\",\"Crime,Drama,Mystery\",\"Action,Drama\",\"Drama,Family,Fantasy\",\"Crime,Drama,Thriller\",\"Drama,War\",\"Adventure,Drama,Sci-Fi\",\"Comedy,Drama,Romance\",\"Crime,Drama,Fantasy\",\"Adventure,Comedy,Sci-Fi\",\"Animation,Adventure,Family\",\"Biography,Drama,Music\",\"Horror,Mystery,Thriller\",\"Drama,Thriller\",\"Animation,Adventure,Drama\",\"Drama,Mystery,Sci-Fi\",\"Drama,Music\",\"Drama,Romance,War\",\"Animation,Drama,War\",\"Action,Drama,Mystery\",\"Biography,Comedy,Drama\",\"Western\",\"Mystery,Thriller\",\"Horror,Sci-Fi\",\"Drama,Mystery,War\",\"Drama,Western\",\"Action,Adventure\",\"Drama,Mystery,Thriller\",\"Drama,Film-Noir\",\"Drama,Horror\",\"Comedy,Drama,War\",\"Animation,Action,Adventure\",\"Comedy,War\",\"Adventure,Drama,War\",\"Animation,Adventure,Comedy\",\"Animation,Drama,Fantasy\",\"Comedy,Drama\",\"Comedy,Musical,Romance\",\"Drama,Romance,Sci-Fi\",\"Adventure,Sci-Fi\",\"Crime,Thriller\",\"Drama,Thriller,War\",\"Drama,Mystery\",\"Crime,Mystery,Thriller\",\"Adventure,Biography,Drama\",\"Action,Adventure,Mystery\",\"Mystery,Romance,Thriller\",\"Comedy,Romance\",\"Crime,Sci-Fi\",\"Crime,Drama,Film-Noir\",\"Comedy,Crime,Drama\",\"Drama,Sci-Fi\",\"Action,Thriller\",\"Comedy,Crime\",\"Drama,Family\",\"Action,Drama,War\",\"Action,Biography,Drama\",\"Comedy,Drama,Family\",\"Comedy,Music,Romance\",\"Biography,Comedy,Crime\",\"Drama,Fantasy,War\",\"Biography,Drama\",\"Action,Drama,Thriller\",\"Adventure,Drama,Western\",\"Adventure,Comedy,Fantasy\",\"Adventure,Drama,History\",\"Horror,Mystery,Sci-Fi\",\"Biography,Drama,Sport\",\"Action,Drama,Sci-Fi\",\"Action,Comedy,Crime\",\"Drama,Mystery,Romance\",\"Action,Drama,Sport\",\"Animation,Comedy,Family\",\"Drama,Sport\",\"Drama,Family,Sport\",\"Adventure,Comedy,Drama\",\"Adventure,Family,Fantasy\",\"Adventure,Drama\",\"Adventure,Comedy,Crime\",\"Action,Adventure,Comedy\",\"Film-Noir,Mystery,Thriller\",\"Adventure,Drama,Thriller\",\"Action,Comedy,Romance\",\"Comedy,Drama,Thriller\",\"Drama,Fantasy\",\"Animation,Comedy,Drama\",\"Adventure,Thriller\",\"Comedy,Drama,Fantasy\",\"Horror\",\"Comedy,Romance,War\",\"Biography,Drama,Family\",\"Drama,Film-Noir,Mystery\",\"Drama,Romance,Thriller\",\"Comedy\"]},\"yaxis\":{\"anchor\":\"x\",\"domain\":[0.0,1.0],\"title\":{\"text\":\"box_office\"}},\"legend\":{\"title\":{\"text\":\"genre\"},\"tracegroupgap\":0},\"title\":{\"text\":\"The Box Office Amount by Genre\"},\"boxmode\":\"overlay\"},                        {\"responsive\": true}                    ).then(function(){\n",
       "                            \n",
       "var gd = document.getElementById('5f58c6fd-291d-4bdf-9dbd-dcbda582e748');\n",
       "var x = new MutationObserver(function (mutations, observer) {{\n",
       "        var display = window.getComputedStyle(gd).display;\n",
       "        if (!display || display === 'none') {{\n",
       "            console.log([gd, 'removed!']);\n",
       "            Plotly.purge(gd);\n",
       "            observer.disconnect();\n",
       "        }}\n",
       "}});\n",
       "\n",
       "// Listen for the removal of the full notebook cells\n",
       "var notebookContainer = gd.closest('#notebook-container');\n",
       "if (notebookContainer) {{\n",
       "    x.observe(notebookContainer, {childList: true});\n",
       "}}\n",
       "\n",
       "// Listen for the clearing of the current output cell\n",
       "var outputEl = gd.closest('.output');\n",
       "if (outputEl) {{\n",
       "    x.observe(outputEl, {childList: true});\n",
       "}}\n",
       "\n",
       "                        })                };                });            </script>        </div>"
      ]
     },
     "metadata": {},
     "output_type": "display_data"
    }
   ],
   "source": [
    "fig = px.box(movies_data, x='genre', y='box_office', color='genre', title='The Box Office Amount by Genre')\n",
    "fig.show()"
   ]
  },
  {
   "cell_type": "markdown",
   "id": "91e9cae8",
   "metadata": {},
   "source": [
    "Data above displays the the box office amount in relation to the genre"
   ]
  },
  {
   "cell_type": "code",
   "execution_count": 67,
   "id": "678e3ff3",
   "metadata": {},
   "outputs": [
    {
     "data": {
      "text/plain": [
       "<seaborn.axisgrid.FacetGrid at 0x7f9d8e7b9370>"
      ]
     },
     "execution_count": 67,
     "metadata": {},
     "output_type": "execute_result"
    },
    {
     "data": {
      "image/png": "[encoded data removed]",
      "text/plain": [
       "<Figure size 969x510 with 1 Axes>"
      ]
     },
     "metadata": {},
     "output_type": "display_data"
    }
   ],
   "source": [
    "\n",
    "top_genres_films = movies_data['genre'].str.split('|', expand=True).stack().value_counts().head(10).index # Get the top 10 genres by movie count\n",
    "\n",
    "\n",
    "df_top_genres_films = movies_data[movies_data['genre'].str.contains('|'.join(top_genres_films))]  # Filter the dataset to only include movies in the top 10 genres within the dataset\n",
    "genre_median_ratings = df_top_genres_films.groupby('genre')['rating'].median().sort_values(ascending=False)\n",
    "\n",
    "\n",
    "\n",
    "sns.set(style='darkgrid', font_scale=1.5)  # Creating a box plot for each Genre\n",
    "sns.catplot(x='rating', y='genre', data=df_top_genres_films, kind='box', height=5.1, aspect=1.9, order=top_genres_films)"
   ]
  },
  {
   "cell_type": "markdown",
   "id": "b7d62b21",
   "metadata": {},
   "source": [
    "This box and whiskers plot shows the correlation between the genre and the ratings. Based on the graph we can see that the genre of \"Crime,Drama\" contains the highest ratings among the rest  "
   ]
  },
  {
   "cell_type": "code",
   "execution_count": null,
   "id": "7938cfff",
   "metadata": {},
   "outputs": [],
   "source": [
    "#Here are two groupby figures from the dataset"
   ]
  },
  {
   "cell_type": "code",
   "execution_count": 30,
   "id": "a0eda63a",
   "metadata": {},
   "outputs": [
    {
     "data": {
      "application/vnd.plotly.v1+json": {
       "config": {
        "plotlyServerURL": "https://plot.ly"
       },
       "data": [
        {
         "alignmentgroup": "True",
         "hovertemplate": "genre=%{x}<br>rating=%{y}<extra></extra>",
         "legendgroup": "",
         "marker": {
          "color": "#636efa",
          "pattern": {
           "shape": ""
          }
         },
         "name": "",
         "offsetgroup": "",
         "orientation": "v",
         "showlegend": false,
         "textposition": "auto",
         "type": "bar",
         "x": [
          "Action,Adventure",
          "Action,Adventure,Comedy",
          "Action,Adventure,Drama",
          "Action,Adventure,Fantasy",
          "Action,Adventure,Mystery",
          "Action,Adventure,Sci-Fi",
          "Action,Biography,Drama",
          "Action,Comedy,Crime",
          "Action,Comedy,Romance",
          "Action,Crime,Drama",
          "Action,Drama",
          "Action,Drama,Mystery",
          "Action,Drama,Sci-Fi",
          "Action,Drama,Sport",
          "Action,Drama,Thriller",
          "Action,Drama,War",
          "Action,Sci-Fi",
          "Action,Thriller",
          "Adventure,Biography,Drama",
          "Adventure,Comedy,Crime",
          "Adventure,Comedy,Drama",
          "Adventure,Comedy,Fantasy",
          "Adventure,Comedy,Sci-Fi",
          "Adventure,Drama",
          "Adventure,Drama,History",
          "Adventure,Drama,Sci-Fi",
          "Adventure,Drama,Thriller",
          "Adventure,Drama,War",
          "Adventure,Drama,Western",
          "Adventure,Family,Fantasy",
          "Adventure,Sci-Fi",
          "Adventure,Thriller",
          "Adventure,Western",
          "Animation,Action,Adventure",
          "Animation,Adventure,Comedy",
          "Animation,Adventure,Drama",
          "Animation,Adventure,Family",
          "Animation,Comedy,Drama",
          "Animation,Comedy,Family",
          "Animation,Drama,Fantasy",
          "Animation,Drama,War",
          "Biography,Comedy,Crime",
          "Biography,Comedy,Drama",
          "Biography,Crime,Drama",
          "Biography,Drama",
          "Biography,Drama,Family",
          "Biography,Drama,History",
          "Biography,Drama,Music",
          "Biography,Drama,Sport",
          "Comedy",
          "Comedy,Crime",
          "Comedy,Crime,Drama",
          "Comedy,Drama",
          "Comedy,Drama,Family",
          "Comedy,Drama,Fantasy",
          "Comedy,Drama,Romance",
          "Comedy,Drama,Thriller",
          "Comedy,Drama,War",
          "Comedy,Music,Romance",
          "Comedy,Musical,Romance",
          "Comedy,Romance",
          "Comedy,Romance,War",
          "Comedy,War",
          "Crime,Drama",
          "Crime,Drama,Fantasy",
          "Crime,Drama,Film-Noir",
          "Crime,Drama,Mystery",
          "Crime,Drama,Thriller",
          "Crime,Mystery,Thriller",
          "Crime,Sci-Fi",
          "Crime,Thriller",
          "Drama",
          "Drama,Family",
          "Drama,Family,Fantasy",
          "Drama,Family,Sport",
          "Drama,Fantasy",
          "Drama,Fantasy,War",
          "Drama,Film-Noir",
          "Drama,Film-Noir,Mystery",
          "Drama,Horror",
          "Drama,Music",
          "Drama,Mystery",
          "Drama,Mystery,Romance",
          "Drama,Mystery,Sci-Fi",
          "Drama,Mystery,Thriller",
          "Drama,Mystery,War",
          "Drama,Romance",
          "Drama,Romance,Sci-Fi",
          "Drama,Romance,Thriller",
          "Drama,Romance,War",
          "Drama,Sci-Fi",
          "Drama,Sport",
          "Drama,Thriller",
          "Drama,Thriller,War",
          "Drama,War",
          "Drama,Western",
          "Film-Noir,Mystery,Thriller",
          "Horror",
          "Horror,Mystery,Sci-Fi",
          "Horror,Mystery,Thriller",
          "Horror,Sci-Fi",
          "Mystery,Romance,Thriller",
          "Mystery,Thriller",
          "Western"
         ],
         "xaxis": "x",
         "y": [
          8.3,
          8.1,
          8.7,
          8.379999999999999,
          8.3,
          8.379999999999999,
          8.166666666666666,
          8.2,
          8.2,
          8.440000000000001,
          8.433333333333334,
          8.5,
          8.133333333333333,
          8.2,
          8.2,
          8.2,
          8.466666666666667,
          8.2,
          8.200000000000001,
          8.1,
          8.1,
          8.2,
          8.5,
          8.1,
          8.2,
          8.6,
          8.2,
          8.200000000000001,
          8.1,
          8.1,
          8.3,
          8.1,
          8.8,
          8.2,
          8.209999999999999,
          8.5,
          8.4,
          8.1,
          8.1,
          8.4,
          8.5,
          8.2,
          8.35,
          8.25,
          8.2,
          8.1,
          8.277777777777779,
          8.45,
          8.2,
          8,
          8.149999999999999,
          8.2,
          8.2,
          8.3,
          8.1,
          8.475,
          8.1,
          8.4,
          8.2,
          8.3,
          8.2,
          8.2,
          8.4,
          8.485714285714286,
          8.6,
          8.3,
          8.366666666666667,
          8.36,
          8.3,
          8.3,
          8.200000000000001,
          8.342105263157896,
          8.25,
          8.6,
          8.2,
          8.1,
          8.2,
          8.4,
          8.1,
          8.4,
          8.5,
          8.266666666666667,
          8.2,
          8.5,
          8.225,
          8.5,
          8.316666666666666,
          8.3,
          8.1,
          8.266666666666666,
          8.3,
          8.1,
          8.2,
          8.4,
          8.2875,
          8.3,
          8.1,
          8.1,
          8.2,
          8.5,
          8.5,
          8.3,
          8.366666666666667,
          8.35
         ],
         "yaxis": "y"
        }
       ],
       "layout": {
        "barmode": "relative",
        "legend": {
         "tracegroupgap": 0
        },
        "template": {
         "data": {
          "bar": [
           {
            "error_x": {
             "color": "#2a3f5f"
            },
            "error_y": {
             "color": "#2a3f5f"
            },
            "marker": {
             "line": {
              "color": "#E5ECF6",
              "width": 0.5
             },
             "pattern": {
              "fillmode": "overlay",
              "size": 10,
              "solidity": 0.2
             }
            },
            "type": "bar"
           }
          ],
          "barpolar": [
           {
            "marker": {
             "line": {
              "color": "#E5ECF6",
              "width": 0.5
             },
             "pattern": {
              "fillmode": "overlay",
              "size": 10,
              "solidity": 0.2
             }
            },
            "type": "barpolar"
           }
          ],
          "carpet": [
           {
            "aaxis": {
             "endlinecolor": "#2a3f5f",
             "gridcolor": "white",
             "linecolor": "white",
             "minorgridcolor": "white",
             "startlinecolor": "#2a3f5f"
            },
            "baxis": {
             "endlinecolor": "#2a3f5f",
             "gridcolor": "white",
             "linecolor": "white",
             "minorgridcolor": "white",
             "startlinecolor": "#2a3f5f"
            },
            "type": "carpet"
           }
          ],
          "choropleth": [
           {
            "colorbar": {
             "outlinewidth": 0,
             "ticks": ""
            },
            "type": "choropleth"
           }
          ],
          "contour": [
           {
            "colorbar": {
             "outlinewidth": 0,
             "ticks": ""
            },
            "colorscale": [
             [
              0,
              "#0d0887"
             ],
             [
              0.1111111111111111,
              "#46039f"
             ],
             [
              0.2222222222222222,
              "#7201a8"
             ],
             [
              0.3333333333333333,
              "#9c179e"
             ],
             [
              0.4444444444444444,
              "#bd3786"
             ],
             [
              0.5555555555555556,
              "#d8576b"
             ],
             [
              0.6666666666666666,
              "#ed7953"
             ],
             [
              0.7777777777777778,
              "#fb9f3a"
             ],
             [
              0.8888888888888888,
              "#fdca26"
             ],
             [
              1,
              "#f0f921"
             ]
            ],
            "type": "contour"
           }
          ],
          "contourcarpet": [
           {
            "colorbar": {
             "outlinewidth": 0,
             "ticks": ""
            },
            "type": "contourcarpet"
           }
          ],
          "heatmap": [
           {
            "colorbar": {
             "outlinewidth": 0,
             "ticks": ""
            },
            "colorscale": [
             [
              0,
              "#0d0887"
             ],
             [
              0.1111111111111111,
              "#46039f"
             ],
             [
              0.2222222222222222,
              "#7201a8"
             ],
             [
              0.3333333333333333,
              "#9c179e"
             ],
             [
              0.4444444444444444,
              "#bd3786"
             ],
             [
              0.5555555555555556,
              "#d8576b"
             ],
             [
              0.6666666666666666,
              "#ed7953"
             ],
             [
              0.7777777777777778,
              "#fb9f3a"
             ],
             [
              0.8888888888888888,
              "#fdca26"
             ],
             [
              1,
              "#f0f921"
             ]
            ],
            "type": "heatmap"
           }
          ],
          "heatmapgl": [
           {
            "colorbar": {
             "outlinewidth": 0,
             "ticks": ""
            },
            "colorscale": [
             [
              0,
              "#0d0887"
             ],
             [
              0.1111111111111111,
              "#46039f"
             ],
             [
              0.2222222222222222,
              "#7201a8"
             ],
             [
              0.3333333333333333,
              "#9c179e"
             ],
             [
              0.4444444444444444,
              "#bd3786"
             ],
             [
              0.5555555555555556,
              "#d8576b"
             ],
             [
              0.6666666666666666,
              "#ed7953"
             ],
             [
              0.7777777777777778,
              "#fb9f3a"
             ],
             [
              0.8888888888888888,
              "#fdca26"
             ],
             [
              1,
              "#f0f921"
             ]
            ],
            "type": "heatmapgl"
           }
          ],
          "histogram": [
           {
            "marker": {
             "pattern": {
              "fillmode": "overlay",
              "size": 10,
              "solidity": 0.2
             }
            },
            "type": "histogram"
           }
          ],
          "histogram2d": [
           {
            "colorbar": {
             "outlinewidth": 0,
             "ticks": ""
            },
            "colorscale": [
             [
              0,
              "#0d0887"
             ],
             [
              0.1111111111111111,
              "#46039f"
             ],
             [
              0.2222222222222222,
              "#7201a8"
             ],
             [
              0.3333333333333333,
              "#9c179e"
             ],
             [
              0.4444444444444444,
              "#bd3786"
             ],
             [
              0.5555555555555556,
              "#d8576b"
             ],
             [
              0.6666666666666666,
              "#ed7953"
             ],
             [
              0.7777777777777778,
              "#fb9f3a"
             ],
             [
              0.8888888888888888,
              "#fdca26"
             ],
             [
              1,
              "#f0f921"
             ]
            ],
            "type": "histogram2d"
           }
          ],
          "histogram2dcontour": [
           {
            "colorbar": {
             "outlinewidth": 0,
             "ticks": ""
            },
            "colorscale": [
             [
              0,
              "#0d0887"
             ],
             [
              0.1111111111111111,
              "#46039f"
             ],
             [
              0.2222222222222222,
              "#7201a8"
             ],
             [
              0.3333333333333333,
              "#9c179e"
             ],
             [
              0.4444444444444444,
              "#bd3786"
             ],
             [
              0.5555555555555556,
              "#d8576b"
             ],
             [
              0.6666666666666666,
              "#ed7953"
             ],
             [
              0.7777777777777778,
              "#fb9f3a"
             ],
             [
              0.8888888888888888,
              "#fdca26"
             ],
             [
              1,
              "#f0f921"
             ]
            ],
            "type": "histogram2dcontour"
           }
          ],
          "mesh3d": [
           {
            "colorbar": {
             "outlinewidth": 0,
             "ticks": ""
            },
            "type": "mesh3d"
           }
          ],
          "parcoords": [
           {
            "line": {
             "colorbar": {
              "outlinewidth": 0,
              "ticks": ""
             }
            },
            "type": "parcoords"
           }
          ],
          "pie": [
           {
            "automargin": true,
            "type": "pie"
           }
          ],
          "scatter": [
           {
            "fillpattern": {
             "fillmode": "overlay",
             "size": 10,
             "solidity": 0.2
            },
            "type": "scatter"
           }
          ],
          "scatter3d": [
           {
            "line": {
             "colorbar": {
              "outlinewidth": 0,
              "ticks": ""
             }
            },
            "marker": {
             "colorbar": {
              "outlinewidth": 0,
              "ticks": ""
             }
            },
            "type": "scatter3d"
           }
          ],
          "scattercarpet": [
           {
            "marker": {
             "colorbar": {
              "outlinewidth": 0,
              "ticks": ""
             }
            },
            "type": "scattercarpet"
           }
          ],
          "scattergeo": [
           {
            "marker": {
             "colorbar": {
              "outlinewidth": 0,
              "ticks": ""
             }
            },
            "type": "scattergeo"
           }
          ],
          "scattergl": [
           {
            "marker": {
             "colorbar": {
              "outlinewidth": 0,
              "ticks": ""
             }
            },
            "type": "scattergl"
           }
          ],
          "scattermapbox": [
           {
            "marker": {
             "colorbar": {
              "outlinewidth": 0,
              "ticks": ""
             }
            },
            "type": "scattermapbox"
           }
          ],
          "scatterpolar": [
           {
            "marker": {
             "colorbar": {
              "outlinewidth": 0,
              "ticks": ""
             }
            },
            "type": "scatterpolar"
           }
          ],
          "scatterpolargl": [
           {
            "marker": {
             "colorbar": {
              "outlinewidth": 0,
              "ticks": ""
             }
            },
            "type": "scatterpolargl"
           }
          ],
          "scatterternary": [
           {
            "marker": {
             "colorbar": {
              "outlinewidth": 0,
              "ticks": ""
             }
            },
            "type": "scatterternary"
           }
          ],
          "surface": [
           {
            "colorbar": {
             "outlinewidth": 0,
             "ticks": ""
            },
            "colorscale": [
             [
              0,
              "#0d0887"
             ],
             [
              0.1111111111111111,
              "#46039f"
             ],
             [
              0.2222222222222222,
              "#7201a8"
             ],
             [
              0.3333333333333333,
              "#9c179e"
             ],
             [
              0.4444444444444444,
              "#bd3786"
             ],
             [
              0.5555555555555556,
              "#d8576b"
             ],
             [
              0.6666666666666666,
              "#ed7953"
             ],
             [
              0.7777777777777778,
              "#fb9f3a"
             ],
             [
              0.8888888888888888,
              "#fdca26"
             ],
             [
              1,
              "#f0f921"
             ]
            ],
            "type": "surface"
           }
          ],
          "table": [
           {
            "cells": {
             "fill": {
              "color": "#EBF0F8"
             },
             "line": {
              "color": "white"
             }
            },
            "header": {
             "fill": {
              "color": "#C8D4E3"
             },
             "line": {
              "color": "white"
             }
            },
            "type": "table"
           }
          ]
         },
         "layout": {
          "annotationdefaults": {
           "arrowcolor": "#2a3f5f",
           "arrowhead": 0,
           "arrowwidth": 1
          },
          "autotypenumbers": "strict",
          "coloraxis": {
           "colorbar": {
            "outlinewidth": 0,
            "ticks": ""
           }
          },
          "colorscale": {
           "diverging": [
            [
             0,
             "#8e0152"
            ],
            [
             0.1,
             "#c51b7d"
            ],
            [
             0.2,
             "#de77ae"
            ],
            [
             0.3,
             "#f1b6da"
            ],
            [
             0.4,
             "#fde0ef"
            ],
            [
             0.5,
             "#f7f7f7"
            ],
            [
             0.6,
             "#e6f5d0"
            ],
            [
             0.7,
             "#b8e186"
            ],
            [
             0.8,
             "#7fbc41"
            ],
            [
             0.9,
             "#4d9221"
            ],
            [
             1,
             "#276419"
            ]
           ],
           "sequential": [
            [
             0,
             "#0d0887"
            ],
            [
             0.1111111111111111,
             "#46039f"
            ],
            [
             0.2222222222222222,
             "#7201a8"
            ],
            [
             0.3333333333333333,
             "#9c179e"
            ],
            [
             0.4444444444444444,
             "#bd3786"
            ],
            [
             0.5555555555555556,
             "#d8576b"
            ],
            [
             0.6666666666666666,
             "#ed7953"
            ],
            [
             0.7777777777777778,
             "#fb9f3a"
            ],
            [
             0.8888888888888888,
             "#fdca26"
            ],
            [
             1,
             "#f0f921"
            ]
           ],
           "sequentialminus": [
            [
             0,
             "#0d0887"
            ],
            [
             0.1111111111111111,
             "#46039f"
            ],
            [
             0.2222222222222222,
             "#7201a8"
            ],
            [
             0.3333333333333333,
             "#9c179e"
            ],
            [
             0.4444444444444444,
             "#bd3786"
            ],
            [
             0.5555555555555556,
             "#d8576b"
            ],
            [
             0.6666666666666666,
             "#ed7953"
            ],
            [
             0.7777777777777778,
             "#fb9f3a"
            ],
            [
             0.8888888888888888,
             "#fdca26"
            ],
            [
             1,
             "#f0f921"
            ]
           ]
          },
          "colorway": [
           "#636efa",
           "#EF553B",
           "#00cc96",
           "#ab63fa",
           "#FFA15A",
           "#19d3f3",
           "#FF6692",
           "#B6E880",
           "#FF97FF",
           "#FECB52"
          ],
          "font": {
           "color": "#2a3f5f"
          },
          "geo": {
           "bgcolor": "white",
           "lakecolor": "white",
           "landcolor": "#E5ECF6",
           "showlakes": true,
           "showland": true,
           "subunitcolor": "white"
          },
          "hoverlabel": {
           "align": "left"
          },
          "hovermode": "closest",
          "mapbox": {
           "style": "light"
          },
          "paper_bgcolor": "white",
          "plot_bgcolor": "#E5ECF6",
          "polar": {
           "angularaxis": {
            "gridcolor": "white",
            "linecolor": "white",
            "ticks": ""
           },
           "bgcolor": "#E5ECF6",
           "radialaxis": {
            "gridcolor": "white",
            "linecolor": "white",
            "ticks": ""
           }
          },
          "scene": {
           "xaxis": {
            "backgroundcolor": "#E5ECF6",
            "gridcolor": "white",
            "gridwidth": 2,
            "linecolor": "white",
            "showbackground": true,
            "ticks": "",
            "zerolinecolor": "white"
           },
           "yaxis": {
            "backgroundcolor": "#E5ECF6",
            "gridcolor": "white",
            "gridwidth": 2,
            "linecolor": "white",
            "showbackground": true,
            "ticks": "",
            "zerolinecolor": "white"
           },
           "zaxis": {
            "backgroundcolor": "#E5ECF6",
            "gridcolor": "white",
            "gridwidth": 2,
            "linecolor": "white",
            "showbackground": true,
            "ticks": "",
            "zerolinecolor": "white"
           }
          },
          "shapedefaults": {
           "line": {
            "color": "#2a3f5f"
           }
          },
          "ternary": {
           "aaxis": {
            "gridcolor": "white",
            "linecolor": "white",
            "ticks": ""
           },
           "baxis": {
            "gridcolor": "white",
            "linecolor": "white",
            "ticks": ""
           },
           "bgcolor": "#E5ECF6",
           "caxis": {
            "gridcolor": "white",
            "linecolor": "white",
            "ticks": ""
           }
          },
          "title": {
           "x": 0.05
          },
          "xaxis": {
           "automargin": true,
           "gridcolor": "white",
           "linecolor": "white",
           "ticks": "",
           "title": {
            "standoff": 15
           },
           "zerolinecolor": "white",
           "zerolinewidth": 2
          },
          "yaxis": {
           "automargin": true,
           "gridcolor": "white",
           "linecolor": "white",
           "ticks": "",
           "title": {
            "standoff": 15
           },
           "zerolinecolor": "white",
           "zerolinewidth": 2
          }
         }
        },
        "title": {
         "text": "Average Rating by Genre"
        },
        "xaxis": {
         "anchor": "y",
         "domain": [
          0,
          1
         ],
         "title": {
          "text": "Genre"
         }
        },
        "yaxis": {
         "anchor": "x",
         "domain": [
          0,
          1
         ],
         "title": {
          "text": "Average Rating"
         }
        }
       }
      },
      "text/html": [
       "<div>                            <div id=\"4591ca80-f318-48f9-acf3-7d763f94d040\" class=\"plotly-graph-div\" style=\"height:525px; width:100%;\"></div>            <script type=\"text/javascript\">                require([\"plotly\"], function(Plotly) {                    window.PLOTLYENV=window.PLOTLYENV || {};                                    if (document.getElementById(\"4591ca80-f318-48f9-acf3-7d763f94d040\")) {                    Plotly.newPlot(                        \"4591ca80-f318-48f9-acf3-7d763f94d040\",                        [{\"alignmentgroup\":\"True\",\"hovertemplate\":\"genre=%{x}<br>rating=%{y}<extra></extra>\",\"legendgroup\":\"\",\"marker\":{\"color\":\"#636efa\",\"pattern\":{\"shape\":\"\"}},\"name\":\"\",\"offsetgroup\":\"\",\"orientation\":\"v\",\"showlegend\":false,\"textposition\":\"auto\",\"x\":[\"Action,Adventure\",\"Action,Adventure,Comedy\",\"Action,Adventure,Drama\",\"Action,Adventure,Fantasy\",\"Action,Adventure,Mystery\",\"Action,Adventure,Sci-Fi\",\"Action,Biography,Drama\",\"Action,Comedy,Crime\",\"Action,Comedy,Romance\",\"Action,Crime,Drama\",\"Action,Drama\",\"Action,Drama,Mystery\",\"Action,Drama,Sci-Fi\",\"Action,Drama,Sport\",\"Action,Drama,Thriller\",\"Action,Drama,War\",\"Action,Sci-Fi\",\"Action,Thriller\",\"Adventure,Biography,Drama\",\"Adventure,Comedy,Crime\",\"Adventure,Comedy,Drama\",\"Adventure,Comedy,Fantasy\",\"Adventure,Comedy,Sci-Fi\",\"Adventure,Drama\",\"Adventure,Drama,History\",\"Adventure,Drama,Sci-Fi\",\"Adventure,Drama,Thriller\",\"Adventure,Drama,War\",\"Adventure,Drama,Western\",\"Adventure,Family,Fantasy\",\"Adventure,Sci-Fi\",\"Adventure,Thriller\",\"Adventure,Western\",\"Animation,Action,Adventure\",\"Animation,Adventure,Comedy\",\"Animation,Adventure,Drama\",\"Animation,Adventure,Family\",\"Animation,Comedy,Drama\",\"Animation,Comedy,Family\",\"Animation,Drama,Fantasy\",\"Animation,Drama,War\",\"Biography,Comedy,Crime\",\"Biography,Comedy,Drama\",\"Biography,Crime,Drama\",\"Biography,Drama\",\"Biography,Drama,Family\",\"Biography,Drama,History\",\"Biography,Drama,Music\",\"Biography,Drama,Sport\",\"Comedy\",\"Comedy,Crime\",\"Comedy,Crime,Drama\",\"Comedy,Drama\",\"Comedy,Drama,Family\",\"Comedy,Drama,Fantasy\",\"Comedy,Drama,Romance\",\"Comedy,Drama,Thriller\",\"Comedy,Drama,War\",\"Comedy,Music,Romance\",\"Comedy,Musical,Romance\",\"Comedy,Romance\",\"Comedy,Romance,War\",\"Comedy,War\",\"Crime,Drama\",\"Crime,Drama,Fantasy\",\"Crime,Drama,Film-Noir\",\"Crime,Drama,Mystery\",\"Crime,Drama,Thriller\",\"Crime,Mystery,Thriller\",\"Crime,Sci-Fi\",\"Crime,Thriller\",\"Drama\",\"Drama,Family\",\"Drama,Family,Fantasy\",\"Drama,Family,Sport\",\"Drama,Fantasy\",\"Drama,Fantasy,War\",\"Drama,Film-Noir\",\"Drama,Film-Noir,Mystery\",\"Drama,Horror\",\"Drama,Music\",\"Drama,Mystery\",\"Drama,Mystery,Romance\",\"Drama,Mystery,Sci-Fi\",\"Drama,Mystery,Thriller\",\"Drama,Mystery,War\",\"Drama,Romance\",\"Drama,Romance,Sci-Fi\",\"Drama,Romance,Thriller\",\"Drama,Romance,War\",\"Drama,Sci-Fi\",\"Drama,Sport\",\"Drama,Thriller\",\"Drama,Thriller,War\",\"Drama,War\",\"Drama,Western\",\"Film-Noir,Mystery,Thriller\",\"Horror\",\"Horror,Mystery,Sci-Fi\",\"Horror,Mystery,Thriller\",\"Horror,Sci-Fi\",\"Mystery,Romance,Thriller\",\"Mystery,Thriller\",\"Western\"],\"xaxis\":\"x\",\"y\":[8.3,8.1,8.7,8.379999999999999,8.3,8.379999999999999,8.166666666666666,8.2,8.2,8.440000000000001,8.433333333333334,8.5,8.133333333333333,8.2,8.2,8.2,8.466666666666667,8.2,8.200000000000001,8.1,8.1,8.2,8.5,8.1,8.2,8.6,8.2,8.200000000000001,8.1,8.1,8.3,8.1,8.8,8.2,8.209999999999999,8.5,8.4,8.1,8.1,8.4,8.5,8.2,8.35,8.25,8.2,8.1,8.277777777777779,8.45,8.2,8.0,8.149999999999999,8.2,8.2,8.3,8.1,8.475,8.1,8.4,8.2,8.3,8.2,8.2,8.4,8.485714285714286,8.6,8.3,8.366666666666667,8.36,8.3,8.3,8.200000000000001,8.342105263157896,8.25,8.6,8.2,8.1,8.2,8.4,8.1,8.4,8.5,8.266666666666667,8.2,8.5,8.225,8.5,8.316666666666666,8.3,8.1,8.266666666666666,8.3,8.1,8.2,8.4,8.2875,8.3,8.1,8.1,8.2,8.5,8.5,8.3,8.366666666666667,8.35],\"yaxis\":\"y\",\"type\":\"bar\"}],                        {\"template\":{\"data\":{\"histogram2dcontour\":[{\"type\":\"histogram2dcontour\",\"colorbar\":{\"outlinewidth\":0,\"ticks\":\"\"},\"colorscale\":[[0.0,\"#0d0887\"],[0.1111111111111111,\"#46039f\"],[0.2222222222222222,\"#7201a8\"],[0.3333333333333333,\"#9c179e\"],[0.4444444444444444,\"#bd3786\"],[0.5555555555555556,\"#d8576b\"],[0.6666666666666666,\"#ed7953\"],[0.7777777777777778,\"#fb9f3a\"],[0.8888888888888888,\"#fdca26\"],[1.0,\"#f0f921\"]]}],\"choropleth\":[{\"type\":\"choropleth\",\"colorbar\":{\"outlinewidth\":0,\"ticks\":\"\"}}],\"histogram2d\":[{\"type\":\"histogram2d\",\"colorbar\":{\"outlinewidth\":0,\"ticks\":\"\"},\"colorscale\":[[0.0,\"#0d0887\"],[0.1111111111111111,\"#46039f\"],[0.2222222222222222,\"#7201a8\"],[0.3333333333333333,\"#9c179e\"],[0.4444444444444444,\"#bd3786\"],[0.5555555555555556,\"#d8576b\"],[0.6666666666666666,\"#ed7953\"],[0.7777777777777778,\"#fb9f3a\"],[0.8888888888888888,\"#fdca26\"],[1.0,\"#f0f921\"]]}],\"heatmap\":[{\"type\":\"heatmap\",\"colorbar\":{\"outlinewidth\":0,\"ticks\":\"\"},\"colorscale\":[[0.0,\"#0d0887\"],[0.1111111111111111,\"#46039f\"],[0.2222222222222222,\"#7201a8\"],[0.3333333333333333,\"#9c179e\"],[0.4444444444444444,\"#bd3786\"],[0.5555555555555556,\"#d8576b\"],[0.6666666666666666,\"#ed7953\"],[0.7777777777777778,\"#fb9f3a\"],[0.8888888888888888,\"#fdca26\"],[1.0,\"#f0f921\"]]}],\"heatmapgl\":[{\"type\":\"heatmapgl\",\"colorbar\":{\"outlinewidth\":0,\"ticks\":\"\"},\"colorscale\":[[0.0,\"#0d0887\"],[0.1111111111111111,\"#46039f\"],[0.2222222222222222,\"#7201a8\"],[0.3333333333333333,\"#9c179e\"],[0.4444444444444444,\"#bd3786\"],[0.5555555555555556,\"#d8576b\"],[0.6666666666666666,\"#ed7953\"],[0.7777777777777778,\"#fb9f3a\"],[0.8888888888888888,\"#fdca26\"],[1.0,\"#f0f921\"]]}],\"contourcarpet\":[{\"type\":\"contourcarpet\",\"colorbar\":{\"outlinewidth\":0,\"ticks\":\"\"}}],\"contour\":[{\"type\":\"contour\",\"colorbar\":{\"outlinewidth\":0,\"ticks\":\"\"},\"colorscale\":[[0.0,\"#0d0887\"],[0.1111111111111111,\"#46039f\"],[0.2222222222222222,\"#7201a8\"],[0.3333333333333333,\"#9c179e\"],[0.4444444444444444,\"#bd3786\"],[0.5555555555555556,\"#d8576b\"],[0.6666666666666666,\"#ed7953\"],[0.7777777777777778,\"#fb9f3a\"],[0.8888888888888888,\"#fdca26\"],[1.0,\"#f0f921\"]]}],\"surface\":[{\"type\":\"surface\",\"colorbar\":{\"outlinewidth\":0,\"ticks\":\"\"},\"colorscale\":[[0.0,\"#0d0887\"],[0.1111111111111111,\"#46039f\"],[0.2222222222222222,\"#7201a8\"],[0.3333333333333333,\"#9c179e\"],[0.4444444444444444,\"#bd3786\"],[0.5555555555555556,\"#d8576b\"],[0.6666666666666666,\"#ed7953\"],[0.7777777777777778,\"#fb9f3a\"],[0.8888888888888888,\"#fdca26\"],[1.0,\"#f0f921\"]]}],\"mesh3d\":[{\"type\":\"mesh3d\",\"colorbar\":{\"outlinewidth\":0,\"ticks\":\"\"}}],\"scatter\":[{\"fillpattern\":{\"fillmode\":\"overlay\",\"size\":10,\"solidity\":0.2},\"type\":\"scatter\"}],\"parcoords\":[{\"type\":\"parcoords\",\"line\":{\"colorbar\":{\"outlinewidth\":0,\"ticks\":\"\"}}}],\"scatterpolargl\":[{\"type\":\"scatterpolargl\",\"marker\":{\"colorbar\":{\"outlinewidth\":0,\"ticks\":\"\"}}}],\"bar\":[{\"error_x\":{\"color\":\"#2a3f5f\"},\"error_y\":{\"color\":\"#2a3f5f\"},\"marker\":{\"line\":{\"color\":\"#E5ECF6\",\"width\":0.5},\"pattern\":{\"fillmode\":\"overlay\",\"size\":10,\"solidity\":0.2}},\"type\":\"bar\"}],\"scattergeo\":[{\"type\":\"scattergeo\",\"marker\":{\"colorbar\":{\"outlinewidth\":0,\"ticks\":\"\"}}}],\"scatterpolar\":[{\"type\":\"scatterpolar\",\"marker\":{\"colorbar\":{\"outlinewidth\":0,\"ticks\":\"\"}}}],\"histogram\":[{\"marker\":{\"pattern\":{\"fillmode\":\"overlay\",\"size\":10,\"solidity\":0.2}},\"type\":\"histogram\"}],\"scattergl\":[{\"type\":\"scattergl\",\"marker\":{\"colorbar\":{\"outlinewidth\":0,\"ticks\":\"\"}}}],\"scatter3d\":[{\"type\":\"scatter3d\",\"line\":{\"colorbar\":{\"outlinewidth\":0,\"ticks\":\"\"}},\"marker\":{\"colorbar\":{\"outlinewidth\":0,\"ticks\":\"\"}}}],\"scattermapbox\":[{\"type\":\"scattermapbox\",\"marker\":{\"colorbar\":{\"outlinewidth\":0,\"ticks\":\"\"}}}],\"scatterternary\":[{\"type\":\"scatterternary\",\"marker\":{\"colorbar\":{\"outlinewidth\":0,\"ticks\":\"\"}}}],\"scattercarpet\":[{\"type\":\"scattercarpet\",\"marker\":{\"colorbar\":{\"outlinewidth\":0,\"ticks\":\"\"}}}],\"carpet\":[{\"aaxis\":{\"endlinecolor\":\"#2a3f5f\",\"gridcolor\":\"white\",\"linecolor\":\"white\",\"minorgridcolor\":\"white\",\"startlinecolor\":\"#2a3f5f\"},\"baxis\":{\"endlinecolor\":\"#2a3f5f\",\"gridcolor\":\"white\",\"linecolor\":\"white\",\"minorgridcolor\":\"white\",\"startlinecolor\":\"#2a3f5f\"},\"type\":\"carpet\"}],\"table\":[{\"cells\":{\"fill\":{\"color\":\"#EBF0F8\"},\"line\":{\"color\":\"white\"}},\"header\":{\"fill\":{\"color\":\"#C8D4E3\"},\"line\":{\"color\":\"white\"}},\"type\":\"table\"}],\"barpolar\":[{\"marker\":{\"line\":{\"color\":\"#E5ECF6\",\"width\":0.5},\"pattern\":{\"fillmode\":\"overlay\",\"size\":10,\"solidity\":0.2}},\"type\":\"barpolar\"}],\"pie\":[{\"automargin\":true,\"type\":\"pie\"}]},\"layout\":{\"autotypenumbers\":\"strict\",\"colorway\":[\"#636efa\",\"#EF553B\",\"#00cc96\",\"#ab63fa\",\"#FFA15A\",\"#19d3f3\",\"#FF6692\",\"#B6E880\",\"#FF97FF\",\"#FECB52\"],\"font\":{\"color\":\"#2a3f5f\"},\"hovermode\":\"closest\",\"hoverlabel\":{\"align\":\"left\"},\"paper_bgcolor\":\"white\",\"plot_bgcolor\":\"#E5ECF6\",\"polar\":{\"bgcolor\":\"#E5ECF6\",\"angularaxis\":{\"gridcolor\":\"white\",\"linecolor\":\"white\",\"ticks\":\"\"},\"radialaxis\":{\"gridcolor\":\"white\",\"linecolor\":\"white\",\"ticks\":\"\"}},\"ternary\":{\"bgcolor\":\"#E5ECF6\",\"aaxis\":{\"gridcolor\":\"white\",\"linecolor\":\"white\",\"ticks\":\"\"},\"baxis\":{\"gridcolor\":\"white\",\"linecolor\":\"white\",\"ticks\":\"\"},\"caxis\":{\"gridcolor\":\"white\",\"linecolor\":\"white\",\"ticks\":\"\"}},\"coloraxis\":{\"colorbar\":{\"outlinewidth\":0,\"ticks\":\"\"}},\"colorscale\":{\"sequential\":[[0.0,\"#0d0887\"],[0.1111111111111111,\"#46039f\"],[0.2222222222222222,\"#7201a8\"],[0.3333333333333333,\"#9c179e\"],[0.4444444444444444,\"#bd3786\"],[0.5555555555555556,\"#d8576b\"],[0.6666666666666666,\"#ed7953\"],[0.7777777777777778,\"#fb9f3a\"],[0.8888888888888888,\"#fdca26\"],[1.0,\"#f0f921\"]],\"sequentialminus\":[[0.0,\"#0d0887\"],[0.1111111111111111,\"#46039f\"],[0.2222222222222222,\"#7201a8\"],[0.3333333333333333,\"#9c179e\"],[0.4444444444444444,\"#bd3786\"],[0.5555555555555556,\"#d8576b\"],[0.6666666666666666,\"#ed7953\"],[0.7777777777777778,\"#fb9f3a\"],[0.8888888888888888,\"#fdca26\"],[1.0,\"#f0f921\"]],\"diverging\":[[0,\"#8e0152\"],[0.1,\"#c51b7d\"],[0.2,\"#de77ae\"],[0.3,\"#f1b6da\"],[0.4,\"#fde0ef\"],[0.5,\"#f7f7f7\"],[0.6,\"#e6f5d0\"],[0.7,\"#b8e186\"],[0.8,\"#7fbc41\"],[0.9,\"#4d9221\"],[1,\"#276419\"]]},\"xaxis\":{\"gridcolor\":\"white\",\"linecolor\":\"white\",\"ticks\":\"\",\"title\":{\"standoff\":15},\"zerolinecolor\":\"white\",\"automargin\":true,\"zerolinewidth\":2},\"yaxis\":{\"gridcolor\":\"white\",\"linecolor\":\"white\",\"ticks\":\"\",\"title\":{\"standoff\":15},\"zerolinecolor\":\"white\",\"automargin\":true,\"zerolinewidth\":2},\"scene\":{\"xaxis\":{\"backgroundcolor\":\"#E5ECF6\",\"gridcolor\":\"white\",\"linecolor\":\"white\",\"showbackground\":true,\"ticks\":\"\",\"zerolinecolor\":\"white\",\"gridwidth\":2},\"yaxis\":{\"backgroundcolor\":\"#E5ECF6\",\"gridcolor\":\"white\",\"linecolor\":\"white\",\"showbackground\":true,\"ticks\":\"\",\"zerolinecolor\":\"white\",\"gridwidth\":2},\"zaxis\":{\"backgroundcolor\":\"#E5ECF6\",\"gridcolor\":\"white\",\"linecolor\":\"white\",\"showbackground\":true,\"ticks\":\"\",\"zerolinecolor\":\"white\",\"gridwidth\":2}},\"shapedefaults\":{\"line\":{\"color\":\"#2a3f5f\"}},\"annotationdefaults\":{\"arrowcolor\":\"#2a3f5f\",\"arrowhead\":0,\"arrowwidth\":1},\"geo\":{\"bgcolor\":\"white\",\"landcolor\":\"#E5ECF6\",\"subunitcolor\":\"white\",\"showland\":true,\"showlakes\":true,\"lakecolor\":\"white\"},\"title\":{\"x\":0.05},\"mapbox\":{\"style\":\"light\"}}},\"xaxis\":{\"anchor\":\"y\",\"domain\":[0.0,1.0],\"title\":{\"text\":\"Genre\"}},\"yaxis\":{\"anchor\":\"x\",\"domain\":[0.0,1.0],\"title\":{\"text\":\"Average Rating\"}},\"legend\":{\"tracegroupgap\":0},\"title\":{\"text\":\"Average Rating by Genre\"},\"barmode\":\"relative\"},                        {\"responsive\": true}                    ).then(function(){\n",
       "                            \n",
       "var gd = document.getElementById('4591ca80-f318-48f9-acf3-7d763f94d040');\n",
       "var x = new MutationObserver(function (mutations, observer) {{\n",
       "        var display = window.getComputedStyle(gd).display;\n",
       "        if (!display || display === 'none') {{\n",
       "            console.log([gd, 'removed!']);\n",
       "            Plotly.purge(gd);\n",
       "            observer.disconnect();\n",
       "        }}\n",
       "}});\n",
       "\n",
       "// Listen for the removal of the full notebook cells\n",
       "var notebookContainer = gd.closest('#notebook-container');\n",
       "if (notebookContainer) {{\n",
       "    x.observe(notebookContainer, {childList: true});\n",
       "}}\n",
       "\n",
       "// Listen for the clearing of the current output cell\n",
       "var outputEl = gd.closest('.output');\n",
       "if (outputEl) {{\n",
       "    x.observe(outputEl, {childList: true});\n",
       "}}\n",
       "\n",
       "                        })                };                });            </script>        </div>"
      ]
     },
     "metadata": {},
     "output_type": "display_data"
    }
   ],
   "source": [
    "grouped_df = movies_data.groupby('genre')['rating'].mean().reset_index()\n",
    "fig = px.bar(grouped_df, x='genre', y='rating', title='Average Rating by Genre')\n",
    "fig.update_layout(xaxis_title='Genre', yaxis_title='Average Rating')\n",
    "fig.show()"
   ]
  },
  {
   "cell_type": "markdown",
   "id": "e5351373",
   "metadata": {},
   "source": [
    "This figure groups the genres from the dataset to the average rating"
   ]
  },
  {
   "cell_type": "code",
   "execution_count": 68,
   "id": "c4e7fd98",
   "metadata": {},
   "outputs": [
    {
     "data": {
      "image/png": "[encoded data removed]",
      "text/plain": [
       "<Figure size 3500x400 with 1 Axes>"
      ]
     },
     "metadata": {},
     "output_type": "display_data"
    }
   ],
   "source": [
    "df_genre_agg_group = movies_data[['genre','rating']].groupby(['genre']).mean().reset_index()\n",
    "\n",
    "ax = df_genre_agg_group.plot.bar(x='genre', y='rating')\n",
    "ax.figure.set_size_inches(35,4)\n",
    "ax.set_title(\"Average Movie Rating Per Genre\")\n",
    "\n",
    "plt.ylabel('Rating')\n",
    "plt.xlabel('Genre')\n",
    "plt.show()"
   ]
  },
  {
   "cell_type": "markdown",
   "id": "24d76593",
   "metadata": {},
   "source": [
    "The graph above takes all of the genres in the dataset and groups them by rating"
   ]
  },
  {
   "cell_type": "code",
   "execution_count": null,
   "id": "d793aa7d",
   "metadata": {},
   "outputs": [],
   "source": []
  }
 ],
 "metadata": {
  "kernelspec": {
   "display_name": "Python 3 (ipykernel)",
   "language": "python",
   "name": "python3"
  },
  "language_info": {
   "codemirror_mode": {
    "name": "ipython",
    "version": 3
   },
   "file_extension": ".py",
   "mimetype": "text/x-python",
   "name": "python",
   "nbconvert_exporter": "python",
   "pygments_lexer": "ipython3",
   "version": "3.9.13"
  }
 },
 "nbformat": 4,
 "nbformat_minor": 5
}
